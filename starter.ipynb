{
 "cells": [
  {
   "cell_type": "markdown",
   "metadata": {},
   "source": [
    "# Deploy and monitor a machine learning workflow for Image Classification"
   ]
  },
  {
   "cell_type": "markdown",
   "metadata": {},
   "source": [
    "## Setting up this notebook\n",
    "\n",
    "Notes about the instance size and kernel setup: this notebook has been tested on\n",
    "\n",
    "1. The `Python 3 (Data Science)` kernel\n",
    "2. The `ml.t3.medium` Sagemaker notebook instance\n",
    "\n",
    "## Data Staging\n",
    "\n",
    "We'll use a sample dataset called CIFAR to simulate the challenges Scones Unlimited are facing in Image Classification. In order to start working with CIFAR we'll need to:\n",
    "\n",
    "1. Extract the data from a hosting service\n",
    "2. Transform it into a usable shape and format\n",
    "3. Load it into a production system\n",
    "\n",
    "In other words, we're going to do some simple ETL!\n",
    "\n",
    "### 1. Extract the data from the hosting service\n",
    "\n",
    "In the cell below, define a function `extract_cifar_data` that extracts python version of the CIFAR-100 dataset. The CIFAR dataaset is open source and generously hosted by the University of Toronto at: https://www.cs.toronto.edu/~kriz/cifar-100-python.tar.gz "
   ]
  },
  {
   "cell_type": "code",
   "execution_count": 2,
   "metadata": {
    "tags": []
   },
   "outputs": [],
   "source": [
    "import requests\n",
    "\n",
    "def extract_cifar_data(url, filename=\"cifar.tar.gz\"):\n",
    "    \"\"\"A function for extracting the CIFAR-100 dataset and storing it as a gzipped file\n",
    "    \n",
    "    Arguments:\n",
    "    url      -- the URL where the dataset is hosted\n",
    "    filename -- the full path where the dataset will be written\n",
    "    \n",
    "    \"\"\"\n",
    "    \n",
    "    # Todo: request the data from the data url\n",
    "    # Hint: use `requests.get` method\n",
    "    r = requests.get(url)\n",
    "    with open(filename, \"wb\") as file_context:\n",
    "        file_context.write(r.content)\n",
    "    return"
   ]
  },
  {
   "cell_type": "markdown",
   "metadata": {},
   "source": [
    "Let's test it out! Run the following cell and check whether a new file `cifar.tar.gz` is created in the file explorer."
   ]
  },
  {
   "cell_type": "code",
   "execution_count": 3,
   "metadata": {
    "tags": []
   },
   "outputs": [],
   "source": [
    "extract_cifar_data(\"https://www.cs.toronto.edu/~kriz/cifar-100-python.tar.gz\")     "
   ]
  },
  {
   "cell_type": "markdown",
   "metadata": {},
   "source": [
    "### 2. Transform the data into a usable shape and format\n",
    "\n",
    "Clearly, distributing the data as a gzipped archive makes sense for the hosting service! It saves on bandwidth, storage, and it's a widely-used archive format. In fact, it's so widely used that the Python community ships a utility for working with them, `tarfile`, as part of its Standard Library. Execute the following cell to decompress your extracted dataset:"
   ]
  },
  {
   "cell_type": "code",
   "execution_count": 4,
   "metadata": {
    "tags": []
   },
   "outputs": [],
   "source": [
    "import tarfile\n",
    "\n",
    "with tarfile.open(\"cifar.tar.gz\", \"r:gz\") as tar:\n",
    "    tar.extractall()"
   ]
  },
  {
   "cell_type": "markdown",
   "metadata": {},
   "source": [
    "A new folder `cifar-100-python` should be created, containing `meta`, `test`, and `train` files. These files are `pickles` and the [CIFAR homepage](https://www.cs.toronto.edu/~kriz/cifar.html) provides a simple script that can be used to load them. We've adapted the script below for you to run:"
   ]
  },
  {
   "cell_type": "code",
   "execution_count": 5,
   "metadata": {
    "tags": []
   },
   "outputs": [],
   "source": [
    "import pickle\n",
    "\n",
    "with open(\"./cifar-100-python/meta\", \"rb\") as f:\n",
    "    dataset_meta = pickle.load(f, encoding='bytes')\n",
    "\n",
    "with open(\"./cifar-100-python/test\", \"rb\") as f:\n",
    "    dataset_test = pickle.load(f, encoding='bytes')\n",
    "\n",
    "with open(\"./cifar-100-python/train\", \"rb\") as f:\n",
    "    dataset_train = pickle.load(f, encoding='bytes')"
   ]
  },
  {
   "cell_type": "code",
   "execution_count": 6,
   "metadata": {
    "tags": []
   },
   "outputs": [
    {
     "data": {
      "text/plain": [
       "dict_keys([b'filenames', b'batch_label', b'fine_labels', b'coarse_labels', b'data'])"
      ]
     },
     "execution_count": 6,
     "metadata": {},
     "output_type": "execute_result"
    }
   ],
   "source": [
    "# Feel free to explore the datasets\n",
    "\n",
    "dataset_train.keys()"
   ]
  },
  {
   "cell_type": "markdown",
   "metadata": {},
   "source": [
    "As documented on the homepage, `b'data'` contains rows of 3073 unsigned integers, representing three channels (red, green, and blue) for one 32x32 pixel image per row."
   ]
  },
  {
   "cell_type": "code",
   "execution_count": 7,
   "metadata": {
    "tags": []
   },
   "outputs": [
    {
     "data": {
      "text/plain": [
       "3072"
      ]
     },
     "execution_count": 7,
     "metadata": {},
     "output_type": "execute_result"
    }
   ],
   "source": [
    "32*32*3"
   ]
  },
  {
   "cell_type": "markdown",
   "metadata": {},
   "source": [
    "For a simple gut-check, let's transform one of our images. Each 1024 items in a row is a channel (red, green, then blue). Each 32 items in the channel are a row in the 32x32 image. Using python, we can stack these channels into a 32x32x3 array, and save it as a PNG file:"
   ]
  },
  {
   "cell_type": "code",
   "execution_count": 8,
   "metadata": {
    "tags": []
   },
   "outputs": [],
   "source": [
    "import numpy as np\n",
    "\n",
    "# Each 1024 in a row is a channel (red, green, then blue)\n",
    "row = dataset_train[b'data'][0]\n",
    "red, green, blue = row[0:1024], row[1024:2048], row[2048:]\n",
    "\n",
    "# Each 32 items in the channel are a row in the 32x32 image\n",
    "red = red.reshape(32,32)\n",
    "green = green.reshape(32,32)\n",
    "blue = blue.reshape(32,32)\n",
    "\n",
    "# Combine the channels into a 32x32x3 image!\n",
    "combined = np.dstack((red,green,blue))"
   ]
  },
  {
   "cell_type": "markdown",
   "metadata": {},
   "source": [
    "For a more concise version, consider the following:"
   ]
  },
  {
   "cell_type": "code",
   "execution_count": 9,
   "metadata": {
    "tags": []
   },
   "outputs": [],
   "source": [
    "# All in one:\n",
    "test_image = np.dstack((\n",
    "    row[0:1024].reshape(32,32),\n",
    "    row[1024:2048].reshape(32,32),\n",
    "    row[2048:].reshape(32,32)\n",
    "))"
   ]
  },
  {
   "cell_type": "code",
   "execution_count": 10,
   "metadata": {
    "tags": []
   },
   "outputs": [
    {
     "data": {
      "image/png": "[encoded data removed]",
      "text/plain": [
       "<Figure size 640x480 with 1 Axes>"
      ]
     },
     "metadata": {},
     "output_type": "display_data"
    }
   ],
   "source": [
    "import matplotlib.pyplot as plt\n",
    "plt.imshow(test_image);"
   ]
  },
  {
   "cell_type": "markdown",
   "metadata": {},
   "source": [
    "Looks like a cow! Let's check the label. `dataset_meta` contains label names in order, and `dataset_train` has a list of labels for each row."
   ]
  },
  {
   "cell_type": "code",
   "execution_count": 11,
   "metadata": {
    "tags": []
   },
   "outputs": [
    {
     "data": {
      "text/plain": [
       "19"
      ]
     },
     "execution_count": 11,
     "metadata": {},
     "output_type": "execute_result"
    }
   ],
   "source": [
    "dataset_train[b'fine_labels'][0]"
   ]
  },
  {
   "cell_type": "markdown",
   "metadata": {},
   "source": [
    "Our image has a label of `19`, so let's see what the 19th item is in the list of label names."
   ]
  },
  {
   "cell_type": "code",
   "execution_count": 12,
   "metadata": {
    "tags": []
   },
   "outputs": [
    {
     "name": "stdout",
     "output_type": "stream",
     "text": [
      "b'cattle'\n"
     ]
    }
   ],
   "source": [
    "print(dataset_meta[b'fine_label_names'][19])"
   ]
  },
  {
   "cell_type": "markdown",
   "metadata": {},
   "source": [
    "Ok! 'cattle' sounds about right. By the way, using the previous two lines we can do:"
   ]
  },
  {
   "cell_type": "code",
   "execution_count": 13,
   "metadata": {
    "tags": []
   },
   "outputs": [
    {
     "name": "stdout",
     "output_type": "stream",
     "text": [
      "b'cattle'\n"
     ]
    }
   ],
   "source": [
    "n = 0\n",
    "print(dataset_meta[b'fine_label_names'][dataset_train[b'fine_labels'][n]])"
   ]
  },
  {
   "cell_type": "markdown",
   "metadata": {},
   "source": [
    "Now we know how to check labels, is there a way that we can also check file names? `dataset_train` also contains a `b'filenames'` key. Let's see what we have here:"
   ]
  },
  {
   "cell_type": "code",
   "execution_count": 14,
   "metadata": {
    "tags": []
   },
   "outputs": [
    {
     "name": "stdout",
     "output_type": "stream",
     "text": [
      "b'bos_taurus_s_000507.png'\n"
     ]
    }
   ],
   "source": [
    "print(dataset_train[b'filenames'][0])"
   ]
  },
  {
   "cell_type": "markdown",
   "metadata": {},
   "source": [
    "\"Taurus\" is the name of a subspecies of cattle, so this looks like a pretty reasonable filename. To save an image we can also do:"
   ]
  },
  {
   "cell_type": "code",
   "execution_count": 15,
   "metadata": {
    "tags": []
   },
   "outputs": [],
   "source": [
    "plt.imsave(\"file.png\", test_image)"
   ]
  },
  {
   "cell_type": "markdown",
   "metadata": {},
   "source": [
    "Your new PNG file should now appear in the file explorer -- go ahead and pop it open to see!\n",
    "\n",
    "Now that you know how to reshape the images, save them as files, and capture their filenames and labels, let's just capture all the bicycles and motorcycles and save them. Scones Unlimited can use a model that tells these apart to route delivery drivers automatically.\n",
    "\n",
    "In the following cell, identify the label numbers for Bicycles and Motorcycles:"
   ]
  },
  {
   "cell_type": "code",
   "execution_count": 16,
   "metadata": {
    "tags": []
   },
   "outputs": [
    {
     "data": {
      "text/plain": [
       "[16,\n",
       " 30,\n",
       " 130,\n",
       " 152,\n",
       " 195,\n",
       " 219,\n",
       " 251,\n",
       " 252,\n",
       " 298,\n",
       " 370,\n",
       " 390,\n",
       " 392,\n",
       " 408,\n",
       " 560,\n",
       " 575,\n",
       " 576,\n",
       " 663,\n",
       " 682,\n",
       " 785,\n",
       " 839,\n",
       " 921,\n",
       " 922,\n",
       " 964,\n",
       " 984,\n",
       " 996,\n",
       " 1023,\n",
       " 1114,\n",
       " 1132,\n",
       " 1158,\n",
       " 1170,\n",
       " 1255,\n",
       " 1290,\n",
       " 1334,\n",
       " 1357,\n",
       " 1362,\n",
       " 1457,\n",
       " 1555,\n",
       " 1564,\n",
       " 1644,\n",
       " 1747,\n",
       " 1818,\n",
       " 1841,\n",
       " 1885,\n",
       " 1942,\n",
       " 1964,\n",
       " 1965,\n",
       " 2010,\n",
       " 2079,\n",
       " 2105,\n",
       " 2163,\n",
       " 2296,\n",
       " 2319,\n",
       " 2499,\n",
       " 2525,\n",
       " 2598,\n",
       " 2599,\n",
       " 2790,\n",
       " 2838,\n",
       " 2852,\n",
       " 2952,\n",
       " 2973,\n",
       " 3053,\n",
       " 3162,\n",
       " 3228,\n",
       " 3286,\n",
       " 3464,\n",
       " 3566,\n",
       " 3574,\n",
       " 3584,\n",
       " 3597,\n",
       " 3616,\n",
       " 3653,\n",
       " 3676,\n",
       " 3817,\n",
       " 3923,\n",
       " 3954,\n",
       " 4027,\n",
       " 4036,\n",
       " 4097,\n",
       " 4197,\n",
       " 4207,\n",
       " 4212,\n",
       " 4221,\n",
       " 4291,\n",
       " 4320,\n",
       " 4367,\n",
       " 4416,\n",
       " 4437,\n",
       " 4448,\n",
       " 4478,\n",
       " 4509,\n",
       " 4600,\n",
       " 4654,\n",
       " 4690,\n",
       " 4693,\n",
       " 4779,\n",
       " 4803,\n",
       " 4838,\n",
       " 4880,\n",
       " 4900,\n",
       " 4911,\n",
       " 4921,\n",
       " 4957,\n",
       " 4997,\n",
       " 5001,\n",
       " 5033,\n",
       " 5152,\n",
       " 5213,\n",
       " 5312,\n",
       " 5352,\n",
       " 5375,\n",
       " 5386,\n",
       " 5403,\n",
       " 5551,\n",
       " 5566,\n",
       " 5588,\n",
       " 5640,\n",
       " 5757,\n",
       " 5759,\n",
       " 5830,\n",
       " 5866,\n",
       " 5882,\n",
       " 5886,\n",
       " 5975,\n",
       " 6070,\n",
       " 6084,\n",
       " 6092,\n",
       " 6123,\n",
       " 6222,\n",
       " 6252,\n",
       " 6293,\n",
       " 6330,\n",
       " 6333,\n",
       " 6386,\n",
       " 6519,\n",
       " 6540,\n",
       " 6687,\n",
       " 6701,\n",
       " 6710,\n",
       " 6718,\n",
       " 6733,\n",
       " 6741,\n",
       " 6832,\n",
       " 6853,\n",
       " 6870,\n",
       " 6895,\n",
       " 6903,\n",
       " 7026,\n",
       " 7070,\n",
       " 7101,\n",
       " 7105,\n",
       " 7119,\n",
       " 7120,\n",
       " 7137,\n",
       " 7161,\n",
       " 7185,\n",
       " 7229,\n",
       " 7253,\n",
       " 7255,\n",
       " 7282,\n",
       " 7286,\n",
       " 7362,\n",
       " 7505,\n",
       " 7517,\n",
       " 7650,\n",
       " 7699,\n",
       " 7715,\n",
       " 7719,\n",
       " 7732,\n",
       " 7896,\n",
       " 7943,\n",
       " 7946,\n",
       " 7976,\n",
       " 8138,\n",
       " 8153,\n",
       " 8191,\n",
       " 8209,\n",
       " 8222,\n",
       " 8247,\n",
       " 8322,\n",
       " 8355,\n",
       " 8408,\n",
       " 8509,\n",
       " 8533,\n",
       " 8545,\n",
       " 8579,\n",
       " 8585,\n",
       " 8595,\n",
       " 8657,\n",
       " 8674,\n",
       " 8715,\n",
       " 8740,\n",
       " 8744,\n",
       " 8780,\n",
       " 8797,\n",
       " 8868,\n",
       " 8885,\n",
       " 8933,\n",
       " 9006,\n",
       " 9035,\n",
       " 9066,\n",
       " 9074,\n",
       " 9089,\n",
       " 9094,\n",
       " 9101,\n",
       " 9132,\n",
       " 9137,\n",
       " 9199,\n",
       " 9230,\n",
       " 9317,\n",
       " 9328,\n",
       " 9356,\n",
       " 9439,\n",
       " 9455,\n",
       " 9518,\n",
       " 9534,\n",
       " 9572,\n",
       " 9601,\n",
       " 9614,\n",
       " 9615,\n",
       " 9650,\n",
       " 9657,\n",
       " 9743,\n",
       " 9797,\n",
       " 9827,\n",
       " 9972,\n",
       " 10000,\n",
       " 10050,\n",
       " 10083,\n",
       " 10091,\n",
       " 10098,\n",
       " 10129,\n",
       " 10377,\n",
       " 10468,\n",
       " 10477,\n",
       " 10504,\n",
       " 10523,\n",
       " 10557,\n",
       " 10571,\n",
       " 10608,\n",
       " 10620,\n",
       " 10632,\n",
       " 10665,\n",
       " 10741,\n",
       " 10762,\n",
       " 10794,\n",
       " 10798,\n",
       " 10951,\n",
       " 11080,\n",
       " 11106,\n",
       " 11174,\n",
       " 11229,\n",
       " 11262,\n",
       " 11307,\n",
       " 11311,\n",
       " 11381,\n",
       " 11383,\n",
       " 11388,\n",
       " 11451,\n",
       " 11617,\n",
       " 11625,\n",
       " 11653,\n",
       " 11708,\n",
       " 11717,\n",
       " 11751,\n",
       " 11789,\n",
       " 11819,\n",
       " 11955,\n",
       " 11975,\n",
       " 12023,\n",
       " 12058,\n",
       " 12130,\n",
       " 12188,\n",
       " 12231,\n",
       " 12265,\n",
       " 12296,\n",
       " 12633,\n",
       " 12767,\n",
       " 12822,\n",
       " 12845,\n",
       " 12964,\n",
       " 13009,\n",
       " 13089,\n",
       " 13279,\n",
       " 13295,\n",
       " 13298,\n",
       " 13322,\n",
       " 13327,\n",
       " 13482,\n",
       " 13520,\n",
       " 13532,\n",
       " 13576,\n",
       " 13582,\n",
       " 13642,\n",
       " 13684,\n",
       " 13692,\n",
       " 13716,\n",
       " 13740,\n",
       " 13762,\n",
       " 13772,\n",
       " 13786,\n",
       " 13809,\n",
       " 13860,\n",
       " 13879,\n",
       " 13997,\n",
       " 14027,\n",
       " 14067,\n",
       " 14197,\n",
       " 14254,\n",
       " 14306,\n",
       " 14312,\n",
       " 14369,\n",
       " 14418,\n",
       " 14437,\n",
       " 14485,\n",
       " 14504,\n",
       " 14551,\n",
       " 14679,\n",
       " 14715,\n",
       " 14783,\n",
       " 14786,\n",
       " 15007,\n",
       " 15036,\n",
       " 15083,\n",
       " 15108,\n",
       " 15130,\n",
       " 15177,\n",
       " 15193,\n",
       " 15267,\n",
       " 15312,\n",
       " 15335,\n",
       " 15352,\n",
       " 15361,\n",
       " 15385,\n",
       " 15444,\n",
       " 15447,\n",
       " 15535,\n",
       " 15564,\n",
       " 15569,\n",
       " 15600,\n",
       " 15641,\n",
       " 15733,\n",
       " 15756,\n",
       " 15830,\n",
       " 15851,\n",
       " 15867,\n",
       " 15888,\n",
       " 16015,\n",
       " 16093,\n",
       " 16124,\n",
       " 16150,\n",
       " 16185,\n",
       " 16271,\n",
       " 16285,\n",
       " 16380,\n",
       " 16402,\n",
       " 16416,\n",
       " 16417,\n",
       " 16448,\n",
       " 16479,\n",
       " 16497,\n",
       " 16565,\n",
       " 16568,\n",
       " 16574,\n",
       " 16606,\n",
       " 16609,\n",
       " 16660,\n",
       " 16701,\n",
       " 16800,\n",
       " 16839,\n",
       " 17049,\n",
       " 17073,\n",
       " 17125,\n",
       " 17160,\n",
       " 17165,\n",
       " 17220,\n",
       " 17250,\n",
       " 17257,\n",
       " 17310,\n",
       " 17373,\n",
       " 17379,\n",
       " 17471,\n",
       " 17481,\n",
       " 17517,\n",
       " 17540,\n",
       " 17648,\n",
       " 17730,\n",
       " 17971,\n",
       " 17988,\n",
       " 18020,\n",
       " 18164,\n",
       " 18232,\n",
       " 18322,\n",
       " 18327,\n",
       " 18462,\n",
       " 18518,\n",
       " 18556,\n",
       " 18664,\n",
       " 18671,\n",
       " 18787,\n",
       " 18794,\n",
       " 18796,\n",
       " 18831,\n",
       " 18892,\n",
       " 18951,\n",
       " 18995,\n",
       " 19015,\n",
       " 19021,\n",
       " 19152,\n",
       " 19154,\n",
       " 19336,\n",
       " 19343,\n",
       " 19351,\n",
       " 19511,\n",
       " 19518,\n",
       " 19532,\n",
       " 19628,\n",
       " 19675,\n",
       " 19701,\n",
       " 19743,\n",
       " 19849,\n",
       " 19925,\n",
       " 19933,\n",
       " 19941,\n",
       " 19958,\n",
       " 19972,\n",
       " 20177,\n",
       " 20221,\n",
       " 20237,\n",
       " 20267,\n",
       " 20397,\n",
       " 20498,\n",
       " 20548,\n",
       " 20580,\n",
       " 20601,\n",
       " 20647,\n",
       " 20684,\n",
       " 20712,\n",
       " 20733,\n",
       " 20806,\n",
       " 20842,\n",
       " 20870,\n",
       " 20982,\n",
       " 20985,\n",
       " 21067,\n",
       " 21077,\n",
       " 21309,\n",
       " 21584,\n",
       " 21687,\n",
       " 21730,\n",
       " 21945,\n",
       " 21956,\n",
       " 21959,\n",
       " 22003,\n",
       " 22004,\n",
       " 22005,\n",
       " 22026,\n",
       " 22028,\n",
       " 22116,\n",
       " 22173,\n",
       " 22237,\n",
       " 22275,\n",
       " 22303,\n",
       " 22304,\n",
       " 22355,\n",
       " 22403,\n",
       " 22480,\n",
       " 22516,\n",
       " 22535,\n",
       " 22564,\n",
       " 22565,\n",
       " 22581,\n",
       " 22661,\n",
       " 22673,\n",
       " 22699,\n",
       " 22748,\n",
       " 22760,\n",
       " 22793,\n",
       " 22807,\n",
       " 22811,\n",
       " 22816,\n",
       " 22852,\n",
       " 22862,\n",
       " 22947,\n",
       " 22948,\n",
       " 22967,\n",
       " 22983,\n",
       " 23228,\n",
       " 23274,\n",
       " 23335,\n",
       " 23351,\n",
       " 23537,\n",
       " 23587,\n",
       " 23603,\n",
       " 23616,\n",
       " 23669,\n",
       " 23715,\n",
       " 23744,\n",
       " 23763,\n",
       " 23888,\n",
       " 23908,\n",
       " 23986,\n",
       " 24103,\n",
       " 24124,\n",
       " 24130,\n",
       " 24170,\n",
       " 24182,\n",
       " 24246,\n",
       " 24284,\n",
       " 24343,\n",
       " 24411,\n",
       " 24461,\n",
       " 24467,\n",
       " 24501,\n",
       " 24505,\n",
       " 24570,\n",
       " 24655,\n",
       " 24723,\n",
       " 24804,\n",
       " 24813,\n",
       " 25033,\n",
       " 25035,\n",
       " 25230,\n",
       " 25319,\n",
       " 25320,\n",
       " 25326,\n",
       " 25346,\n",
       " 25349,\n",
       " 25350,\n",
       " 25371,\n",
       " 25476,\n",
       " 25509,\n",
       " 25568,\n",
       " 25584,\n",
       " 25640,\n",
       " 25645,\n",
       " 25734,\n",
       " 25863,\n",
       " 25866,\n",
       " 25871,\n",
       " 26026,\n",
       " 26050,\n",
       " 26060,\n",
       " 26108,\n",
       " 26114,\n",
       " 26173,\n",
       " 26185,\n",
       " 26216,\n",
       " 26228,\n",
       " 26326,\n",
       " 26371,\n",
       " 26468,\n",
       " 26486,\n",
       " 26487,\n",
       " 26491,\n",
       " 26529,\n",
       " 26549,\n",
       " 26635,\n",
       " 26648,\n",
       " 26890,\n",
       " 26944,\n",
       " 26948,\n",
       " 26971,\n",
       " 27008,\n",
       " 27125,\n",
       " 27134,\n",
       " 27154,\n",
       " 27198,\n",
       " 27219,\n",
       " 27233,\n",
       " 27274,\n",
       " 27301,\n",
       " 27306,\n",
       " 27326,\n",
       " 27345,\n",
       " 27375,\n",
       " 27425,\n",
       " 27526,\n",
       " 27614,\n",
       " 27656,\n",
       " 27691,\n",
       " 27747,\n",
       " 27777,\n",
       " 27788,\n",
       " 27808,\n",
       " 27920,\n",
       " 27961,\n",
       " 27963,\n",
       " 28014,\n",
       " 28051,\n",
       " 28062,\n",
       " 28067,\n",
       " 28073,\n",
       " 28147,\n",
       " 28259,\n",
       " 28295,\n",
       " 28311,\n",
       " 28368,\n",
       " 28396,\n",
       " 28421,\n",
       " 28424,\n",
       " 28500,\n",
       " 28530,\n",
       " 28559,\n",
       " 28698,\n",
       " 28879,\n",
       " 28898,\n",
       " 29044,\n",
       " 29119,\n",
       " 29180,\n",
       " 29185,\n",
       " 29236,\n",
       " 29237,\n",
       " 29245,\n",
       " 29351,\n",
       " 29430,\n",
       " 29550,\n",
       " 29553,\n",
       " 29586,\n",
       " 29825,\n",
       " 29857,\n",
       " 29923,\n",
       " 29966,\n",
       " 29988,\n",
       " 30008,\n",
       " 30247,\n",
       " 30293,\n",
       " 30301,\n",
       " 30395,\n",
       " 30497,\n",
       " 30526,\n",
       " 30584,\n",
       " 30611,\n",
       " 30959,\n",
       " 30971,\n",
       " 31026,\n",
       " 31105,\n",
       " 31164,\n",
       " 31181,\n",
       " 31209,\n",
       " 31230,\n",
       " 31243,\n",
       " 31260,\n",
       " 31319,\n",
       " 31343,\n",
       " 31370,\n",
       " 31378,\n",
       " 31381,\n",
       " 31476,\n",
       " 31518,\n",
       " 31528,\n",
       " 31601,\n",
       " 31654,\n",
       " 31706,\n",
       " 31779,\n",
       " 31882,\n",
       " 31889,\n",
       " 31900,\n",
       " 31954,\n",
       " 32023,\n",
       " 32078,\n",
       " 32143,\n",
       " 32183,\n",
       " 32320,\n",
       " 32321,\n",
       " 32392,\n",
       " 32551,\n",
       " 32573,\n",
       " 32652,\n",
       " 32674,\n",
       " 32677,\n",
       " 32713,\n",
       " 32746,\n",
       " 32788,\n",
       " 32842,\n",
       " 32849,\n",
       " 32868,\n",
       " 32974,\n",
       " 32999,\n",
       " 33025,\n",
       " 33075,\n",
       " 33078,\n",
       " 33128,\n",
       " 33226,\n",
       " 33274,\n",
       " 33385,\n",
       " 33388,\n",
       " 33413,\n",
       " 33457,\n",
       " 33501,\n",
       " 33544,\n",
       " 33548,\n",
       " 33569,\n",
       " 33570,\n",
       " 33609,\n",
       " 33668,\n",
       " 33856,\n",
       " 33858,\n",
       " 33870,\n",
       " 33948,\n",
       " 34039,\n",
       " 34076,\n",
       " 34145,\n",
       " 34150,\n",
       " 34172,\n",
       " 34221,\n",
       " 34346,\n",
       " 34354,\n",
       " 34391,\n",
       " 34397,\n",
       " 34413,\n",
       " 34434,\n",
       " 34468,\n",
       " 34500,\n",
       " 34563,\n",
       " 34614,\n",
       " 34616,\n",
       " 34627,\n",
       " 34644,\n",
       " 34685,\n",
       " 34717,\n",
       " 34719,\n",
       " 34794,\n",
       " 34826,\n",
       " 34861,\n",
       " 34882,\n",
       " 34903,\n",
       " 34916,\n",
       " 34945,\n",
       " 35094,\n",
       " 35095,\n",
       " 35206,\n",
       " 35210,\n",
       " 35211,\n",
       " 35212,\n",
       " 35238,\n",
       " 35252,\n",
       " 35368,\n",
       " 35481,\n",
       " 35552,\n",
       " 35589,\n",
       " 35617,\n",
       " 35695,\n",
       " 35716,\n",
       " 35747,\n",
       " 35760,\n",
       " 35813,\n",
       " 35817,\n",
       " 35876,\n",
       " 35988,\n",
       " 36091,\n",
       " 36150,\n",
       " 36188,\n",
       " 36200,\n",
       " 36253,\n",
       " 36269,\n",
       " 36286,\n",
       " 36302,\n",
       " 36333,\n",
       " 36476,\n",
       " 36493,\n",
       " 36512,\n",
       " 36530,\n",
       " 36614,\n",
       " 36650,\n",
       " 36744,\n",
       " 36907,\n",
       " 36957,\n",
       " 36996,\n",
       " 37008,\n",
       " 37024,\n",
       " 37081,\n",
       " 37096,\n",
       " 37180,\n",
       " 37256,\n",
       " 37435,\n",
       " 37439,\n",
       " 37469,\n",
       " 37517,\n",
       " 37539,\n",
       " 37560,\n",
       " 37568,\n",
       " 37594,\n",
       " 37733,\n",
       " 37790,\n",
       " 37814,\n",
       " 37853,\n",
       " 37872,\n",
       " 37912,\n",
       " 37918,\n",
       " 37958,\n",
       " 38017,\n",
       " 38021,\n",
       " 38126,\n",
       " 38229,\n",
       " 38230,\n",
       " 38322,\n",
       " 38367,\n",
       " 38382,\n",
       " 38391,\n",
       " 38573,\n",
       " 38752,\n",
       " 38915,\n",
       " 38936,\n",
       " 38973,\n",
       " 39117,\n",
       " 39131,\n",
       " 39157,\n",
       " 39276,\n",
       " 39282,\n",
       " 39287,\n",
       " 39380,\n",
       " 39397,\n",
       " 39445,\n",
       " 39632,\n",
       " 39754,\n",
       " 39781,\n",
       " 39848,\n",
       " 39915,\n",
       " 39967,\n",
       " 39972,\n",
       " 39990,\n",
       " 40041,\n",
       " 40050,\n",
       " 40081,\n",
       " 40156,\n",
       " 40171,\n",
       " 40189,\n",
       " 40248,\n",
       " 40455,\n",
       " 40496,\n",
       " 40537,\n",
       " 40561,\n",
       " 40686,\n",
       " 40797,\n",
       " 40892,\n",
       " 40951,\n",
       " 41043,\n",
       " 41044,\n",
       " 41086,\n",
       " 41144,\n",
       " 41180,\n",
       " 41294,\n",
       " 41306,\n",
       " 41343,\n",
       " 41439,\n",
       " 41548,\n",
       " 41612,\n",
       " 41694,\n",
       " 41735,\n",
       " 41800,\n",
       " 41848,\n",
       " 41982,\n",
       " 42056,\n",
       " 42107,\n",
       " 42154,\n",
       " 42193,\n",
       " 42315,\n",
       " 42499,\n",
       " 42539,\n",
       " 42543,\n",
       " 42570,\n",
       " 42613,\n",
       " 42732,\n",
       " 42768,\n",
       " 42856,\n",
       " 42861,\n",
       " 42892,\n",
       " 42995,\n",
       " 43033,\n",
       " 43052,\n",
       " 43316,\n",
       " 43338,\n",
       " 43343,\n",
       " 43412,\n",
       " 43422,\n",
       " 43434,\n",
       " 43464,\n",
       " 43468,\n",
       " 43481,\n",
       " 43550,\n",
       " 43559,\n",
       " 43573,\n",
       " 43593,\n",
       " 43594,\n",
       " 43688,\n",
       " 43762,\n",
       " 43847,\n",
       " 43895,\n",
       " 43981,\n",
       " 44000,\n",
       " 44015,\n",
       " 44142,\n",
       " 44291,\n",
       " 44300,\n",
       " 44351,\n",
       " 44423,\n",
       " 44464,\n",
       " 44468,\n",
       " 44506,\n",
       " 44543,\n",
       " 44551,\n",
       " 44553,\n",
       " 44635,\n",
       " 44666,\n",
       " 44678,\n",
       " 44702,\n",
       " 44709,\n",
       " 44862,\n",
       " 44863,\n",
       " 44927,\n",
       " 44967,\n",
       " 45046,\n",
       " 45191,\n",
       " 45233,\n",
       " 45336,\n",
       " 45393,\n",
       " 45442,\n",
       " 45449,\n",
       " 45461,\n",
       " 45483,\n",
       " 45489,\n",
       " 45529,\n",
       " 45605,\n",
       " 45638,\n",
       " 45673,\n",
       " 45676,\n",
       " 45692,\n",
       " 45763,\n",
       " 45769,\n",
       " 45807,\n",
       " 45847,\n",
       " 45859,\n",
       " 45950,\n",
       " 46022,\n",
       " 46106,\n",
       " 46157,\n",
       " 46161,\n",
       " 46186,\n",
       " 46203,\n",
       " 46288,\n",
       " 46316,\n",
       " 46363,\n",
       " 46389,\n",
       " 46515,\n",
       " 46570,\n",
       " 46667,\n",
       " 46675,\n",
       " 46724,\n",
       " 46785,\n",
       " 46899,\n",
       " 46922,\n",
       " 46955,\n",
       " 46996,\n",
       " 47175,\n",
       " 47180,\n",
       " 47302,\n",
       " 47344,\n",
       " 47374,\n",
       " 47466,\n",
       " 47469,\n",
       " 47510,\n",
       " 47519,\n",
       " 47567,\n",
       " 47721,\n",
       " 47772,\n",
       " 47792,\n",
       " 47888,\n",
       " 48028,\n",
       " 48044,\n",
       " 48045,\n",
       " 48089,\n",
       " 48112,\n",
       " 48198,\n",
       " 48220,\n",
       " 48271,\n",
       " 48295,\n",
       " 48375,\n",
       " 48546,\n",
       " 48553,\n",
       " 48575,\n",
       " 48760,\n",
       " 48837,\n",
       " 48887,\n",
       " 48941,\n",
       " 48958,\n",
       " 48980,\n",
       " 49151,\n",
       " 49172,\n",
       " 49176,\n",
       " 49192,\n",
       " 49249,\n",
       " 49452,\n",
       " 49485,\n",
       " 49492,\n",
       " 49578,\n",
       " 49588,\n",
       " 49882,\n",
       " 49962,\n",
       " 49985]"
      ]
     },
     "execution_count": 16,
     "metadata": {},
     "output_type": "execute_result"
    }
   ],
   "source": [
    "import pandas as pd\n",
    "\n",
    "# Todo: Filter the dataset_train and dataset_meta objects to find the label numbers for Bicycle and Motorcycles\n",
    "lab_num = [ x for x in range(len(dataset_train[b'fine_labels'])) if (dataset_meta[b'fine_label_names'][dataset_train[b'fine_labels'][x]]==b'bicycle') \\\n",
    "                                                                                                                       or (dataset_meta[b'fine_label_names'][dataset_train[b'fine_labels'][x]]==b'motorcycle')]\n",
    "lab_num"
   ]
  },
  {
   "cell_type": "code",
   "execution_count": 18,
   "metadata": {
    "tags": []
   },
   "outputs": [
    {
     "data": {
      "text/plain": [
       "[b'filenames', b'batch_label', b'fine_labels', b'coarse_labels', b'data']"
      ]
     },
     "execution_count": 18,
     "metadata": {},
     "output_type": "execute_result"
    }
   ],
   "source": [
    "columns = list(dataset_train.keys())\n",
    "columns\n"
   ]
  },
  {
   "cell_type": "code",
   "execution_count": 19,
   "metadata": {
    "tags": []
   },
   "outputs": [
    {
     "data": {
      "text/plain": [
       "[b'filenames', b'fine_labels', b'coarse_labels', b'data']"
      ]
     },
     "execution_count": 19,
     "metadata": {},
     "output_type": "execute_result"
    }
   ],
   "source": [
    "#skipping the different column data amount\n",
    "columns = [b'filenames', b'fine_labels', b'coarse_labels', b'data']\n",
    "columns"
   ]
  },
  {
   "cell_type": "code",
   "execution_count": null,
   "metadata": {
    "tags": []
   },
   "outputs": [],
   "source": [
    "dataset_train_filtered = {key:[dataset_train[key][x] for x in lab_num] for key in columns }\n",
    "dataset_train_filtered"
   ]
  },
  {
   "cell_type": "markdown",
   "metadata": {},
   "source": [
    "Good job! We only need objects with label 8 and 48 -- this drastically simplifies our handling of the data! Below we construct a dataframe for you, and you can safely drop the rows that don't contain observations about bicycles and motorcycles. Fill in the missing lines below to drop all other rows:"
   ]
  },
  {
   "cell_type": "code",
   "execution_count": 21,
   "metadata": {
    "tags": []
   },
   "outputs": [],
   "source": [
    "#Construct the dataframe\n",
    "df_train = pd.DataFrame({\n",
    "    \"filenames\": dataset_train[b'filenames'],\n",
    "    \"labels\": dataset_train[b'fine_labels'],\n",
    "    \"row\": range(len(dataset_train[b'filenames']))\n",
    "})\n",
    "\n",
    "# Drop all rows from df_train where label is not 8 or 48\n",
    "df_train = df_train[(df_train['labels'] == 8) | ( df_train['labels']==48)] #TODO: Fill in\n",
    "\n",
    "# Decode df_train.filenames so they are regular strings\n",
    "df_train[\"filenames\"] = df_train[\"filenames\"].apply(\n",
    "    lambda x: x.decode(\"utf-8\")\n",
    ")\n",
    "\n",
    "\n",
    "df_test = pd.DataFrame({\n",
    "    \"filenames\": dataset_test[b'filenames'],\n",
    "    \"labels\": dataset_test[b'fine_labels'],\n",
    "    \"row\": range(len(dataset_test[b'filenames']))\n",
    "})\n",
    "\n",
    "# Drop all rows from df_test where label is not 8 or 48\n",
    "df_test = df_test[(df_test['labels'] == 8) | ( df_test['labels'] == 48) ]#TODO: Fill in\n",
    "\n",
    "# Decode df_test.filenames so they are regular strings\n",
    "df_test[\"filenames\"] = df_test[\"filenames\"].apply(\n",
    "    lambda x: x.decode(\"utf-8\")\n",
    ")"
   ]
  },
  {
   "cell_type": "code",
   "execution_count": 22,
   "metadata": {
    "tags": []
   },
   "outputs": [
    {
     "data": {
      "text/plain": [
       "range(0, 50000)"
      ]
     },
     "execution_count": 22,
     "metadata": {},
     "output_type": "execute_result"
    }
   ],
   "source": [
    "l = range(len(dataset_train[b'filenames']))\n",
    "l"
   ]
  },
  {
   "cell_type": "code",
   "execution_count": 23,
   "metadata": {
    "tags": []
   },
   "outputs": [
    {
     "data": {
      "text/plain": [
       "(50000, 3072)"
      ]
     },
     "execution_count": 23,
     "metadata": {},
     "output_type": "execute_result"
    }
   ],
   "source": [
    "dataset_train[b'data'].shape"
   ]
  },
  {
   "cell_type": "code",
   "execution_count": 24,
   "metadata": {
    "tags": []
   },
   "outputs": [
    {
     "data": {
      "text/plain": [
       "(1000, 3)"
      ]
     },
     "execution_count": 24,
     "metadata": {},
     "output_type": "execute_result"
    }
   ],
   "source": [
    "df_train.shape"
   ]
  },
  {
   "cell_type": "markdown",
   "metadata": {},
   "source": [
    "Now that the data is filtered for just our classes, we can save all our images."
   ]
  },
  {
   "cell_type": "code",
   "execution_count": 25,
   "metadata": {
    "tags": []
   },
   "outputs": [],
   "source": [
    "!mkdir ./train\n",
    "!mkdir ./test"
   ]
  },
  {
   "cell_type": "markdown",
   "metadata": {},
   "source": [
    "In the previous sections we introduced you to several key snippets of code:\n",
    "\n",
    "1. Grabbing the image data:\n",
    "\n",
    "```python\n",
    "dataset_train[b'data'][0]\n",
    "```\n",
    "\n",
    "2. A simple idiom for stacking the image data into the right shape\n",
    "\n",
    "```python\n",
    "import numpy as np\n",
    "np.dstack((\n",
    "    row[0:1024].reshape(32,32),\n",
    "    row[1024:2048].reshape(32,32),\n",
    "    row[2048:].reshape(32,32)\n",
    "))\n",
    "```\n",
    "\n",
    "3. A simple `matplotlib` utility for saving images\n",
    "\n",
    "```python\n",
    "plt.imsave(path+row['filenames'], target)\n",
    "```\n",
    "\n",
    "Compose these together into a function that saves all the images into the `./test` and `./train` directories. Use the comments in the body of the `save_images` function below to guide your construction of the function:\n"
   ]
  },
  {
   "cell_type": "code",
   "execution_count": 26,
   "metadata": {
    "tags": []
   },
   "outputs": [],
   "source": [
    "import numpy as np\n",
    "import matplotlib.pyplot as plt\n",
    "import os\n",
    "def save_images(dataset_pth, image_data, image_name  ):\n",
    "    #Grab the image data in row-major form\n",
    "    img = image_data\n",
    "    \n",
    "    # Consolidated stacking/reshaping from earlier\n",
    "    target = np.dstack((\n",
    "    img[0:1024].reshape(32,32),\n",
    "    img[1024:2048].reshape(32,32),\n",
    "    img[2048:].reshape(32,32)\n",
    "))\n",
    "    \n",
    "    # Save the image\n",
    "    \n",
    "    \n",
    "    plt.imsave(dataset_pth+image_name, target)\n",
    "    # Return any signal data you want for debugging\n",
    "    return len(os.listdir(dataset_pth))\n",
    "\n",
    "for ix, xrow in df_train.iterrows():\n",
    "    row = xrow['row']\n",
    "    data = dataset_train[b'data'][row]\n",
    "    name = xrow['filenames']\n",
    "    save_images('./train/', data, name)\n",
    "    \n",
    "for ix, xrow in df_test.iterrows():\n",
    "    row = xrow['row']\n",
    "    data = dataset_test[b'data'][row]\n",
    "    name = xrow['filenames']\n",
    "    save_images('./test/', data, name)"
   ]
  },
  {
   "cell_type": "markdown",
   "metadata": {},
   "source": [
    "### 3. Load the data\n",
    "\n",
    "Now we can load the data into S3.\n",
    "\n",
    "Using the sagemaker SDK grab the current region, execution role, and bucket."
   ]
  },
  {
   "cell_type": "code",
   "execution_count": 20,
   "metadata": {
    "tags": []
   },
   "outputs": [
    {
     "name": "stdout",
     "output_type": "stream",
     "text": [
      "Default Bucket: sagemaker-us-east-1-165969638846\n",
      "AWS Region: us-east-1\n",
      "RoleArn: arn:aws:iam::165969638846:role/service-role/AmazonSageMaker-ExecutionRole-20240726T221947\n"
     ]
    }
   ],
   "source": [
    "import sagemaker\n",
    "\n",
    "\n",
    "bucket= sagemaker.Session().default_bucket() \n",
    "print(\"Default Bucket: {}\".format(bucket))\n",
    "\n",
    "region = sagemaker.Session().boto_region_name \n",
    "print(\"AWS Region: {}\".format(region))\n",
    "\n",
    "role = sagemaker.get_execution_role()\n",
    "print(\"RoleArn: {}\".format(role))"
   ]
  },
  {
   "cell_type": "markdown",
   "metadata": {},
   "source": [
    "With this data we can easily sync your data up into S3!"
   ]
  },
  {
   "cell_type": "code",
   "execution_count": null,
   "metadata": {
    "tags": []
   },
   "outputs": [],
   "source": [
    "import os\n",
    "\n",
    "os.environ[\"DEFAULT_S3_BUCKET\"] = bucket\n",
    "!aws s3 sync ./train s3://${DEFAULT_S3_BUCKET}/train/\n",
    "!aws s3 sync ./test s3://${DEFAULT_S3_BUCKET}/test/"
   ]
  },
  {
   "cell_type": "markdown",
   "metadata": {},
   "source": [
    "And that's it! You can check the bucket and verify that the items were uploaded.\n",
    "\n",
    "## Model Training\n",
    "\n",
    "For Image Classification, Sagemaker [also expects metadata](https://docs.aws.amazon.com/sagemaker/latest/dg/image-classification.html) e.g. in the form of TSV files with labels and filepaths. We can generate these using our Pandas DataFrames from earlier:"
   ]
  },
  {
   "cell_type": "code",
   "execution_count": 29,
   "metadata": {
    "tags": []
   },
   "outputs": [],
   "source": [
    "def to_metadata_file(df, prefix):\n",
    "    df[\"s3_path\"] = df[\"filenames\"]\n",
    "    df[\"labels\"] = df[\"labels\"].apply(lambda x: 0 if x==8 else 1)\n",
    "    return df[[\"row\", \"labels\", \"s3_path\"]].to_csv(\n",
    "        f\"{prefix}.lst\", sep=\"\\t\", index=False, header=False\n",
    "    )\n",
    "    \n",
    "to_metadata_file(df_train.copy(), \"train\")\n",
    "to_metadata_file(df_test.copy(), \"test\")"
   ]
  },
  {
   "cell_type": "markdown",
   "metadata": {},
   "source": [
    "We can also upload our manifest files:"
   ]
  },
  {
   "cell_type": "code",
   "execution_count": 30,
   "metadata": {
    "tags": []
   },
   "outputs": [],
   "source": [
    "import boto3\n",
    "\n",
    "# Upload files\n",
    "boto3.Session().resource('s3').Bucket(\n",
    "    bucket).Object('train.lst').upload_file('./train.lst')\n",
    "boto3.Session().resource('s3').Bucket(\n",
    "    bucket).Object('test.lst').upload_file('./test.lst')"
   ]
  },
  {
   "cell_type": "markdown",
   "metadata": {},
   "source": [
    "Using the `bucket` and `region` info we can get the latest prebuilt container to run our training job, and define an output location on our s3 bucket for the model. Use the `image_uris` function from the SageMaker SDK to retrieve the latest `image-classification` image below:"
   ]
  },
  {
   "cell_type": "code",
   "execution_count": 4,
   "metadata": {
    "tags": []
   },
   "outputs": [
    {
     "name": "stderr",
     "output_type": "stream",
     "text": [
      "Defaulting to the only supported framework/algorithm version: 1. Ignoring framework/algorithm version: latest.\n"
     ]
    }
   ],
   "source": [
    "# Use the image_uris function to retrieve the latest 'image-classification' image \n",
    "algo_image = sagemaker.image_uris.retrieve(framework='image-classification', version='latest', region=region)## TODO: fill in\n",
    "s3_output_location = f\"s3://{bucket}/models/image_model\""
   ]
  },
  {
   "cell_type": "markdown",
   "metadata": {},
   "source": [
    "We're ready to create an estimator! Create an estimator `img_classifier_model` that uses one instance of `ml.p3.2xlarge`. Ensure that y ou use the output location we defined above - we'll be referring to that later!"
   ]
  },
  {
   "cell_type": "code",
   "execution_count": 5,
   "metadata": {
    "tags": []
   },
   "outputs": [],
   "source": [
    "img_classifier_model=sagemaker.estimator.Estimator(\n",
    "    image_uri=algo_image,\n",
    "    instance_type='ml.p3.2xlarge',\n",
    "    instance_count=2,\n",
    "    role=role,\n",
    "    volume_size=5,\n",
    "    output_path= s3_output_location,\n",
    "    sagemaker_session=sagemaker.Session()\n",
    "    )"
   ]
  },
  {
   "cell_type": "markdown",
   "metadata": {},
   "source": [
    "We can also set a few key hyperparameters and define the inputs for our model:"
   ]
  },
  {
   "cell_type": "code",
   "execution_count": 6,
   "metadata": {
    "tags": []
   },
   "outputs": [],
   "source": [
    "img_classifier_model.set_hyperparameters(\n",
    "    image_shape=\"3,32,32\", \n",
    "    num_classes=2,\n",
    "    num_training_samples=1000 \n",
    ")"
   ]
  },
  {
   "cell_type": "markdown",
   "metadata": {},
   "source": [
    "The `image-classification` image uses four input channels with very specific input parameters. For convenience, we've provided them below:"
   ]
  },
  {
   "cell_type": "code",
   "execution_count": 7,
   "metadata": {
    "tags": []
   },
   "outputs": [],
   "source": [
    "from sagemaker.debugger import Rule, rule_configs\n",
    "from sagemaker.session import TrainingInput\n",
    "model_inputs = {\n",
    "        \"train\": sagemaker.inputs.TrainingInput(\n",
    "            s3_data=f\"s3://{bucket}/train/\",\n",
    "            content_type=\"application/x-image\"\n",
    "        ),\n",
    "        \"validation\": sagemaker.inputs.TrainingInput(\n",
    "            s3_data=f\"s3://{bucket}/test/\",\n",
    "            content_type=\"application/x-image\"\n",
    "        ),\n",
    "        \"train_lst\": sagemaker.inputs.TrainingInput(\n",
    "            s3_data=f\"s3://{bucket}/train.lst\",\n",
    "            content_type=\"application/x-image\"\n",
    "        ),\n",
    "        \"validation_lst\": sagemaker.inputs.TrainingInput(\n",
    "            s3_data=f\"s3://{bucket}/test.lst\",\n",
    "            content_type=\"application/x-image\"\n",
    "        )\n",
    "}"
   ]
  },
  {
   "cell_type": "markdown",
   "metadata": {},
   "source": [
    "Great, now we can train the model using the model_inputs. In the cell below, call the `fit` method on our model,:"
   ]
  },
  {
   "cell_type": "code",
   "execution_count": 8,
   "metadata": {
    "tags": []
   },
   "outputs": [
    {
     "name": "stderr",
     "output_type": "stream",
     "text": [
      "INFO:sagemaker:Creating training-job with name: image-classification-2024-09-23-16-45-07-386\n"
     ]
    },
    {
     "name": "stdout",
     "output_type": "stream",
     "text": [
      "2024-09-23 16:45:07 Starting - Starting the training job...\n",
      "2024-09-23 16:45:23 Pending - Training job waiting for capacity......\n",
      "2024-09-23 16:46:17 Pending - Preparing the instances for training...\n",
      "2024-09-23 16:46:55 Downloading - Downloading input data...\n",
      "2024-09-23 16:47:15 Downloading - Downloading the training image........................\n",
      "2024-09-23 16:51:33 Training - Training image download completed. Training in progress...\u001b[35mDocker entrypoint called with argument(s): train\u001b[0m\n",
      "\u001b[35mRunning default environment configuration script\u001b[0m\n",
      "\u001b[35mNvidia gpu devices, drivers and cuda toolkit versions (only available on hosts with GPU):\u001b[0m\n",
      "\u001b[35mMon Sep 23 16:51:53 2024       \u001b[0m\n",
      "\u001b[35m+---------------------------------------------------------------------------------------+\u001b[0m\n",
      "\u001b[35m| NVIDIA-SMI 535.183.01             Driver Version: 535.183.01   CUDA Version: 12.2     |\u001b[0m\n",
      "\u001b[35m|-----------------------------------------+----------------------+----------------------+\u001b[0m\n",
      "\u001b[35m| GPU  Name                 Persistence-M | Bus-Id        Disp.A | Volatile Uncorr. ECC |\u001b[0m\n",
      "\u001b[35m| Fan  Temp   Perf          Pwr:Usage/Cap |         Memory-Usage | GPU-Util  Compute M. |\u001b[0m\n",
      "\u001b[35m|                                         |                      |               MIG M. |\u001b[0m\n",
      "\u001b[35m|=========================================+======================+======================|\u001b[0m\n",
      "\u001b[35m|   0  Tesla V100-SXM2-16GB           On  | 00000000:00:1E.0 Off |                    0 |\u001b[0m\n",
      "\u001b[35m| N/A   33C    P0              23W / 300W |      0MiB / 16384MiB |      0%      Default |\u001b[0m\n",
      "\u001b[35m|                                         |                      |                  N/A |\u001b[0m\n",
      "\u001b[35m+-----------------------------------------+----------------------+----------------------+\n",
      "                                                                                         \u001b[0m\n",
      "\u001b[35m+---------------------------------------------------------------------------------------+\u001b[0m\n",
      "\u001b[35m| Processes:                                                                            |\u001b[0m\n",
      "\u001b[35m|  GPU   GI   CI        PID   Type   Process name                            GPU Memory |\u001b[0m\n",
      "\u001b[35m|        ID   ID                                                             Usage      |\u001b[0m\n",
      "\u001b[35m|=======================================================================================|\u001b[0m\n",
      "\u001b[35m|  No running processes found                                                           |\u001b[0m\n",
      "\u001b[35m+---------------------------------------------------------------------------------------+\u001b[0m\n",
      "\u001b[35mChecking for nvidia driver and cuda compatibility.\u001b[0m\n",
      "\u001b[35mCUDA Compatibility driver provided.\u001b[0m\n",
      "\u001b[35mProceeding with compatibility check between driver, cuda-toolkit and cuda-compat.\u001b[0m\n",
      "\u001b[35mDetected cuda-toolkit version: 11.1.\u001b[0m\n",
      "\u001b[35mDetected cuda-compat version: 455.32.00.\u001b[0m\n",
      "\u001b[35mDetected Nvidia driver version: 535.183.01.\u001b[0m\n",
      "\u001b[35mNvidia driver compatible with cuda-toolkit. Disabling cuda-compat.\u001b[0m\n",
      "\u001b[34mDocker entrypoint called with argument(s): train\u001b[0m\n",
      "\u001b[34mRunning default environment configuration script\u001b[0m\n",
      "\u001b[34mNvidia gpu devices, drivers and cuda toolkit versions (only available on hosts with GPU):\u001b[0m\n",
      "\u001b[34mMon Sep 23 16:51:54 2024       \u001b[0m\n",
      "\u001b[34m+---------------------------------------------------------------------------------------+\u001b[0m\n",
      "\u001b[34m| NVIDIA-SMI 535.183.01             Driver Version: 535.183.01   CUDA Version: 12.2     |\u001b[0m\n",
      "\u001b[34m|-----------------------------------------+----------------------+----------------------+\u001b[0m\n",
      "\u001b[34m| GPU  Name                 Persistence-M | Bus-Id        Disp.A | Volatile Uncorr. ECC |\u001b[0m\n",
      "\u001b[34m| Fan  Temp   Perf          Pwr:Usage/Cap |         Memory-Usage | GPU-Util  Compute M. |\u001b[0m\n",
      "\u001b[34m|                                         |                      |               MIG M. |\u001b[0m\n",
      "\u001b[34m|=========================================+======================+======================|\u001b[0m\n",
      "\u001b[34m|   0  Tesla V100-SXM2-16GB           On  | 00000000:00:1E.0 Off |                    0 |\u001b[0m\n",
      "\u001b[34m| N/A   34C    P0              24W / 300W |      0MiB / 16384MiB |      0%      Default |\u001b[0m\n",
      "\u001b[34m|                                         |                      |                  N/A |\u001b[0m\n",
      "\u001b[34m+-----------------------------------------+----------------------+----------------------+\n",
      "                                                                                         \u001b[0m\n",
      "\u001b[34m+---------------------------------------------------------------------------------------+\u001b[0m\n",
      "\u001b[34m| Processes:                                                                            |\u001b[0m\n",
      "\u001b[34m|  GPU   GI   CI        PID   Type   Process name                            GPU Memory |\u001b[0m\n",
      "\u001b[34m|        ID   ID                                                             Usage      |\u001b[0m\n",
      "\u001b[34m|=======================================================================================|\u001b[0m\n",
      "\u001b[34m|  No running processes found                                                           |\u001b[0m\n",
      "\u001b[34m+---------------------------------------------------------------------------------------+\u001b[0m\n",
      "\u001b[34mChecking for nvidia driver and cuda compatibility.\u001b[0m\n",
      "\u001b[34mCUDA Compatibility driver provided.\u001b[0m\n",
      "\u001b[34mProceeding with compatibility check between driver, cuda-toolkit and cuda-compat.\u001b[0m\n",
      "\u001b[34mDetected cuda-toolkit version: 11.1.\u001b[0m\n",
      "\u001b[34mDetected cuda-compat version: 455.32.00.\u001b[0m\n",
      "\u001b[34mDetected Nvidia driver version: 535.183.01.\u001b[0m\n",
      "\u001b[34mNvidia driver compatible with cuda-toolkit. Disabling cuda-compat.\u001b[0m\n",
      "\u001b[35m/opt/amazon/lib/python3.8/site-packages/mxnet/model.py:97: SyntaxWarning: \"is\" with a literal. Did you mean \"==\"?\n",
      "  if num_device is 1 and 'dist' not in kvstore:\u001b[0m\n",
      "\u001b[34m/opt/amazon/lib/python3.8/site-packages/mxnet/model.py:97: SyntaxWarning: \"is\" with a literal. Did you mean \"==\"?\n",
      "  if num_device is 1 and 'dist' not in kvstore:\u001b[0m\n",
      "\u001b[34m[09/23/2024 16:51:57 INFO 140469078337344] Reading default configuration from /opt/amazon/lib/python3.8/site-packages/image_classification/default-input.json: {'use_pretrained_model': 0, 'num_layers': 152, 'epochs': 30, 'learning_rate': 0.1, 'lr_scheduler_factor': 0.1, 'optimizer': 'sgd', 'momentum': 0, 'weight_decay': 0.0001, 'beta_1': 0.9, 'beta_2': 0.999, 'eps': 1e-08, 'gamma': 0.9, 'mini_batch_size': 32, 'image_shape': '3,224,224', 'precision_dtype': 'float32'}\u001b[0m\n",
      "\u001b[34m[09/23/2024 16:51:57 INFO 140469078337344] Merging with provided configuration from /opt/ml/input/config/hyperparameters.json: {'image_shape': '3,32,32', 'num_classes': '2', 'num_training_samples': '1000'}\u001b[0m\n",
      "\u001b[34m[09/23/2024 16:51:57 INFO 140469078337344] Final configuration: {'use_pretrained_model': 0, 'num_layers': 152, 'epochs': 30, 'learning_rate': 0.1, 'lr_scheduler_factor': 0.1, 'optimizer': 'sgd', 'momentum': 0, 'weight_decay': 0.0001, 'beta_1': 0.9, 'beta_2': 0.999, 'eps': 1e-08, 'gamma': 0.9, 'mini_batch_size': 32, 'image_shape': '3,32,32', 'precision_dtype': 'float32', 'num_classes': '2', 'num_training_samples': '1000'}\u001b[0m\n",
      "\u001b[34m[09/23/2024 16:51:57 INFO 140469078337344] Launching parameter server for role scheduler\u001b[0m\n",
      "\u001b[34m[09/23/2024 16:51:57 INFO 140469078337344] {'ENVROOT': '/opt/amazon', 'PROTOCOL_BUFFERS_PYTHON_IMPLEMENTATION': 'cpp', 'HOSTNAME': 'ip-10-2-248-251.ec2.internal', 'ALGO_OUTPUT_DIR': '/opt/ml/output', 'TRAINING_JOB_NAME': 'image-classification-2024-09-23-16-45-07-386', 'NVIDIA_REQUIRE_CUDA': 'cuda>=10.1', 'TRAINING_JOB_ARN': 'arn:aws:sagemaker:us-east-1:165969638846:training-job/image-classification-2024-09-23-16-45-07-386', 'ALGO_INPUT_DATA_DIR': '/opt/ml/input/data', 'AWS_CONTAINER_CREDENTIALS_RELATIVE_URI': '/v2/credentials/proxy-bbdbc1d73932d62b1e148d5a3f7e2db5946d26bd67acd32a255d8aed92be70e5-customer', 'IMAGE_CLASSIFICATION_PRETRAINED': '/opt/amazon/pretrained', 'CANONICAL_ENVROOT': '/opt/amazon', 'PYTHONUNBUFFERED': 'TRUE', 'NVIDIA_VISIBLE_DEVICES': 'all', 'LD_LIBRARY_PATH': '/opt/amazon/lib/python3.8/site-packages/cv2/../../../../lib:/usr/local/nvidia/lib64:/opt/amazon/lib', 'NVIDIA_DRIVER_CAPABILITIES': 'compute,utility,compat32,graphics,video', 'SAGEMAKER_MANAGED_WARMPOOL_CACHE_DIRECTORY': '/opt/ml/sagemaker/warmpoolcache', 'ALGO_MODEL_DIR': '/opt/ml/model', 'PATH': '/opt/amazon/bin:/usr/local/nvidia/bin:/usr/local/sbin:/usr/local/bin:/usr/sbin:/usr/bin:/sbin:/bin', 'ALGO_INPUT_RESOURCE_CONFIG_FILE': '/opt/ml/input/config/resourceconfig.json', 'PWD': '/', 'LANG': 'en_US.utf8', 'AWS_REGION': 'us-east-1', 'SAGEMAKER_METRICS_DIRECTORY': '/opt/ml/output/metrics/sagemaker', 'ALGO_INPUT_TRAINING_CONFIG_FILE': '/opt/ml/input/config/hyperparameters.json', 'CUDA_VERSION': '11.1', 'HOME': '/root', 'SHLVL': '1', 'KMP_AFFINITY': 'granularity=fine,compact,1,0', 'CUDA_COMPAT_NDRIVER_SUPPORTED_VERSION': '455.32.00', 'ALGO_INPUT_DATA_CONFIG_FILE': '/opt/ml/input/config/inputdataconfig.json', 'PROTOCOL_BUFFERS_PYTHON_IMPLEMENTATION_VERSION': '2', 'OMP_NUM_THREADS': '4', 'DMLC_INTERFACE': 'eth0', 'ALGO_INPUT_DIR': '/opt/ml/input'}\u001b[0m\n",
      "\u001b[34m[09/23/2024 16:51:57 INFO 140469078337344] envs={'ENVROOT': '/opt/amazon', 'PROTOCOL_BUFFERS_PYTHON_IMPLEMENTATION': 'cpp', 'HOSTNAME': 'ip-10-2-248-251.ec2.internal', 'ALGO_OUTPUT_DIR': '/opt/ml/output', 'TRAINING_JOB_NAME': 'image-classification-2024-09-23-16-45-07-386', 'NVIDIA_REQUIRE_CUDA': 'cuda>=10.1', 'TRAINING_JOB_ARN': 'arn:aws:sagemaker:us-east-1:165969638846:training-job/image-classification-2024-09-23-16-45-07-386', 'ALGO_INPUT_DATA_DIR': '/opt/ml/input/data', 'AWS_CONTAINER_CREDENTIALS_RELATIVE_URI': '/v2/credentials/proxy-bbdbc1d73932d62b1e148d5a3f7e2db5946d26bd67acd32a255d8aed92be70e5-customer', 'IMAGE_CLASSIFICATION_PRETRAINED': '/opt/amazon/pretrained', 'CANONICAL_ENVROOT': '/opt/amazon', 'PYTHONUNBUFFERED': 'TRUE', 'NVIDIA_VISIBLE_DEVICES': 'all', 'LD_LIBRARY_PATH': '/opt/amazon/lib/python3.8/site-packages/cv2/../../../../lib:/usr/local/nvidia/lib64:/opt/amazon/lib', 'NVIDIA_DRIVER_CAPABILITIES': 'compute,utility,compat32,graphics,video', 'SAGEMAKER_MANAGED_WARMPOOL_CACHE_DIRECTORY': '/opt/ml/sagemaker/warmpoolcache', 'ALGO_MODEL_DIR': '/opt/ml/model', 'PATH': '/opt/amazon/bin:/usr/local/nvidia/bin:/usr/local/sbin:/usr/local/bin:/usr/sbin:/usr/bin:/sbin:/bin', 'ALGO_INPUT_RESOURCE_CONFIG_FILE': '/opt/ml/input/config/resourceconfig.json', 'PWD': '/', 'LANG': 'en_US.utf8', 'AWS_REGION': 'us-east-1', 'SAGEMAKER_METRICS_DIRECTORY': '/opt/ml/output/metrics/sagemaker', 'ALGO_INPUT_TRAINING_CONFIG_FILE': '/opt/ml/input/config/hyperparameters.json', 'CUDA_VERSION': '11.1', 'HOME': '/root', 'SHLVL': '1', 'KMP_AFFINITY': 'granularity=fine,compact,1,0', 'CUDA_COMPAT_NDRIVER_SUPPORTED_VERSION': '455.32.00', 'ALGO_INPUT_DATA_CONFIG_FILE': '/opt/ml/input/config/inputdataconfig.json', 'PROTOCOL_BUFFERS_PYTHON_IMPLEMENTATION_VERSION': '2', 'OMP_NUM_THREADS': '4', 'DMLC_INTERFACE': 'eth0', 'ALGO_INPUT_DIR': '/opt/ml/input', 'DMLC_ROLE': 'scheduler', 'DMLC_PS_ROOT_URI': '10.2.248.251', 'DMLC_PS_ROOT_PORT': '9000', 'DMLC_NUM_SERVER': '2', 'DMLC_NUM_WORKER': '2'}\u001b[0m\n",
      "\u001b[34m[09/23/2024 16:51:57 INFO 140469078337344] Launching parameter server for role server\u001b[0m\n",
      "\u001b[34m[09/23/2024 16:51:57 INFO 140469078337344] {'ENVROOT': '/opt/amazon', 'PROTOCOL_BUFFERS_PYTHON_IMPLEMENTATION': 'cpp', 'HOSTNAME': 'ip-10-2-248-251.ec2.internal', 'ALGO_OUTPUT_DIR': '/opt/ml/output', 'TRAINING_JOB_NAME': 'image-classification-2024-09-23-16-45-07-386', 'NVIDIA_REQUIRE_CUDA': 'cuda>=10.1', 'TRAINING_JOB_ARN': 'arn:aws:sagemaker:us-east-1:165969638846:training-job/image-classification-2024-09-23-16-45-07-386', 'ALGO_INPUT_DATA_DIR': '/opt/ml/input/data', 'AWS_CONTAINER_CREDENTIALS_RELATIVE_URI': '/v2/credentials/proxy-bbdbc1d73932d62b1e148d5a3f7e2db5946d26bd67acd32a255d8aed92be70e5-customer', 'IMAGE_CLASSIFICATION_PRETRAINED': '/opt/amazon/pretrained', 'CANONICAL_ENVROOT': '/opt/amazon', 'PYTHONUNBUFFERED': 'TRUE', 'NVIDIA_VISIBLE_DEVICES': 'all', 'LD_LIBRARY_PATH': '/opt/amazon/lib/python3.8/site-packages/cv2/../../../../lib:/usr/local/nvidia/lib64:/opt/amazon/lib', 'NVIDIA_DRIVER_CAPABILITIES': 'compute,utility,compat32,graphics,video', 'SAGEMAKER_MANAGED_WARMPOOL_CACHE_DIRECTORY': '/opt/ml/sagemaker/warmpoolcache', 'ALGO_MODEL_DIR': '/opt/ml/model', 'PATH': '/opt/amazon/bin:/usr/local/nvidia/bin:/usr/local/sbin:/usr/local/bin:/usr/sbin:/usr/bin:/sbin:/bin', 'ALGO_INPUT_RESOURCE_CONFIG_FILE': '/opt/ml/input/config/resourceconfig.json', 'PWD': '/', 'LANG': 'en_US.utf8', 'AWS_REGION': 'us-east-1', 'SAGEMAKER_METRICS_DIRECTORY': '/opt/ml/output/metrics/sagemaker', 'ALGO_INPUT_TRAINING_CONFIG_FILE': '/opt/ml/input/config/hyperparameters.json', 'CUDA_VERSION': '11.1', 'HOME': '/root', 'SHLVL': '1', 'KMP_AFFINITY': 'granularity=fine,compact,1,0', 'CUDA_COMPAT_NDRIVER_SUPPORTED_VERSION': '455.32.00', 'ALGO_INPUT_DATA_CONFIG_FILE': '/opt/ml/input/config/inputdataconfig.json', 'PROTOCOL_BUFFERS_PYTHON_IMPLEMENTATION_VERSION': '2', 'OMP_NUM_THREADS': '4', 'DMLC_INTERFACE': 'eth0', 'ALGO_INPUT_DIR': '/opt/ml/input'}\u001b[0m\n",
      "\u001b[34m[09/23/2024 16:51:57 INFO 140469078337344] envs={'ENVROOT': '/opt/amazon', 'PROTOCOL_BUFFERS_PYTHON_IMPLEMENTATION': 'cpp', 'HOSTNAME': 'ip-10-2-248-251.ec2.internal', 'ALGO_OUTPUT_DIR': '/opt/ml/output', 'TRAINING_JOB_NAME': 'image-classification-2024-09-23-16-45-07-386', 'NVIDIA_REQUIRE_CUDA': 'cuda>=10.1', 'TRAINING_JOB_ARN': 'arn:aws:sagemaker:us-east-1:165969638846:training-job/image-classification-2024-09-23-16-45-07-386', 'ALGO_INPUT_DATA_DIR': '/opt/ml/input/data', 'AWS_CONTAINER_CREDENTIALS_RELATIVE_URI': '/v2/credentials/proxy-bbdbc1d73932d62b1e148d5a3f7e2db5946d26bd67acd32a255d8aed92be70e5-customer', 'IMAGE_CLASSIFICATION_PRETRAINED': '/opt/amazon/pretrained', 'CANONICAL_ENVROOT': '/opt/amazon', 'PYTHONUNBUFFERED': 'TRUE', 'NVIDIA_VISIBLE_DEVICES': 'all', 'LD_LIBRARY_PATH': '/opt/amazon/lib/python3.8/site-packages/cv2/../../../../lib:/usr/local/nvidia/lib64:/opt/amazon/lib', 'NVIDIA_DRIVER_CAPABILITIES': 'compute,utility,compat32,graphics,video', 'SAGEMAKER_MANAGED_WARMPOOL_CACHE_DIRECTORY': '/opt/ml/sagemaker/warmpoolcache', 'ALGO_MODEL_DIR': '/opt/ml/model', 'PATH': '/opt/amazon/bin:/usr/local/nvidia/bin:/usr/local/sbin:/usr/local/bin:/usr/sbin:/usr/bin:/sbin:/bin', 'ALGO_INPUT_RESOURCE_CONFIG_FILE': '/opt/ml/input/config/resourceconfig.json', 'PWD': '/', 'LANG': 'en_US.utf8', 'AWS_REGION': 'us-east-1', 'SAGEMAKER_METRICS_DIRECTORY': '/opt/ml/output/metrics/sagemaker', 'ALGO_INPUT_TRAINING_CONFIG_FILE': '/opt/ml/input/config/hyperparameters.json', 'CUDA_VERSION': '11.1', 'HOME': '/root', 'SHLVL': '1', 'KMP_AFFINITY': 'granularity=fine,compact,1,0', 'CUDA_COMPAT_NDRIVER_SUPPORTED_VERSION': '455.32.00', 'ALGO_INPUT_DATA_CONFIG_FILE': '/opt/ml/input/config/inputdataconfig.json', 'PROTOCOL_BUFFERS_PYTHON_IMPLEMENTATION_VERSION': '2', 'OMP_NUM_THREADS': '4', 'DMLC_INTERFACE': 'eth0', 'ALGO_INPUT_DIR': '/opt/ml/input', 'DMLC_ROLE': 'server', 'DMLC_PS_ROOT_URI': '10.2.248.251', 'DMLC_PS_ROOT_PORT': '9000', 'DMLC_NUM_SERVER': '2', 'DMLC_NUM_WORKER': '2'}\u001b[0m\n",
      "\u001b[34m[09/23/2024 16:51:57 INFO 140469078337344] Environment: {'ENVROOT': '/opt/amazon', 'PROTOCOL_BUFFERS_PYTHON_IMPLEMENTATION': 'cpp', 'HOSTNAME': 'ip-10-2-248-251.ec2.internal', 'ALGO_OUTPUT_DIR': '/opt/ml/output', 'TRAINING_JOB_NAME': 'image-classification-2024-09-23-16-45-07-386', 'NVIDIA_REQUIRE_CUDA': 'cuda>=10.1', 'TRAINING_JOB_ARN': 'arn:aws:sagemaker:us-east-1:165969638846:training-job/image-classification-2024-09-23-16-45-07-386', 'ALGO_INPUT_DATA_DIR': '/opt/ml/input/data', 'AWS_CONTAINER_CREDENTIALS_RELATIVE_URI': '/v2/credentials/proxy-bbdbc1d73932d62b1e148d5a3f7e2db5946d26bd67acd32a255d8aed92be70e5-customer', 'IMAGE_CLASSIFICATION_PRETRAINED': '/opt/amazon/pretrained', 'CANONICAL_ENVROOT': '/opt/amazon', 'PYTHONUNBUFFERED': 'TRUE', 'NVIDIA_VISIBLE_DEVICES': 'all', 'LD_LIBRARY_PATH': '/opt/amazon/lib/python3.8/site-packages/cv2/../../../../lib:/usr/local/nvidia/lib64:/opt/amazon/lib', 'NVIDIA_DRIVER_CAPABILITIES': 'compute,utility,compat32,graphics,video', 'SAGEMAKER_MANAGED_WARMPOOL_CACHE_DIRECTORY': '/opt/ml/sagemaker/warmpoolcache', 'ALGO_MODEL_DIR': '/opt/ml/model', 'PATH': '/opt/amazon/bin:/usr/local/nvidia/bin:/usr/local/sbin:/usr/local/bin:/usr/sbin:/usr/bin:/sbin:/bin', 'ALGO_INPUT_RESOURCE_CONFIG_FILE': '/opt/ml/input/config/resourceconfig.json', 'PWD': '/', 'LANG': 'en_US.utf8', 'AWS_REGION': 'us-east-1', 'SAGEMAKER_METRICS_DIRECTORY': '/opt/ml/output/metrics/sagemaker', 'ALGO_INPUT_TRAINING_CONFIG_FILE': '/opt/ml/input/config/hyperparameters.json', 'CUDA_VERSION': '11.1', 'HOME': '/root', 'SHLVL': '1', 'KMP_AFFINITY': 'granularity=fine,compact,1,0', 'CUDA_COMPAT_NDRIVER_SUPPORTED_VERSION': '455.32.00', 'ALGO_INPUT_DATA_CONFIG_FILE': '/opt/ml/input/config/inputdataconfig.json', 'PROTOCOL_BUFFERS_PYTHON_IMPLEMENTATION_VERSION': '2', 'OMP_NUM_THREADS': '4', 'DMLC_INTERFACE': 'eth0', 'ALGO_INPUT_DIR': '/opt/ml/input', 'DMLC_ROLE': 'worker', 'DMLC_PS_ROOT_URI': '10.2.248.251', 'DMLC_PS_ROOT_PORT': '9000', 'DMLC_NUM_SERVER': '2', 'DMLC_NUM_WORKER': '2'}\u001b[0m\n",
      "\u001b[34m[09/23/2024 16:51:57 INFO 140469078337344] Searching for .lst files in /opt/ml/input/data/train_lst.\u001b[0m\n",
      "\u001b[34m[09/23/2024 16:51:57 INFO 140469078337344] Creating record files for train.lst\u001b[0m\n",
      "\u001b[35m[09/23/2024 16:51:57 INFO 139786487621440] Reading default configuration from /opt/amazon/lib/python3.8/site-packages/image_classification/default-input.json: {'use_pretrained_model': 0, 'num_layers': 152, 'epochs': 30, 'learning_rate': 0.1, 'lr_scheduler_factor': 0.1, 'optimizer': 'sgd', 'momentum': 0, 'weight_decay': 0.0001, 'beta_1': 0.9, 'beta_2': 0.999, 'eps': 1e-08, 'gamma': 0.9, 'mini_batch_size': 32, 'image_shape': '3,224,224', 'precision_dtype': 'float32'}\u001b[0m\n",
      "\u001b[35m[09/23/2024 16:51:57 INFO 139786487621440] Merging with provided configuration from /opt/ml/input/config/hyperparameters.json: {'image_shape': '3,32,32', 'num_classes': '2', 'num_training_samples': '1000'}\u001b[0m\n",
      "\u001b[35m[09/23/2024 16:51:57 INFO 139786487621440] Final configuration: {'use_pretrained_model': 0, 'num_layers': 152, 'epochs': 30, 'learning_rate': 0.1, 'lr_scheduler_factor': 0.1, 'optimizer': 'sgd', 'momentum': 0, 'weight_decay': 0.0001, 'beta_1': 0.9, 'beta_2': 0.999, 'eps': 1e-08, 'gamma': 0.9, 'mini_batch_size': 32, 'image_shape': '3,32,32', 'precision_dtype': 'float32', 'num_classes': '2', 'num_training_samples': '1000'}\u001b[0m\n",
      "\u001b[35m[09/23/2024 16:51:57 INFO 139786487621440] Launching parameter server for role server\u001b[0m\n",
      "\u001b[35m[09/23/2024 16:51:57 INFO 139786487621440] {'ENVROOT': '/opt/amazon', 'PROTOCOL_BUFFERS_PYTHON_IMPLEMENTATION': 'cpp', 'HOSTNAME': 'ip-10-2-222-144.ec2.internal', 'ALGO_OUTPUT_DIR': '/opt/ml/output', 'TRAINING_JOB_NAME': 'image-classification-2024-09-23-16-45-07-386', 'NVIDIA_REQUIRE_CUDA': 'cuda>=10.1', 'TRAINING_JOB_ARN': 'arn:aws:sagemaker:us-east-1:165969638846:training-job/image-classification-2024-09-23-16-45-07-386', 'ALGO_INPUT_DATA_DIR': '/opt/ml/input/data', 'AWS_CONTAINER_CREDENTIALS_RELATIVE_URI': '/v2/credentials/proxy-bbdbc1d73932d62b1e148d5a3f7e2db5946d26bd67acd32a255d8aed92be70e5-customer', 'IMAGE_CLASSIFICATION_PRETRAINED': '/opt/amazon/pretrained', 'CANONICAL_ENVROOT': '/opt/amazon', 'PYTHONUNBUFFERED': 'TRUE', 'NVIDIA_VISIBLE_DEVICES': 'all', 'LD_LIBRARY_PATH': '/opt/amazon/lib/python3.8/site-packages/cv2/../../../../lib:/usr/local/nvidia/lib64:/opt/amazon/lib', 'NVIDIA_DRIVER_CAPABILITIES': 'compute,utility,compat32,graphics,video', 'SAGEMAKER_MANAGED_WARMPOOL_CACHE_DIRECTORY': '/opt/ml/sagemaker/warmpoolcache', 'ALGO_MODEL_DIR': '/opt/ml/model', 'PATH': '/opt/amazon/bin:/usr/local/nvidia/bin:/usr/local/sbin:/usr/local/bin:/usr/sbin:/usr/bin:/sbin:/bin', 'ALGO_INPUT_RESOURCE_CONFIG_FILE': '/opt/ml/input/config/resourceconfig.json', 'PWD': '/', 'LANG': 'en_US.utf8', 'AWS_REGION': 'us-east-1', 'SAGEMAKER_METRICS_DIRECTORY': '/opt/ml/output/metrics/sagemaker', 'ALGO_INPUT_TRAINING_CONFIG_FILE': '/opt/ml/input/config/hyperparameters.json', 'CUDA_VERSION': '11.1', 'HOME': '/root', 'SHLVL': '1', 'KMP_AFFINITY': 'granularity=fine,compact,1,0', 'CUDA_COMPAT_NDRIVER_SUPPORTED_VERSION': '455.32.00', 'ALGO_INPUT_DATA_CONFIG_FILE': '/opt/ml/input/config/inputdataconfig.json', 'PROTOCOL_BUFFERS_PYTHON_IMPLEMENTATION_VERSION': '2', 'OMP_NUM_THREADS': '4', 'DMLC_INTERFACE': 'eth0', 'ALGO_INPUT_DIR': '/opt/ml/input'}\u001b[0m\n",
      "\u001b[35m[09/23/2024 16:51:57 INFO 139786487621440] envs={'ENVROOT': '/opt/amazon', 'PROTOCOL_BUFFERS_PYTHON_IMPLEMENTATION': 'cpp', 'HOSTNAME': 'ip-10-2-222-144.ec2.internal', 'ALGO_OUTPUT_DIR': '/opt/ml/output', 'TRAINING_JOB_NAME': 'image-classification-2024-09-23-16-45-07-386', 'NVIDIA_REQUIRE_CUDA': 'cuda>=10.1', 'TRAINING_JOB_ARN': 'arn:aws:sagemaker:us-east-1:165969638846:training-job/image-classification-2024-09-23-16-45-07-386', 'ALGO_INPUT_DATA_DIR': '/opt/ml/input/data', 'AWS_CONTAINER_CREDENTIALS_RELATIVE_URI': '/v2/credentials/proxy-bbdbc1d73932d62b1e148d5a3f7e2db5946d26bd67acd32a255d8aed92be70e5-customer', 'IMAGE_CLASSIFICATION_PRETRAINED': '/opt/amazon/pretrained', 'CANONICAL_ENVROOT': '/opt/amazon', 'PYTHONUNBUFFERED': 'TRUE', 'NVIDIA_VISIBLE_DEVICES': 'all', 'LD_LIBRARY_PATH': '/opt/amazon/lib/python3.8/site-packages/cv2/../../../../lib:/usr/local/nvidia/lib64:/opt/amazon/lib', 'NVIDIA_DRIVER_CAPABILITIES': 'compute,utility,compat32,graphics,video', 'SAGEMAKER_MANAGED_WARMPOOL_CACHE_DIRECTORY': '/opt/ml/sagemaker/warmpoolcache', 'ALGO_MODEL_DIR': '/opt/ml/model', 'PATH': '/opt/amazon/bin:/usr/local/nvidia/bin:/usr/local/sbin:/usr/local/bin:/usr/sbin:/usr/bin:/sbin:/bin', 'ALGO_INPUT_RESOURCE_CONFIG_FILE': '/opt/ml/input/config/resourceconfig.json', 'PWD': '/', 'LANG': 'en_US.utf8', 'AWS_REGION': 'us-east-1', 'SAGEMAKER_METRICS_DIRECTORY': '/opt/ml/output/metrics/sagemaker', 'ALGO_INPUT_TRAINING_CONFIG_FILE': '/opt/ml/input/config/hyperparameters.json', 'CUDA_VERSION': '11.1', 'HOME': '/root', 'SHLVL': '1', 'KMP_AFFINITY': 'granularity=fine,compact,1,0', 'CUDA_COMPAT_NDRIVER_SUPPORTED_VERSION': '455.32.00', 'ALGO_INPUT_DATA_CONFIG_FILE': '/opt/ml/input/config/inputdataconfig.json', 'PROTOCOL_BUFFERS_PYTHON_IMPLEMENTATION_VERSION': '2', 'OMP_NUM_THREADS': '4', 'DMLC_INTERFACE': 'eth0', 'ALGO_INPUT_DIR': '/opt/ml/input', 'DMLC_ROLE': 'server', 'DMLC_PS_ROOT_URI': '10.2.248.251', 'DMLC_PS_ROOT_PORT': '9000', 'DMLC_NUM_SERVER': '2', 'DMLC_NUM_WORKER': '2'}\u001b[0m\n",
      "\u001b[35m[09/23/2024 16:51:57 INFO 139786487621440] Environment: {'ENVROOT': '/opt/amazon', 'PROTOCOL_BUFFERS_PYTHON_IMPLEMENTATION': 'cpp', 'HOSTNAME': 'ip-10-2-222-144.ec2.internal', 'ALGO_OUTPUT_DIR': '/opt/ml/output', 'TRAINING_JOB_NAME': 'image-classification-2024-09-23-16-45-07-386', 'NVIDIA_REQUIRE_CUDA': 'cuda>=10.1', 'TRAINING_JOB_ARN': 'arn:aws:sagemaker:us-east-1:165969638846:training-job/image-classification-2024-09-23-16-45-07-386', 'ALGO_INPUT_DATA_DIR': '/opt/ml/input/data', 'AWS_CONTAINER_CREDENTIALS_RELATIVE_URI': '/v2/credentials/proxy-bbdbc1d73932d62b1e148d5a3f7e2db5946d26bd67acd32a255d8aed92be70e5-customer', 'IMAGE_CLASSIFICATION_PRETRAINED': '/opt/amazon/pretrained', 'CANONICAL_ENVROOT': '/opt/amazon', 'PYTHONUNBUFFERED': 'TRUE', 'NVIDIA_VISIBLE_DEVICES': 'all', 'LD_LIBRARY_PATH': '/opt/amazon/lib/python3.8/site-packages/cv2/../../../../lib:/usr/local/nvidia/lib64:/opt/amazon/lib', 'NVIDIA_DRIVER_CAPABILITIES': 'compute,utility,compat32,graphics,video', 'SAGEMAKER_MANAGED_WARMPOOL_CACHE_DIRECTORY': '/opt/ml/sagemaker/warmpoolcache', 'ALGO_MODEL_DIR': '/opt/ml/model', 'PATH': '/opt/amazon/bin:/usr/local/nvidia/bin:/usr/local/sbin:/usr/local/bin:/usr/sbin:/usr/bin:/sbin:/bin', 'ALGO_INPUT_RESOURCE_CONFIG_FILE': '/opt/ml/input/config/resourceconfig.json', 'PWD': '/', 'LANG': 'en_US.utf8', 'AWS_REGION': 'us-east-1', 'SAGEMAKER_METRICS_DIRECTORY': '/opt/ml/output/metrics/sagemaker', 'ALGO_INPUT_TRAINING_CONFIG_FILE': '/opt/ml/input/config/hyperparameters.json', 'CUDA_VERSION': '11.1', 'HOME': '/root', 'SHLVL': '1', 'KMP_AFFINITY': 'granularity=fine,compact,1,0', 'CUDA_COMPAT_NDRIVER_SUPPORTED_VERSION': '455.32.00', 'ALGO_INPUT_DATA_CONFIG_FILE': '/opt/ml/input/config/inputdataconfig.json', 'PROTOCOL_BUFFERS_PYTHON_IMPLEMENTATION_VERSION': '2', 'OMP_NUM_THREADS': '4', 'DMLC_INTERFACE': 'eth0', 'ALGO_INPUT_DIR': '/opt/ml/input', 'DMLC_ROLE': 'worker', 'DMLC_PS_ROOT_URI': '10.2.248.251', 'DMLC_PS_ROOT_PORT': '9000', 'DMLC_NUM_SERVER': '2', 'DMLC_NUM_WORKER': '2'}\u001b[0m\n",
      "\u001b[35m[09/23/2024 16:51:57 INFO 139786487621440] Searching for .lst files in /opt/ml/input/data/train_lst.\u001b[0m\n",
      "\u001b[35m[09/23/2024 16:51:57 INFO 139786487621440] Creating record files for train.lst\u001b[0m\n",
      "\u001b[35m[09/23/2024 16:51:57 INFO 139786487621440] Done creating record files...\u001b[0m\n",
      "\u001b[35m[09/23/2024 16:51:57 INFO 139786487621440] Searching for .lst files in /opt/ml/input/data/validation_lst.\u001b[0m\n",
      "\u001b[35m[09/23/2024 16:51:57 INFO 139786487621440] Creating record files for test.lst\u001b[0m\n",
      "\u001b[35m[09/23/2024 16:51:57 INFO 139786487621440] Done creating record files...\u001b[0m\n",
      "\u001b[35m[09/23/2024 16:51:57 INFO 139786487621440] use_pretrained_model: 0\u001b[0m\n",
      "\u001b[35m[09/23/2024 16:51:57 INFO 139786487621440] multi_label: 0\u001b[0m\n",
      "\u001b[35m[09/23/2024 16:51:57 INFO 139786487621440] Performing random weight initialization\u001b[0m\n",
      "\u001b[35m[09/23/2024 16:51:57 INFO 139786487621440] ---- Parameters ----\u001b[0m\n",
      "\u001b[35m[09/23/2024 16:51:57 INFO 139786487621440] num_layers: 152\u001b[0m\n",
      "\u001b[35m[09/23/2024 16:51:57 INFO 139786487621440] data type: <class 'numpy.float32'>\u001b[0m\n",
      "\u001b[35m[09/23/2024 16:51:57 INFO 139786487621440] epochs: 30\u001b[0m\n",
      "\u001b[35m[09/23/2024 16:51:57 INFO 139786487621440] optimizer: sgd\u001b[0m\n",
      "\u001b[35m[09/23/2024 16:51:57 INFO 139786487621440] momentum: 0.9\u001b[0m\n",
      "\u001b[35m[09/23/2024 16:51:57 INFO 139786487621440] weight_decay: 0.0001\u001b[0m\n",
      "\u001b[35m[09/23/2024 16:51:57 INFO 139786487621440] learning_rate: 0.1\u001b[0m\n",
      "\u001b[35m[09/23/2024 16:51:57 INFO 139786487621440] num_training_samples: 1000\u001b[0m\n",
      "\u001b[35m[09/23/2024 16:51:57 INFO 139786487621440] mini_batch_size: 32\u001b[0m\n",
      "\u001b[35m[09/23/2024 16:51:57 INFO 139786487621440] image_shape: 3,32,32\u001b[0m\n",
      "\u001b[35m[09/23/2024 16:51:57 INFO 139786487621440] num_classes: 2\u001b[0m\n",
      "\u001b[35m[09/23/2024 16:51:57 INFO 139786487621440] augmentation_type: None\u001b[0m\n",
      "\u001b[35m[09/23/2024 16:51:57 INFO 139786487621440] kv_store: dist_sync\u001b[0m\n",
      "\u001b[35m[09/23/2024 16:51:57 INFO 139786487621440] checkpoint_frequency not set, will store the best model\u001b[0m\n",
      "\u001b[35m[09/23/2024 16:51:57 INFO 139786487621440] --------------------\u001b[0m\n",
      "\u001b[34m[09/23/2024 16:51:58 INFO 140469078337344] Done creating record files...\u001b[0m\n",
      "\u001b[34m[09/23/2024 16:51:58 INFO 140469078337344] Searching for .lst files in /opt/ml/input/data/validation_lst.\u001b[0m\n",
      "\u001b[34m[09/23/2024 16:51:58 INFO 140469078337344] Creating record files for test.lst\u001b[0m\n",
      "\u001b[34m[09/23/2024 16:51:58 INFO 140469078337344] Done creating record files...\u001b[0m\n",
      "\u001b[34m[09/23/2024 16:51:58 INFO 140469078337344] use_pretrained_model: 0\u001b[0m\n",
      "\u001b[34m[09/23/2024 16:51:58 INFO 140469078337344] multi_label: 0\u001b[0m\n",
      "\u001b[34m[09/23/2024 16:51:58 INFO 140469078337344] Performing random weight initialization\u001b[0m\n",
      "\u001b[34m[09/23/2024 16:51:58 INFO 140469078337344] ---- Parameters ----\u001b[0m\n",
      "\u001b[34m[09/23/2024 16:51:58 INFO 140469078337344] num_layers: 152\u001b[0m\n",
      "\u001b[34m[09/23/2024 16:51:58 INFO 140469078337344] data type: <class 'numpy.float32'>\u001b[0m\n",
      "\u001b[34m[09/23/2024 16:51:58 INFO 140469078337344] epochs: 30\u001b[0m\n",
      "\u001b[34m[09/23/2024 16:51:58 INFO 140469078337344] optimizer: sgd\u001b[0m\n",
      "\u001b[34m[09/23/2024 16:51:58 INFO 140469078337344] momentum: 0.9\u001b[0m\n",
      "\u001b[34m[09/23/2024 16:51:58 INFO 140469078337344] weight_decay: 0.0001\u001b[0m\n",
      "\u001b[34m[09/23/2024 16:51:58 INFO 140469078337344] learning_rate: 0.1\u001b[0m\n",
      "\u001b[34m[09/23/2024 16:51:58 INFO 140469078337344] num_training_samples: 1000\u001b[0m\n",
      "\u001b[34m[09/23/2024 16:51:58 INFO 140469078337344] mini_batch_size: 32\u001b[0m\n",
      "\u001b[34m[09/23/2024 16:51:58 INFO 140469078337344] image_shape: 3,32,32\u001b[0m\n",
      "\u001b[34m[09/23/2024 16:51:58 INFO 140469078337344] num_classes: 2\u001b[0m\n",
      "\u001b[34m[09/23/2024 16:51:58 INFO 140469078337344] augmentation_type: None\u001b[0m\n",
      "\u001b[34m[09/23/2024 16:51:58 INFO 140469078337344] kv_store: dist_sync\u001b[0m\n",
      "\u001b[34m[09/23/2024 16:51:58 INFO 140469078337344] checkpoint_frequency not set, will store the best model\u001b[0m\n",
      "\u001b[34m[09/23/2024 16:51:58 INFO 140469078337344] --------------------\u001b[0m\n",
      "\u001b[34m/opt/amazon/python3.8/lib/python3.8/subprocess.py:848: RuntimeWarning: line buffering (buffering=1) isn't supported in binary mode, the default buffer size will be used\n",
      "  self.stdout = io.open(c2pread, 'rb', bufsize)\u001b[0m\n",
      "\u001b[34m[09/23/2024 16:51:58 INFO 140469078337344] Setting number of threads: 7\u001b[0m\n",
      "\u001b[35m/opt/amazon/python3.8/lib/python3.8/subprocess.py:848: RuntimeWarning: line buffering (buffering=1) isn't supported in binary mode, the default buffer size will be used\n",
      "  self.stdout = io.open(c2pread, 'rb', bufsize)\u001b[0m\n",
      "\u001b[35m[09/23/2024 16:51:58 INFO 139786487621440] Setting number of threads: 7\u001b[0m\n",
      "\u001b[34m[16:52:05] /opt/brazil-pkg-cache/packages/AIAlgorithmsMXNet/AIAlgorithmsMXNet-1.4.x_ecl_Cuda_11.1.x.441.0/AL2_x86_64/generic-flavor/src/src/operator/nn/./cudnn/./cudnn_algoreg-inl.h:97: Running performance tests to find the best convolution algorithm, this can take a while... (setting env variable MXNET_CUDNN_AUTOTUNE_DEFAULT to 0 to disable)\u001b[0m\n",
      "\u001b[35m[16:52:05] /opt/brazil-pkg-cache/packages/AIAlgorithmsMXNet/AIAlgorithmsMXNet-1.4.x_ecl_Cuda_11.1.x.441.0/AL2_x86_64/generic-flavor/src/src/operator/nn/./cudnn/./cudnn_algoreg-inl.h:97: Running performance tests to find the best convolution algorithm, this can take a while... (setting env variable MXNET_CUDNN_AUTOTUNE_DEFAULT to 0 to disable)\u001b[0m\n",
      "\u001b[34m[09/23/2024 16:52:13 INFO 140469078337344] Epoch[0] Train-accuracy=0.529167\u001b[0m\n",
      "\u001b[34m[09/23/2024 16:52:13 INFO 140469078337344] Epoch[0] Time cost=7.848\u001b[0m\n",
      "\u001b[34m[09/23/2024 16:52:13 INFO 140469078337344] Epoch[0] Validation-accuracy=0.510417\u001b[0m\n",
      "\u001b[35m[09/23/2024 16:52:13 INFO 139786487621440] Epoch[0] Train-accuracy=0.500000\u001b[0m\n",
      "\u001b[35m[09/23/2024 16:52:13 INFO 139786487621440] Epoch[0] Time cost=7.831\u001b[0m\n",
      "\u001b[35m[09/23/2024 16:52:13 INFO 139786487621440] Epoch[0] Validation-accuracy=0.479167\u001b[0m\n",
      "\u001b[34m[09/23/2024 16:52:14 INFO 140469078337344] Storing the best model with validation accuracy: 0.510417\u001b[0m\n",
      "\u001b[34m[09/23/2024 16:52:14 INFO 140469078337344] Saved checkpoint to \"/opt/ml/model/image-classification-0001.params\"\u001b[0m\n",
      "\u001b[34m[09/23/2024 16:52:21 INFO 140469078337344] Epoch[1] Train-accuracy=0.479167\u001b[0m\n",
      "\u001b[34m[09/23/2024 16:52:21 INFO 140469078337344] Epoch[1] Time cost=6.785\u001b[0m\n",
      "\u001b[35m[09/23/2024 16:52:21 INFO 139786487621440] Epoch[1] Train-accuracy=0.529167\u001b[0m\n",
      "\u001b[35m[09/23/2024 16:52:21 INFO 139786487621440] Epoch[1] Time cost=6.861\u001b[0m\n",
      "\u001b[35m[09/23/2024 16:52:21 INFO 139786487621440] Epoch[1] Validation-accuracy=0.562500\u001b[0m\n",
      "\u001b[34m[09/23/2024 16:52:21 INFO 140469078337344] Epoch[1] Validation-accuracy=0.520833\u001b[0m\n",
      "\u001b[34m[09/23/2024 16:52:22 INFO 140469078337344] Storing the best model with validation accuracy: 0.520833\u001b[0m\n",
      "\u001b[34m[09/23/2024 16:52:22 INFO 140469078337344] Saved checkpoint to \"/opt/ml/model/image-classification-0002.params\"\u001b[0m\n",
      "\u001b[34m[09/23/2024 16:52:29 INFO 140469078337344] Epoch[2] Train-accuracy=0.608333\u001b[0m\n",
      "\u001b[34m[09/23/2024 16:52:29 INFO 140469078337344] Epoch[2] Time cost=6.752\u001b[0m\n",
      "\u001b[35m[09/23/2024 16:52:29 INFO 139786487621440] Epoch[2] Train-accuracy=0.600000\u001b[0m\n",
      "\u001b[35m[09/23/2024 16:52:29 INFO 139786487621440] Epoch[2] Time cost=6.742\u001b[0m\n",
      "\u001b[35m[09/23/2024 16:52:29 INFO 139786487621440] Epoch[2] Validation-accuracy=0.552083\u001b[0m\n",
      "\u001b[34m[09/23/2024 16:52:29 INFO 140469078337344] Epoch[2] Validation-accuracy=0.614583\u001b[0m\n",
      "\u001b[34m[09/23/2024 16:52:30 INFO 140469078337344] Storing the best model with validation accuracy: 0.614583\u001b[0m\n",
      "\u001b[34m[09/23/2024 16:52:30 INFO 140469078337344] Saved checkpoint to \"/opt/ml/model/image-classification-0003.params\"\u001b[0m\n",
      "\u001b[34m[09/23/2024 16:52:37 INFO 140469078337344] Epoch[3] Train-accuracy=0.656250\u001b[0m\n",
      "\u001b[34m[09/23/2024 16:52:37 INFO 140469078337344] Epoch[3] Time cost=6.719\u001b[0m\n",
      "\u001b[35m[09/23/2024 16:52:37 INFO 139786487621440] Epoch[3] Train-accuracy=0.670833\u001b[0m\n",
      "\u001b[35m[09/23/2024 16:52:37 INFO 139786487621440] Epoch[3] Time cost=6.679\u001b[0m\n",
      "\u001b[35m[09/23/2024 16:52:37 INFO 139786487621440] Epoch[3] Validation-accuracy=0.635417\u001b[0m\n",
      "\u001b[34m[09/23/2024 16:52:37 INFO 140469078337344] Epoch[3] Validation-accuracy=0.697917\u001b[0m\n",
      "\u001b[34m[09/23/2024 16:52:38 INFO 140469078337344] Storing the best model with validation accuracy: 0.697917\u001b[0m\n",
      "\u001b[34m[09/23/2024 16:52:38 INFO 140469078337344] Saved checkpoint to \"/opt/ml/model/image-classification-0004.params\"\u001b[0m\n",
      "\u001b[34m[09/23/2024 16:52:45 INFO 140469078337344] Epoch[4] Train-accuracy=0.704167\u001b[0m\n",
      "\u001b[34m[09/23/2024 16:52:45 INFO 140469078337344] Epoch[4] Time cost=6.757\u001b[0m\n",
      "\u001b[35m[09/23/2024 16:52:45 INFO 139786487621440] Epoch[4] Train-accuracy=0.735417\u001b[0m\n",
      "\u001b[35m[09/23/2024 16:52:45 INFO 139786487621440] Epoch[4] Time cost=6.714\u001b[0m\n",
      "\u001b[35m[09/23/2024 16:52:45 INFO 139786487621440] Epoch[4] Validation-accuracy=0.656250\u001b[0m\n",
      "\u001b[34m[09/23/2024 16:52:45 INFO 140469078337344] Epoch[4] Validation-accuracy=0.750000\u001b[0m\n",
      "\u001b[34m[09/23/2024 16:52:46 INFO 140469078337344] Storing the best model with validation accuracy: 0.750000\u001b[0m\n",
      "\u001b[34m[09/23/2024 16:52:46 INFO 140469078337344] Saved checkpoint to \"/opt/ml/model/image-classification-0005.params\"\u001b[0m\n",
      "\u001b[34m[09/23/2024 16:52:53 INFO 140469078337344] Epoch[5] Train-accuracy=0.687500\u001b[0m\n",
      "\u001b[34m[09/23/2024 16:52:53 INFO 140469078337344] Epoch[5] Time cost=6.668\u001b[0m\n",
      "\u001b[34m[09/23/2024 16:52:53 INFO 140469078337344] Epoch[5] Validation-accuracy=0.739583\u001b[0m\n",
      "\u001b[35m[09/23/2024 16:52:53 INFO 139786487621440] Epoch[5] Train-accuracy=0.693750\u001b[0m\n",
      "\u001b[35m[09/23/2024 16:52:53 INFO 139786487621440] Epoch[5] Time cost=6.663\u001b[0m\n",
      "\u001b[35m[09/23/2024 16:52:53 INFO 139786487621440] Epoch[5] Validation-accuracy=0.729167\u001b[0m\n",
      "\u001b[34m[09/23/2024 16:53:01 INFO 140469078337344] Epoch[6] Train-accuracy=0.783333\u001b[0m\n",
      "\u001b[34m[09/23/2024 16:53:01 INFO 140469078337344] Epoch[6] Time cost=6.831\u001b[0m\n",
      "\u001b[34m[09/23/2024 16:53:01 INFO 140469078337344] Epoch[6] Validation-accuracy=0.781250\u001b[0m\n",
      "\u001b[35m[09/23/2024 16:53:00 INFO 139786487621440] Epoch[6] Train-accuracy=0.754167\u001b[0m\n",
      "\u001b[35m[09/23/2024 16:53:00 INFO 139786487621440] Epoch[6] Time cost=6.764\u001b[0m\n",
      "\u001b[35m[09/23/2024 16:53:01 INFO 139786487621440] Epoch[6] Validation-accuracy=0.781250\u001b[0m\n",
      "\u001b[34m[09/23/2024 16:53:01 INFO 140469078337344] Storing the best model with validation accuracy: 0.781250\u001b[0m\n",
      "\u001b[34m[09/23/2024 16:53:02 INFO 140469078337344] Saved checkpoint to \"/opt/ml/model/image-classification-0007.params\"\u001b[0m\n",
      "\u001b[34m[09/23/2024 16:53:09 INFO 140469078337344] Epoch[7] Train-accuracy=0.768750\u001b[0m\n",
      "\u001b[34m[09/23/2024 16:53:09 INFO 140469078337344] Epoch[7] Time cost=6.878\u001b[0m\n",
      "\u001b[34m[09/23/2024 16:53:09 INFO 140469078337344] Epoch[7] Validation-accuracy=0.796875\u001b[0m\n",
      "\u001b[35m[09/23/2024 16:53:09 INFO 139786487621440] Epoch[7] Train-accuracy=0.775000\u001b[0m\n",
      "\u001b[35m[09/23/2024 16:53:09 INFO 139786487621440] Epoch[7] Time cost=6.827\u001b[0m\n",
      "\u001b[35m[09/23/2024 16:53:09 INFO 139786487621440] Epoch[7] Validation-accuracy=0.757812\u001b[0m\n",
      "\u001b[34m[09/23/2024 16:53:10 INFO 140469078337344] Storing the best model with validation accuracy: 0.796875\u001b[0m\n",
      "\u001b[34m[09/23/2024 16:53:10 INFO 140469078337344] Saved checkpoint to \"/opt/ml/model/image-classification-0008.params\"\u001b[0m\n",
      "\u001b[34m[09/23/2024 16:53:17 INFO 140469078337344] Epoch[8] Train-accuracy=0.787500\u001b[0m\n",
      "\u001b[34m[09/23/2024 16:53:17 INFO 140469078337344] Epoch[8] Time cost=6.718\u001b[0m\n",
      "\u001b[35m[09/23/2024 16:53:17 INFO 139786487621440] Epoch[8] Train-accuracy=0.785417\u001b[0m\n",
      "\u001b[35m[09/23/2024 16:53:17 INFO 139786487621440] Epoch[8] Time cost=6.787\u001b[0m\n",
      "\u001b[35m[09/23/2024 16:53:17 INFO 139786487621440] Epoch[8] Validation-accuracy=0.791667\u001b[0m\n",
      "\u001b[34m[09/23/2024 16:53:17 INFO 140469078337344] Epoch[8] Validation-accuracy=0.770833\u001b[0m\n",
      "\u001b[35m[09/23/2024 16:53:24 INFO 139786487621440] Epoch[9] Train-accuracy=0.802083\u001b[0m\n",
      "\u001b[35m[09/23/2024 16:53:24 INFO 139786487621440] Epoch[9] Time cost=6.630\u001b[0m\n",
      "\u001b[34m[09/23/2024 16:53:24 INFO 140469078337344] Epoch[9] Train-accuracy=0.795833\u001b[0m\n",
      "\u001b[34m[09/23/2024 16:53:24 INFO 140469078337344] Epoch[9] Time cost=6.661\u001b[0m\n",
      "\u001b[34m[09/23/2024 16:53:25 INFO 140469078337344] Epoch[9] Validation-accuracy=0.833333\u001b[0m\n",
      "\u001b[34m[09/23/2024 16:53:25 INFO 140469078337344] Storing the best model with validation accuracy: 0.833333\u001b[0m\n",
      "\u001b[35m[09/23/2024 16:53:25 INFO 139786487621440] Epoch[9] Validation-accuracy=0.802083\u001b[0m\n",
      "\u001b[34m[09/23/2024 16:53:26 INFO 140469078337344] Saved checkpoint to \"/opt/ml/model/image-classification-0010.params\"\u001b[0m\n",
      "\u001b[35m[09/23/2024 16:53:32 INFO 139786487621440] Epoch[10] Train-accuracy=0.816667\u001b[0m\n",
      "\u001b[35m[09/23/2024 16:53:32 INFO 139786487621440] Epoch[10] Time cost=6.673\u001b[0m\n",
      "\u001b[34m[09/23/2024 16:53:32 INFO 140469078337344] Epoch[10] Train-accuracy=0.804167\u001b[0m\n",
      "\u001b[34m[09/23/2024 16:53:32 INFO 140469078337344] Epoch[10] Time cost=6.678\u001b[0m\n",
      "\u001b[34m[09/23/2024 16:53:33 INFO 140469078337344] Epoch[10] Validation-accuracy=0.875000\u001b[0m\n",
      "\u001b[34m[09/23/2024 16:53:33 INFO 140469078337344] Storing the best model with validation accuracy: 0.875000\u001b[0m\n",
      "\u001b[35m[09/23/2024 16:53:33 INFO 139786487621440] Epoch[10] Validation-accuracy=0.843750\u001b[0m\n",
      "\u001b[34m[09/23/2024 16:53:34 INFO 140469078337344] Saved checkpoint to \"/opt/ml/model/image-classification-0011.params\"\u001b[0m\n",
      "\u001b[35m[09/23/2024 16:53:40 INFO 139786487621440] Epoch[11] Train-accuracy=0.835417\u001b[0m\n",
      "\u001b[35m[09/23/2024 16:53:40 INFO 139786487621440] Epoch[11] Time cost=6.695\u001b[0m\n",
      "\u001b[34m[09/23/2024 16:53:40 INFO 140469078337344] Epoch[11] Train-accuracy=0.816667\u001b[0m\n",
      "\u001b[34m[09/23/2024 16:53:40 INFO 140469078337344] Epoch[11] Time cost=6.737\u001b[0m\n",
      "\u001b[34m[09/23/2024 16:53:41 INFO 140469078337344] Epoch[11] Validation-accuracy=0.781250\u001b[0m\n",
      "\u001b[35m[09/23/2024 16:53:41 INFO 139786487621440] Epoch[11] Validation-accuracy=0.833333\u001b[0m\n",
      "\u001b[34m[09/23/2024 16:53:48 INFO 140469078337344] Epoch[12] Train-accuracy=0.806250\u001b[0m\n",
      "\u001b[34m[09/23/2024 16:53:48 INFO 140469078337344] Epoch[12] Time cost=6.694\u001b[0m\n",
      "\u001b[35m[09/23/2024 16:53:48 INFO 139786487621440] Epoch[12] Train-accuracy=0.779167\u001b[0m\n",
      "\u001b[35m[09/23/2024 16:53:48 INFO 139786487621440] Epoch[12] Time cost=6.673\u001b[0m\n",
      "\u001b[34m[09/23/2024 16:53:49 INFO 140469078337344] Epoch[12] Validation-accuracy=0.770833\u001b[0m\n",
      "\u001b[35m[09/23/2024 16:53:49 INFO 139786487621440] Epoch[12] Validation-accuracy=0.802083\u001b[0m\n",
      "\u001b[34m[09/23/2024 16:53:56 INFO 140469078337344] Epoch[13] Train-accuracy=0.793750\u001b[0m\n",
      "\u001b[34m[09/23/2024 16:53:56 INFO 140469078337344] Epoch[13] Time cost=6.705\u001b[0m\n",
      "\u001b[35m[09/23/2024 16:53:56 INFO 139786487621440] Epoch[13] Train-accuracy=0.818750\u001b[0m\n",
      "\u001b[35m[09/23/2024 16:53:56 INFO 139786487621440] Epoch[13] Time cost=6.611\u001b[0m\n",
      "\u001b[35m[09/23/2024 16:53:56 INFO 139786487621440] Epoch[13] Validation-accuracy=0.708333\u001b[0m\n",
      "\u001b[34m[09/23/2024 16:53:56 INFO 140469078337344] Epoch[13] Validation-accuracy=0.739583\u001b[0m\n",
      "\u001b[34m[09/23/2024 16:54:04 INFO 140469078337344] Epoch[14] Train-accuracy=0.795833\u001b[0m\n",
      "\u001b[34m[09/23/2024 16:54:04 INFO 140469078337344] Epoch[14] Time cost=7.005\u001b[0m\n",
      "\u001b[35m[09/23/2024 16:54:04 INFO 139786487621440] Epoch[14] Train-accuracy=0.783333\u001b[0m\n",
      "\u001b[35m[09/23/2024 16:54:04 INFO 139786487621440] Epoch[14] Time cost=6.964\u001b[0m\n",
      "\u001b[35m[09/23/2024 16:54:04 INFO 139786487621440] Epoch[14] Validation-accuracy=0.854167\u001b[0m\n",
      "\u001b[34m[09/23/2024 16:54:04 INFO 140469078337344] Epoch[14] Validation-accuracy=0.822917\u001b[0m\n",
      "\u001b[34m[09/23/2024 16:54:12 INFO 140469078337344] Epoch[15] Train-accuracy=0.831250\u001b[0m\n",
      "\u001b[34m[09/23/2024 16:54:12 INFO 140469078337344] Epoch[15] Time cost=6.709\u001b[0m\n",
      "\u001b[34m[09/23/2024 16:54:12 INFO 140469078337344] Epoch[15] Validation-accuracy=0.867188\u001b[0m\n",
      "\u001b[35m[09/23/2024 16:54:12 INFO 139786487621440] Epoch[15] Train-accuracy=0.827083\u001b[0m\n",
      "\u001b[35m[09/23/2024 16:54:12 INFO 139786487621440] Epoch[15] Time cost=6.690\u001b[0m\n",
      "\u001b[35m[09/23/2024 16:54:12 INFO 139786487621440] Epoch[15] Validation-accuracy=0.820312\u001b[0m\n",
      "\u001b[35m[09/23/2024 16:54:19 INFO 139786487621440] Epoch[16] Train-accuracy=0.837500\u001b[0m\n",
      "\u001b[35m[09/23/2024 16:54:19 INFO 139786487621440] Epoch[16] Time cost=6.770\u001b[0m\n",
      "\u001b[34m[09/23/2024 16:54:19 INFO 140469078337344] Epoch[16] Train-accuracy=0.843750\u001b[0m\n",
      "\u001b[34m[09/23/2024 16:54:19 INFO 140469078337344] Epoch[16] Time cost=6.779\u001b[0m\n",
      "\u001b[34m[09/23/2024 16:54:20 INFO 140469078337344] Epoch[16] Validation-accuracy=0.875000\u001b[0m\n",
      "\u001b[35m[09/23/2024 16:54:20 INFO 139786487621440] Epoch[16] Validation-accuracy=0.822917\u001b[0m\n",
      "\u001b[34m[09/23/2024 16:54:27 INFO 140469078337344] Epoch[17] Train-accuracy=0.856250\u001b[0m\n",
      "\u001b[34m[09/23/2024 16:54:27 INFO 140469078337344] Epoch[17] Time cost=6.718\u001b[0m\n",
      "\u001b[35m[09/23/2024 16:54:27 INFO 139786487621440] Epoch[17] Train-accuracy=0.860417\u001b[0m\n",
      "\u001b[35m[09/23/2024 16:54:27 INFO 139786487621440] Epoch[17] Time cost=6.698\u001b[0m\n",
      "\u001b[34m[09/23/2024 16:54:28 INFO 140469078337344] Epoch[17] Validation-accuracy=0.833333\u001b[0m\n",
      "\u001b[35m[09/23/2024 16:54:28 INFO 139786487621440] Epoch[17] Validation-accuracy=0.812500\u001b[0m\n",
      "\u001b[34m[09/23/2024 16:54:35 INFO 140469078337344] Epoch[18] Train-accuracy=0.845833\u001b[0m\n",
      "\u001b[34m[09/23/2024 16:54:35 INFO 140469078337344] Epoch[18] Time cost=6.714\u001b[0m\n",
      "\u001b[35m[09/23/2024 16:54:35 INFO 139786487621440] Epoch[18] Train-accuracy=0.850000\u001b[0m\n",
      "\u001b[35m[09/23/2024 16:54:35 INFO 139786487621440] Epoch[18] Time cost=6.679\u001b[0m\n",
      "\u001b[34m[09/23/2024 16:54:36 INFO 140469078337344] Epoch[18] Validation-accuracy=0.875000\u001b[0m\n",
      "\u001b[35m[09/23/2024 16:54:36 INFO 139786487621440] Epoch[18] Validation-accuracy=0.822917\u001b[0m\n",
      "\u001b[34m[09/23/2024 16:54:43 INFO 140469078337344] Epoch[19] Train-accuracy=0.852083\u001b[0m\n",
      "\u001b[34m[09/23/2024 16:54:43 INFO 140469078337344] Epoch[19] Time cost=6.752\u001b[0m\n",
      "\u001b[35m[09/23/2024 16:54:43 INFO 139786487621440] Epoch[19] Train-accuracy=0.870833\u001b[0m\n",
      "\u001b[35m[09/23/2024 16:54:43 INFO 139786487621440] Epoch[19] Time cost=6.724\u001b[0m\n",
      "\u001b[35m[09/23/2024 16:54:43 INFO 139786487621440] Epoch[19] Validation-accuracy=0.854167\u001b[0m\n",
      "\u001b[34m[09/23/2024 16:54:43 INFO 140469078337344] Epoch[19] Validation-accuracy=0.822917\u001b[0m\n",
      "\u001b[34m[09/23/2024 16:54:51 INFO 140469078337344] Epoch[20] Train-accuracy=0.875000\u001b[0m\n",
      "\u001b[34m[09/23/2024 16:54:51 INFO 140469078337344] Epoch[20] Time cost=6.676\u001b[0m\n",
      "\u001b[34m[09/23/2024 16:54:51 INFO 140469078337344] Epoch[20] Validation-accuracy=0.822917\u001b[0m\n",
      "\u001b[35m[09/23/2024 16:54:51 INFO 139786487621440] Epoch[20] Train-accuracy=0.868750\u001b[0m\n",
      "\u001b[35m[09/23/2024 16:54:51 INFO 139786487621440] Epoch[20] Time cost=6.741\u001b[0m\n",
      "\u001b[35m[09/23/2024 16:54:51 INFO 139786487621440] Epoch[20] Validation-accuracy=0.854167\u001b[0m\n",
      "\u001b[34m[09/23/2024 16:54:58 INFO 140469078337344] Epoch[21] Train-accuracy=0.870833\u001b[0m\n",
      "\u001b[34m[09/23/2024 16:54:58 INFO 140469078337344] Epoch[21] Time cost=6.708\u001b[0m\n",
      "\u001b[35m[09/23/2024 16:54:58 INFO 139786487621440] Epoch[21] Train-accuracy=0.868750\u001b[0m\n",
      "\u001b[35m[09/23/2024 16:54:58 INFO 139786487621440] Epoch[21] Time cost=6.659\u001b[0m\n",
      "\u001b[34m[09/23/2024 16:54:59 INFO 140469078337344] Epoch[21] Validation-accuracy=0.843750\u001b[0m\n",
      "\u001b[35m[09/23/2024 16:54:59 INFO 139786487621440] Epoch[21] Validation-accuracy=0.812500\u001b[0m\n",
      "\u001b[35m[09/23/2024 16:55:06 INFO 139786487621440] Epoch[22] Train-accuracy=0.914583\u001b[0m\n",
      "\u001b[35m[09/23/2024 16:55:06 INFO 139786487621440] Epoch[22] Time cost=7.002\u001b[0m\n",
      "\u001b[34m[09/23/2024 16:55:06 INFO 140469078337344] Epoch[22] Train-accuracy=0.904167\u001b[0m\n",
      "\u001b[34m[09/23/2024 16:55:06 INFO 140469078337344] Epoch[22] Time cost=7.033\u001b[0m\n",
      "\u001b[34m[09/23/2024 16:55:07 INFO 140469078337344] Epoch[22] Validation-accuracy=0.802083\u001b[0m\n",
      "\u001b[35m[09/23/2024 16:55:07 INFO 139786487621440] Epoch[22] Validation-accuracy=0.802083\u001b[0m\n",
      "\u001b[34m[09/23/2024 16:55:14 INFO 140469078337344] Epoch[23] Train-accuracy=0.860417\u001b[0m\n",
      "\u001b[34m[09/23/2024 16:55:14 INFO 140469078337344] Epoch[23] Time cost=6.733\u001b[0m\n",
      "\u001b[35m[09/23/2024 16:55:14 INFO 139786487621440] Epoch[23] Train-accuracy=0.875000\u001b[0m\n",
      "\u001b[35m[09/23/2024 16:55:14 INFO 139786487621440] Epoch[23] Time cost=6.766\u001b[0m\n",
      "\u001b[34m[09/23/2024 16:55:15 INFO 140469078337344] Epoch[23] Validation-accuracy=0.765625\u001b[0m\n",
      "\u001b[35m[09/23/2024 16:55:15 INFO 139786487621440] Epoch[23] Validation-accuracy=0.820312\u001b[0m\n",
      "\u001b[34m[09/23/2024 16:55:22 INFO 140469078337344] Epoch[24] Train-accuracy=0.879167\u001b[0m\n",
      "\u001b[34m[09/23/2024 16:55:22 INFO 140469078337344] Epoch[24] Time cost=6.641\u001b[0m\n",
      "\u001b[35m[09/23/2024 16:55:22 INFO 139786487621440] Epoch[24] Train-accuracy=0.889583\u001b[0m\n",
      "\u001b[35m[09/23/2024 16:55:22 INFO 139786487621440] Epoch[24] Time cost=6.679\u001b[0m\n",
      "\u001b[34m[09/23/2024 16:55:23 INFO 140469078337344] Epoch[24] Validation-accuracy=0.864583\u001b[0m\n",
      "\u001b[35m[09/23/2024 16:55:23 INFO 139786487621440] Epoch[24] Validation-accuracy=0.843750\u001b[0m\n",
      "\u001b[34m[09/23/2024 16:55:30 INFO 140469078337344] Epoch[25] Train-accuracy=0.931250\u001b[0m\n",
      "\u001b[34m[09/23/2024 16:55:30 INFO 140469078337344] Epoch[25] Time cost=6.700\u001b[0m\n",
      "\u001b[35m[09/23/2024 16:55:30 INFO 139786487621440] Epoch[25] Train-accuracy=0.925000\u001b[0m\n",
      "\u001b[35m[09/23/2024 16:55:30 INFO 139786487621440] Epoch[25] Time cost=6.688\u001b[0m\n",
      "\u001b[34m[09/23/2024 16:55:31 INFO 140469078337344] Epoch[25] Validation-accuracy=0.812500\u001b[0m\n",
      "\u001b[35m[09/23/2024 16:55:31 INFO 139786487621440] Epoch[25] Validation-accuracy=0.833333\u001b[0m\n",
      "\u001b[34m[09/23/2024 16:55:38 INFO 140469078337344] Epoch[26] Train-accuracy=0.954167\u001b[0m\n",
      "\u001b[34m[09/23/2024 16:55:38 INFO 140469078337344] Epoch[26] Time cost=6.708\u001b[0m\n",
      "\u001b[35m[09/23/2024 16:55:38 INFO 139786487621440] Epoch[26] Train-accuracy=0.927083\u001b[0m\n",
      "\u001b[35m[09/23/2024 16:55:38 INFO 139786487621440] Epoch[26] Time cost=6.703\u001b[0m\n",
      "\u001b[35m[09/23/2024 16:55:39 INFO 139786487621440] Epoch[26] Validation-accuracy=0.833333\u001b[0m\n",
      "\u001b[34m[09/23/2024 16:55:39 INFO 140469078337344] Epoch[26] Validation-accuracy=0.833333\u001b[0m\n",
      "\u001b[34m[09/23/2024 16:55:46 INFO 140469078337344] Epoch[27] Train-accuracy=0.918750\u001b[0m\n",
      "\u001b[34m[09/23/2024 16:55:46 INFO 140469078337344] Epoch[27] Time cost=6.749\u001b[0m\n",
      "\u001b[34m[09/23/2024 16:55:46 INFO 140469078337344] Epoch[27] Validation-accuracy=0.822917\u001b[0m\n",
      "\u001b[35m[09/23/2024 16:55:46 INFO 139786487621440] Epoch[27] Train-accuracy=0.941667\u001b[0m\n",
      "\u001b[35m[09/23/2024 16:55:46 INFO 139786487621440] Epoch[27] Time cost=6.663\u001b[0m\n",
      "\u001b[35m[09/23/2024 16:55:46 INFO 139786487621440] Epoch[27] Validation-accuracy=0.843750\u001b[0m\n",
      "\u001b[35m[09/23/2024 16:55:54 INFO 139786487621440] Epoch[28] Train-accuracy=0.937500\u001b[0m\n",
      "\u001b[35m[09/23/2024 16:55:54 INFO 139786487621440] Epoch[28] Time cost=6.769\u001b[0m\n",
      "\u001b[34m[09/23/2024 16:55:54 INFO 140469078337344] Epoch[28] Train-accuracy=0.943750\u001b[0m\n",
      "\u001b[34m[09/23/2024 16:55:54 INFO 140469078337344] Epoch[28] Time cost=6.824\u001b[0m\n",
      "\u001b[34m[09/23/2024 16:55:54 INFO 140469078337344] Epoch[28] Validation-accuracy=0.812500\u001b[0m\n",
      "\u001b[35m[09/23/2024 16:55:54 INFO 139786487621440] Epoch[28] Validation-accuracy=0.822917\u001b[0m\n",
      "\u001b[34m[09/23/2024 16:56:01 INFO 140469078337344] Epoch[29] Train-accuracy=0.954167\u001b[0m\n",
      "\u001b[34m[09/23/2024 16:56:01 INFO 140469078337344] Epoch[29] Time cost=6.863\u001b[0m\n",
      "\u001b[35m[09/23/2024 16:56:01 INFO 139786487621440] Epoch[29] Train-accuracy=0.945833\u001b[0m\n",
      "\u001b[35m[09/23/2024 16:56:01 INFO 139786487621440] Epoch[29] Time cost=6.825\u001b[0m\n",
      "\u001b[34m[09/23/2024 16:56:02 INFO 140469078337344] Epoch[29] Validation-accuracy=0.854167\u001b[0m\n",
      "\u001b[35m[09/23/2024 16:56:02 INFO 139786487621440] Epoch[29] Validation-accuracy=0.812500\u001b[0m\n",
      "\n",
      "2024-09-23 16:56:10 Uploading - Uploading generated training model\n",
      "2024-09-23 16:56:33 Completed - Training job completed\n",
      "Training seconds: 1156\n",
      "Billable seconds: 1156\n"
     ]
    }
   ],
   "source": [
    "## TODO: train your model\n",
    "img_classifier_model.fit({'train': model_inputs['train'], 'train_lst':model_inputs['train_lst'], 'validation':model_inputs['validation'], 'validation_lst':model_inputs['validation_lst']})"
   ]
  },
  {
   "cell_type": "markdown",
   "metadata": {},
   "source": [
    "If all goes well, you'll end up with a model topping out above `.8` validation accuracy. With only 1000 training samples in the CIFAR dataset, that's pretty good. We could definitely pursue data augmentation & gathering more samples to help us improve further, but for now let's proceed to deploy our model.\n",
    "\n",
    "### Getting ready to deploy\n",
    "\n",
    "To begin with, let's configure Model Monitor to track our deployment. We'll define a `DataCaptureConfig` below:"
   ]
  },
  {
   "cell_type": "code",
   "execution_count": 9,
   "metadata": {
    "tags": []
   },
   "outputs": [],
   "source": [
    "from sagemaker.model_monitor import DataCaptureConfig\n",
    "\n",
    "data_capture_config = DataCaptureConfig(\n",
    "    enable_capture=True,\n",
    "    sampling_percentage=100,\n",
    "    destination_s3_uri=f\"s3://{bucket}/data_capture\"\n",
    ")"
   ]
  },
  {
   "cell_type": "markdown",
   "metadata": {},
   "source": [
    "Note the `destination_s3_uri` parameter: At the end of the project, we can explore the `data_capture` directory in S3 to find crucial data about the inputs and outputs Model Monitor has observed on our model endpoint over time.\n",
    "\n",
    "With that done, deploy your model on a single `ml.m5.xlarge` instance with the data capture config attached:"
   ]
  },
  {
   "cell_type": "code",
   "execution_count": 10,
   "metadata": {
    "tags": []
   },
   "outputs": [
    {
     "name": "stderr",
     "output_type": "stream",
     "text": [
      "INFO:sagemaker:Creating model with name: image-classification-2024-09-23-16-58-05-805\n",
      "INFO:sagemaker:Creating endpoint-config with name image-classification-2024-09-23-16-58-05-805\n",
      "INFO:sagemaker:Creating endpoint with name image-classification-2024-09-23-16-58-05-805\n"
     ]
    },
    {
     "name": "stdout",
     "output_type": "stream",
     "text": [
      "--------------!image-classification-2024-09-23-16-58-05-805\n"
     ]
    }
   ],
   "source": [
    "deployment = img_classifier_model.deploy(\n",
    "    ## TODO: fill in deployment options\n",
    "    initial_instance_count=1, \n",
    "    instance_type='ml.m5.xlarge',\n",
    "    data_capture_config=data_capture_config\n",
    "    )\n",
    "\n",
    "endpoint = deployment.endpoint_name\n",
    "print(endpoint)"
   ]
  },
  {
   "cell_type": "markdown",
   "metadata": {},
   "source": [
    "Note the endpoint name for later as well.\n",
    "\n",
    "Next, instantiate a Predictor:"
   ]
  },
  {
   "cell_type": "code",
   "execution_count": 2,
   "metadata": {
    "tags": []
   },
   "outputs": [],
   "source": [
    "endpoint=\"image-classification-2024-09-23-16-58-05-805\""
   ]
  },
  {
   "cell_type": "code",
   "execution_count": 4,
   "metadata": {
    "tags": []
   },
   "outputs": [],
   "source": [
    "from sagemaker.predictor import Predictor\n",
    "\n",
    "predictor = Predictor(endpoint_name=endpoint )"
   ]
  },
  {
   "cell_type": "markdown",
   "metadata": {},
   "source": [
    "In the code snippet below we are going to prepare one of your saved images for prediction. Use the predictor to process the `payload`."
   ]
  },
  {
   "cell_type": "code",
   "execution_count": 5,
   "metadata": {
    "tags": []
   },
   "outputs": [],
   "source": [
    "from sagemaker.serializers import IdentitySerializer\n",
    "import base64\n",
    "\n",
    "predictor.serializer = IdentitySerializer(\"image/png\")\n",
    "with open(\"./test/bicycle_s_001789.png\", \"rb\") as f:\n",
    "    payload = f.read()\n",
    "\n",
    "    \n",
    "inference = predictor.predict(payload)"
   ]
  },
  {
   "cell_type": "markdown",
   "metadata": {},
   "source": [
    "Your `inference` object is an array of two values, the predicted probability value for each of your classes (bicycle and motorcycle respectively.) So, for example, a value of `b'[0.91, 0.09]'` indicates the probability of being a bike is 91% and being a motorcycle is 9%."
   ]
  },
  {
   "cell_type": "code",
   "execution_count": 6,
   "metadata": {
    "tags": []
   },
   "outputs": [
    {
     "name": "stdout",
     "output_type": "stream",
     "text": [
      "b'[0.7661606669425964, 0.23383931815624237]'\n"
     ]
    }
   ],
   "source": [
    "print(inference)"
   ]
  },
  {
   "cell_type": "code",
   "execution_count": 14,
   "metadata": {
    "tags": []
   },
   "outputs": [],
   "source": [
    "from sagemaker.serializers import IdentitySerializer\n",
    "import base64\n",
    "\n",
    "predictor.serializer = IdentitySerializer(\"image/png\")\n",
    "with open(\"./test/minibike_s_001732.png\", \"rb\") as f:\n",
    "    payload = f.read()\n",
    "\n",
    "    \n",
    "inference = predictor.predict(payload)"
   ]
  },
  {
   "cell_type": "code",
   "execution_count": 15,
   "metadata": {
    "tags": []
   },
   "outputs": [
    {
     "name": "stdout",
     "output_type": "stream",
     "text": [
      "b'[0.1499134749174118, 0.850086510181427]'\n"
     ]
    }
   ],
   "source": [
    "print(inference)"
   ]
  },
  {
   "cell_type": "code",
   "execution_count": 22,
   "metadata": {
    "tags": []
   },
   "outputs": [],
   "source": [
    "from sagemaker.serializers import IdentitySerializer\n",
    "import base64\n",
    "\n",
    "predictor.serializer = IdentitySerializer(\"image/png\")\n",
    "with open(\"./test/motorcycle_s_000446.png\", \"rb\") as f:\n",
    "    payload = f.read()\n",
    "\n",
    "    \n",
    "inference = predictor.predict(payload)"
   ]
  },
  {
   "cell_type": "code",
   "execution_count": 23,
   "metadata": {
    "tags": []
   },
   "outputs": [
    {
     "name": "stdout",
     "output_type": "stream",
     "text": [
      "b'[0.07983183860778809, 0.9201681613922119]'\n"
     ]
    }
   ],
   "source": [
    "print(inference)"
   ]
  },
  {
   "cell_type": "markdown",
   "metadata": {},
   "source": [
    "### Draft Lambdas and Step Function Workflow\n",
    "\n",
    "Your operations team uses Step Functions to orchestrate serverless workflows. One of the nice things about Step Functions is that [workflows can call other workflows](https://docs.aws.amazon.com/step-functions/latest/dg/connect-stepfunctions.html), so the team can easily plug your workflow into the broader production architecture for Scones Unlimited.\n",
    "\n",
    "In this next stage you're going to write and deploy three Lambda functions, and then use the Step Functions visual editor to chain them together! Our functions are going to work with a simple data object:\n",
    "\n",
    "```python\n",
    "{\n",
    "    \"inferences\": [], # Output of predictor.predict\n",
    "    \"s3_key\": \"\", # Source data S3 key\n",
    "    \"s3_bucket\": \"\", # Source data S3 bucket\n",
    "    \"image_data\": \"\"  # base64 encoded string containing the image data\n",
    "}\n",
    "```\n",
    "\n",
    "A good test object that you can use for Lambda tests and Step Function executions, throughout the next section, might look like this:\n",
    "\n",
    "```python\n",
    "{\n",
    "  \"image_data\": \"\",\n",
    "  \"s3_bucket\": MY_BUCKET_NAME, # Fill in with your bucket\n",
    "  \"s3_key\": \"test/bicycle_s_000513.png\"\n",
    "}\n",
    "```\n",
    "\n",
    "Using these fields, your functions can read and write the necessary data to execute your workflow. Let's start with the first function. Your first Lambda function will copy an object from S3, base64 encode it, and then return it to the step function as `image_data` in an event.\n",
    "\n",
    "Go to the Lambda dashboard and create a new Lambda function with a descriptive name like \"serializeImageData\" and select thr 'Python 3.8' runtime. Add the same permissions as the SageMaker role you created earlier. (Reminder: you do this in the Configuration tab under \"Permissions\"). Once you're ready, use the starter code below to craft your Lambda handler:\n",
    "\n",
    "```python\n",
    "import json\n",
    "import boto3\n",
    "import base64\n",
    "\n",
    "s3 = boto3.client('s3')\n",
    "\n",
    "def lambda_handler(event, context):\n",
    "    \"\"\"A function to serialize target data from S3\"\"\"\n",
    "    \n",
    "    # Get the s3 address from the Step Function event input\n",
    "    key = ## TODO: fill in\n",
    "    bucket = ## TODO: fill in\n",
    "    \n",
    "    # Download the data from s3 to /tmp/image.png\n",
    "    ## TODO: fill in\n",
    "    \n",
    "    # We read the data from a file\n",
    "    with open(\"/tmp/image.png\", \"rb\") as f:\n",
    "        image_data = base64.b64encode(f.read())\n",
    "\n",
    "    # Pass the data back to the Step Function\n",
    "    print(\"Event:\", event.keys())\n",
    "    return {\n",
    "        'statusCode': 200,\n",
    "        'body': {\n",
    "            \"image_data\": image_data,\n",
    "            \"s3_bucket\": bucket,\n",
    "            \"s3_key\": key,\n",
    "            \"inferences\": []\n",
    "        }\n",
    "    }\n",
    "```\n",
    "\n",
    "The next function is responsible for the classification part - we're going to take the image output from the previous function, decode it, and then pass inferences back to the the Step Function.\n",
    "\n",
    "Because this Lambda will have runtime dependencies (i.e. the SageMaker SDK) you'll need to package them in your function. *Key reading:* https://docs.aws.amazon.com/lambda/latest/dg/python-package-create.html#python-package-create-with-dependency\n",
    "\n",
    "Create a new Lambda function with the same rights and a descriptive name, then fill in the starter code below for your classifier Lambda.\n",
    "\n",
    "```python\n",
    "import json\n",
    "import sagemaker\n",
    "import base64\n",
    "from sagemaker.serializers import IdentitySerializer\n",
    "\n",
    "# Fill this in with the name of your deployed model\n",
    "ENDPOINT = ## TODO: fill in\n",
    "\n",
    "def lambda_handler(event, context):\n",
    "\n",
    "    # Decode the image data\n",
    "    image = base64.b64decode(## TODO: fill in)\n",
    "\n",
    "    # Instantiate a Predictor\n",
    "    predictor = ## TODO: fill in\n",
    "\n",
    "    # For this model the IdentitySerializer needs to be \"image/png\"\n",
    "    predictor.serializer = IdentitySerializer(\"image/png\")\n",
    "    \n",
    "    # Make a prediction:\n",
    "    inferences = ## TODO: fill in\n",
    "    \n",
    "    # We return the data back to the Step Function    \n",
    "    event[\"inferences\"] = inferences.decode('utf-8')\n",
    "    return {\n",
    "        'statusCode': 200,\n",
    "        'body': json.dumps(event)\n",
    "    }\n",
    "```\n",
    "\n",
    "Finally, we need to filter low-confidence inferences. Define a threshold between 1.00 and 0.000 for your model: what is reasonble for you? If the model predicts at `.70` for it's highest confidence label, do we want to pass that inference along to downstream systems? Make one last Lambda function and tee up the same permissions:\n",
    "\n",
    "```python\n",
    "import json\n",
    "\n",
    "\n",
    "THRESHOLD = .93\n",
    "\n",
    "\n",
    "def lambda_handler(event, context):\n",
    "    \n",
    "    # Grab the inferences from the event\n",
    "    inferences = ## TODO: fill in\n",
    "    \n",
    "    # Check if any values in our inferences are above THRESHOLD\n",
    "    meets_threshold = ## TODO: fill in\n",
    "    \n",
    "    # If our threshold is met, pass our data back out of the\n",
    "    # Step Function, else, end the Step Function with an error\n",
    "    if meets_threshold:\n",
    "        pass\n",
    "    else:\n",
    "        raise(\"THRESHOLD_CONFIDENCE_NOT_MET\")\n",
    "\n",
    "    return {\n",
    "        'statusCode': 200,\n",
    "        'body': json.dumps(event)\n",
    "    }\n",
    "```\n",
    "Once you have tested the lambda functions, save the code for each lambda function in a python script called 'lambda.py'.\n",
    "\n",
    "With your lambdas in place, you can use the Step Functions visual editor to construct a workflow that chains them together. In the Step Functions console you'll have the option to author a Standard step function *Visually*.\n",
    "\n",
    "When the visual editor opens, you'll have many options to add transitions in your workflow. We're going to keep it simple and have just one: to invoke Lambda functions. Add three of them chained together. For each one, you'll be able to select the Lambda functions you just created in the proper order, filter inputs and outputs, and give them descriptive names.\n",
    "\n",
    "Make sure that you:\n",
    "\n",
    "1. Are properly filtering the inputs and outputs of your invokations (e.g. `$.body`)\n",
    "2. Take care to remove the error handling from the last function - it's supposed to \"fail loudly\" for your operations colleagues!\n",
    "\n",
    "Take a screenshot of your working step function in action and export the step function as JSON for your submission package."
   ]
  },
  {
   "cell_type": "markdown",
   "metadata": {},
   "source": [
    "\n",
    "Great! Now you can use the files in `./test` as test files for our workflow. Depending on our threshold, our workflow should reliably pass predictions about images from `./test` on to downstream systems, while erroring out for inferences below our confidence threshold!\n",
    "\n",
    "### Testing and Evaluation\n",
    "\n",
    "Do several step function invokations using data from the `./test` folder. This process should give you confidence that the workflow both *succeeds* AND *fails* as expected. In addition, SageMaker Model Monitor will generate recordings of your data and inferences which we can visualize.\n",
    "\n",
    "Here's a function that can help you generate test inputs for your invokations:"
   ]
  },
  {
   "cell_type": "code",
   "execution_count": 24,
   "metadata": {
    "tags": []
   },
   "outputs": [
    {
     "data": {
      "text/plain": [
       "'{\"image_data\": \"\", \"s3_bucket\": \"sagemaker-us-east-1-165969638846\", \"s3_key\": \"test/safety_bike_s_001253.png\"}'"
      ]
     },
     "execution_count": 24,
     "metadata": {},
     "output_type": "execute_result"
    }
   ],
   "source": [
    "import random\n",
    "import boto3\n",
    "import json\n",
    "\n",
    "\n",
    "def generate_test_case():\n",
    "    # Setup s3 in boto3\n",
    "    s3 = boto3.resource('s3')\n",
    "    \n",
    "    # Randomly pick from sfn or test folders in our bucket\n",
    "    objects = s3.Bucket(bucket).objects.filter(Prefix=\"test\")\n",
    "    \n",
    "    # Grab any random object key from that folder!\n",
    "    obj = random.choice([x.key for x in objects])\n",
    "    \n",
    "    return json.dumps({\n",
    "        \"image_data\": \"\",\n",
    "        \"s3_bucket\": bucket,\n",
    "        \"s3_key\": obj\n",
    "    })\n",
    "l=generate_test_case()\n",
    "l"
   ]
  },
  {
   "cell_type": "markdown",
   "metadata": {},
   "source": [
    "In the Step Function dashboard for your new function, you can create new executions and copy in the generated test cases. Do several executions so that you can generate data you can evaluate and visualize.\n",
    "\n",
    "Once you've done several executions, let's visualize the record of our inferences. Pull in the JSONLines data from your inferences like so:"
   ]
  },
  {
   "cell_type": "code",
   "execution_count": 31,
   "metadata": {
    "tags": []
   },
   "outputs": [
    {
     "data": {
      "text/plain": [
       "['captured_data/23/17/06-21-457-bf7cb845-b1be-4d3f-9d9c-ef7208a21321.jsonl',\n",
       " 'captured_data/24/10/00-18-668-0c50d5d0-6e71-44a9-8839-8d94660453ce.jsonl',\n",
       " 'captured_data/24/17/35-08-116-525c4082-5832-4c2f-b958-db9564a9ff67.jsonl',\n",
       " 'captured_data/24/17/36-15-266-27bca86f-d04a-4a95-a506-808e706c5e0f.jsonl',\n",
       " 'captured_data/25/07/24-12-657-ac9537f1-ee41-46a6-bb45-d9fab27178c5.jsonl',\n",
       " 'captured_data/25/07/43-59-638-1e9f2941-4eba-4b9b-a48d-76a799bb6b06.jsonl',\n",
       " 'captured_data/25/07/47-43-129-ef55eebd-95ec-4d0d-a6b8-e78c9b6f0559.jsonl',\n",
       " 'captured_data/25/13/05-56-486-f927d703-b419-44ed-88e8-e6992485c599.jsonl',\n",
       " 'captured_data/25/14/25-22-922-dc661655-2e87-4399-83a6-0a90ece4828f.jsonl',\n",
       " 'captured_data/25/15/38-49-715-14e1696b-9e49-4148-be49-46c48dc76732.jsonl',\n",
       " 'captured_data/25/15/43-01-533-0a2ba129-68c3-4dcc-90d1-e6a91647742c.jsonl',\n",
       " 'captured_data/25/16/48-13-262-6b439d40-e0f4-4185-bf78-e7cc10b9fc96.jsonl',\n",
       " 'captured_data/25/16/51-06-875-1d6f48b1-c2e9-405d-aa82-8e30bf7840ef.jsonl',\n",
       " 'captured_data/25/17/05-08-131-28ab8205-ed3e-4f3d-b959-e05031dc1393.jsonl',\n",
       " 'captured_data/25/17/11-50-940-50246288-4a0b-4863-b5ea-85f704b9c2fd.jsonl',\n",
       " 'captured_data/25/17/37-39-112-de64dafb-9251-4972-b7c6-633e84c5d3d6.jsonl',\n",
       " 'captured_data/25/17/40-01-071-b3792d21-259b-4fb7-b363-08af362fe2f1.jsonl',\n",
       " 'captured_data/25/18/19-45-180-3328d867-a0ba-44f4-ab04-5c5e4d09c122.jsonl',\n",
       " 'captured_data/25/18/21-08-542-c5823c4a-bf73-4d1b-b703-8409c9984654.jsonl',\n",
       " 'captured_data/25/18/52-45-707-a5566127-07f4-4589-afe7-a632cf61075e.jsonl',\n",
       " 'captured_data/25/18/53-45-890-f926f491-c84e-498b-a95d-219a64da56bc.jsonl',\n",
       " 'captured_data/25/19/00-23-433-6fd82e8a-7545-442b-b12f-06fbcc090754.jsonl',\n",
       " 'captured_data/25/19/16-51-642-85e78a0a-29bb-4aa4-9ee2-3460f7488d09.jsonl',\n",
       " 'captured_data/25/19/19-30-888-e827f2a3-bdba-449d-8c1c-ba23474bdea0.jsonl',\n",
       " 'captured_data/25/19/20-37-995-7d1d959f-a360-4b3e-ad49-42b2c842519e.jsonl',\n",
       " 'captured_data/25/19/28-41-165-72d10a6d-ff00-4eb1-aebd-419ea91e7326.jsonl']"
      ]
     },
     "execution_count": 31,
     "metadata": {},
     "output_type": "execute_result"
    }
   ],
   "source": [
    "from sagemaker.s3 import S3Downloader\n",
    "\n",
    "# In S3 your data will be saved to a datetime-aware path\n",
    "# Find a path related to a datetime you're interested in\n",
    "data_path = \"s3://sagemaker-us-east-1-165969638846/data_capture/image-classification-2024-09-23-16-58-05-805/AllTraffic/2024/09/\"\n",
    "\n",
    "S3Downloader.download(data_path, \"captured_data\")\n",
    "\n",
    "# Feel free to repeat this multiple times and pull in more data"
   ]
  },
  {
   "cell_type": "markdown",
   "metadata": {},
   "source": [
    "The data are in JSONLines format, where multiple valid JSON objects are stacked on top of eachother in a single `jsonl` file. We'll import an open-source library, `jsonlines` that was purpose built for parsing this format."
   ]
  },
  {
   "cell_type": "code",
   "execution_count": 27,
   "metadata": {
    "tags": []
   },
   "outputs": [
    {
     "name": "stdout",
     "output_type": "stream",
     "text": [
      "Collecting jsonlines\n",
      "  Downloading jsonlines-4.0.0-py3-none-any.whl.metadata (1.6 kB)\n",
      "Requirement already satisfied: attrs>=19.2.0 in /opt/conda/lib/python3.10/site-packages (from jsonlines) (23.2.0)\n",
      "Downloading jsonlines-4.0.0-py3-none-any.whl (8.7 kB)\n",
      "Installing collected packages: jsonlines\n",
      "Successfully installed jsonlines-4.0.0\n",
      "\u001b[33mWARNING: Running pip as the 'root' user can result in broken permissions and conflicting behaviour with the system package manager. It is recommended to use a virtual environment instead: https://pip.pypa.io/warnings/venv\u001b[0m\u001b[33m\n",
      "\u001b[0m"
     ]
    }
   ],
   "source": [
    "!pip install jsonlines\n",
    "import jsonlines"
   ]
  },
  {
   "cell_type": "markdown",
   "metadata": {},
   "source": [
    "Now we can extract the data from each of the source files:"
   ]
  },
  {
   "cell_type": "code",
   "execution_count": null,
   "metadata": {
    "tags": []
   },
   "outputs": [],
   "source": [
    "import os\n",
    "\n",
    "\n",
    "# Dump all the data into an array\n",
    "json_data = []\n",
    "\n",
    "# List the file names we downloaded\n",
    "for root, dirs, files in os.walk(\"captured_data/\"):\n",
    "    for file in files:\n",
    "        with jsonlines.open(os.path.join(root, file)) as f:\n",
    "            json_data.append(f.read())\n",
    "json_data"
   ]
  },
  {
   "cell_type": "markdown",
   "metadata": {},
   "source": [
    "The data should now be a list of dictionaries, with significant nesting. We'll give you an example of some code that grabs data out of the objects and visualizes it:"
   ]
  },
  {
   "cell_type": "code",
   "execution_count": 35,
   "metadata": {
    "tags": []
   },
   "outputs": [
    {
     "data": {
      "text/plain": [
       "([0.8547160625457764, 0.14528395235538483], '2024-09-24T17:36:15Z')"
      ]
     },
     "execution_count": 35,
     "metadata": {},
     "output_type": "execute_result"
    }
   ],
   "source": [
    "# Define how we'll get our data\n",
    "import json\n",
    "def simple_getter(obj):\n",
    "    inferences = obj[\"captureData\"][\"endpointOutput\"][\"data\"]\n",
    "    timestamp = obj[\"eventMetadata\"][\"inferenceTime\"]\n",
    "    return json.loads(inferences), timestamp\n",
    "\n",
    "simple_getter(json_data[0])\n"
   ]
  },
  {
   "cell_type": "markdown",
   "metadata": {},
   "source": [
    "Finally, here's an example of a visualization you can build with this data. In this last part, you will take some time and build your own - the captured data has the input images, the resulting inferences, and the timestamps."
   ]
  },
  {
   "cell_type": "code",
   "execution_count": 40,
   "metadata": {
    "tags": []
   },
   "outputs": [
    {
     "data": {
      "text/plain": [
       "(['2024-09-24T17:36:15Z',\n",
       "  '2024-09-24T17:35:08Z',\n",
       "  '2024-09-24T10:00:18Z',\n",
       "  '2024-09-23T17:06:21Z',\n",
       "  '2024-09-23T17:06:21Z',\n",
       "  '2024-09-25T17:37:39Z',\n",
       "  '2024-09-25T17:05:08Z',\n",
       "  '2024-09-25T17:40:01Z',\n",
       "  '2024-09-25T17:11:50Z',\n",
       "  '2024-09-25T13:05:56Z',\n",
       "  '2024-09-25T19:20:37Z',\n",
       "  '2024-09-25T19:16:51Z',\n",
       "  '2024-09-25T19:28:41Z',\n",
       "  '2024-09-25T19:19:30Z',\n",
       "  '2024-09-25T19:00:23Z',\n",
       "  '2024-09-25T15:43:01Z',\n",
       "  '2024-09-25T15:38:49Z',\n",
       "  '2024-09-25T18:21:08Z',\n",
       "  '2024-09-25T18:19:45Z',\n",
       "  '2024-09-25T18:53:45Z',\n",
       "  '2024-09-25T18:52:45Z',\n",
       "  '2024-09-25T14:25:22Z',\n",
       "  '2024-09-25T07:47:43Z',\n",
       "  '2024-09-25T07:24:12Z',\n",
       "  '2024-09-25T07:43:59Z',\n",
       "  '2024-09-25T16:51:06Z',\n",
       "  '2024-09-25T16:48:13Z'],\n",
       " [0.8547160625457764,\n",
       "  0.8547160625457764,\n",
       "  0.8547160625457764,\n",
       "  0.7661606669425964,\n",
       "  0.7661606669425964,\n",
       "  0.850086510181427,\n",
       "  0.6432048678398132,\n",
       "  0.620518147945404,\n",
       "  0.850086510181427,\n",
       "  0.6432048678398132,\n",
       "  0.8547160625457764,\n",
       "  0.8547160625457764,\n",
       "  0.9201681613922119,\n",
       "  0.8547160625457764,\n",
       "  0.8547160625457764,\n",
       "  0.6432048678398132,\n",
       "  0.6432048678398132,\n",
       "  0.7521271705627441,\n",
       "  0.7661606669425964,\n",
       "  0.8547160625457764,\n",
       "  0.8547160625457764,\n",
       "  0.6432048678398132,\n",
       "  0.6432048678398132,\n",
       "  0.8547160625457764,\n",
       "  0.6432048678398132,\n",
       "  0.6432048678398132,\n",
       "  0.6432048678398132])"
      ]
     },
     "execution_count": 40,
     "metadata": {},
     "output_type": "execute_result"
    }
   ],
   "source": [
    "# Populate the data for the x and y axis\n",
    "import matplotlib.pyplot as plt\n",
    "x = []\n",
    "y = []\n",
    "for obj in json_data:\n",
    "    inference, timestamp = simple_getter(obj)\n",
    "    \n",
    "    y.append(max(inference))\n",
    "    x.append(timestamp)\n",
    "(x,y)"
   ]
  },
  {
   "cell_type": "code",
   "execution_count": 43,
   "metadata": {
    "tags": []
   },
   "outputs": [
    {
     "data": {
      "image/png": "[encoded data removed]",
      "text/plain": [
       "<Figure size 640x480 with 1 Axes>"
      ]
     },
     "metadata": {},
     "output_type": "display_data"
    }
   ],
   "source": [
    "# Populate the data for the x and y axis\n",
    "import matplotlib.pyplot as plt\n",
    "x = []\n",
    "y = []\n",
    "for obj in json_data:\n",
    "    inference, timestamp = simple_getter(obj)\n",
    "    \n",
    "    y.append(max(inference))\n",
    "    x.append(timestamp)\n",
    "\n",
    "# Todo: here is an visualization example, take some time to build another visual that helps monitor the result\n",
    "# Plot the data\n",
    "plt.scatter(x, y, c=['r' if k<.85 else 'g' for k in y ])\n",
    "plt.axhline(y=0.85, color='g', linestyle='--')\n",
    "plt.ylim(bottom=.60)\n",
    "\n",
    "# Add labels\n",
    "plt.ylabel(\"Confidence\")\n",
    "plt.suptitle(\"Observed Recent Inferences\", size=14)\n",
    "plt.title(\"Pictured with confidence threshold for production use\", size=10)\n",
    "\n",
    "# Give it some pizzaz!\n",
    "plt.style.use(\"Solarize_Light2\")\n",
    "plt.gcf().autofmt_xdate()"
   ]
  },
  {
   "cell_type": "markdown",
   "metadata": {
    "tags": []
   },
   "source": [
    "### Todo: build your own visualization\n"
   ]
  },
  {
   "cell_type": "code",
   "execution_count": 44,
   "metadata": {
    "tags": []
   },
   "outputs": [
    {
     "data": {
      "image/png": "[encoded data removed]",
      "text/plain": [
       "<Figure size 640x480 with 1 Axes>"
      ]
     },
     "metadata": {},
     "output_type": "display_data"
    }
   ],
   "source": [
    "import matplotlib.pyplot as plt\n",
    "from datetime import datetime, timezone\n",
    "\n",
    "# Function to handle potential errors during data extraction\n",
    "def safe_getter(obj):\n",
    "    try:\n",
    "        inference, timestamp = simple_getter(obj)\n",
    "\n",
    "        return inference,timestamp\n",
    "    except (KeyError, ValueError):\n",
    "        # Handle cases where inference or timestamp is missing or invalid\n",
    "        return None, None\n",
    "\n",
    "# Populate the data for the x and y axis\n",
    "x = []\n",
    "y = []\n",
    "for obj in json_data:\n",
    "    inference, timestamp = safe_getter(obj)  # Use safe_getter for robust data extraction\n",
    "\n",
    "    if inference is not None and timestamp is not None:\n",
    "        y.append(max(inference))\n",
    "        x.append(timestamp)\n",
    "\n",
    "\n",
    "#Line plot with color based on confidence threshold\n",
    "plt.scatter(x, y, marker='o', linestyle='-', c=['r' if k < 0.85 else 'g' for k in y])\n",
    "plt.axhline(y=0.85, color='g', linestyle='--')\n",
    "plt.ylim(bottom=.60)\n",
    "\n",
    "#Shaded area above the confidence threshold\n",
    "confidence_threshold = 0.90\n",
    "mask = [y_val >= confidence_threshold for y_val in y]\n",
    "\n",
    "plt.fill_between(x, y, confidence_threshold, where=mask, facecolor='green', alpha=0.2)\n",
    "\n",
    "#Highlight timestamps with low confidence (optional)\n",
    "low_confidence_threshold = 0.85\n",
    "low_confidence_indices = [i for i, value in enumerate(y) if value < low_confidence_threshold]\n",
    "for idx in low_confidence_indices:\n",
    "    plt.scatter(x[idx], y[idx], s=80, marker='o', edgecolors='red', linewidths=2, alpha=0.7)\n",
    "\n",
    "# Add labels and title\n",
    "plt.ylabel(\"Confidence\")\n",
    "plt.suptitle(\"Observed Recent Inferences\", size=14)\n",
    "plt.title(\"Pictured with confidence threshold for production use\", size=10)\n",
    "\n",
    "# Customize for readability\n",
    "plt.grid(True, linestyle='--', linewidth=0.5, alpha=0.6)\n",
    "plt.gcf().autofmt_xdate(rotation=45)  \n",
    "plt.tight_layout()  \n"
   ]
  },
  {
   "cell_type": "markdown",
   "metadata": {},
   "source": [
    "### Congratulations!\n",
    "\n",
    "You've reached the end of the project. In this project you created an event-drivent ML workflow that can be incorporated into the Scones Unlimited production architecture. You used the SageMaker Estimator API to deploy your SageMaker Model and Endpoint, and you used AWS Lambda and Step Functions to orchestrate your ML workflow. Using SageMaker Model Monitor, you instrumented and observed your Endpoint, and at the end of the project you built a visualization to help stakeholders understand the performance of the Endpoint over time. If you're up for it, you can even go further with these stretch goals:\n",
    "\n",
    "* Extend your workflow to incorporate more classes: the CIFAR dataset includes other vehicles that Scones Unlimited can identify with this model.\n",
    "* Modify your event driven workflow: can you rewrite your Lambda functions so that the workflow can process multiple image inputs in parallel? Can the Step Function \"fan out\" to accomodate this new workflow?\n",
    "* Consider the test data generator we provided for you. Can we use it to create a \"dummy data\" generator, to simulate a continuous stream of input data? Or a big paralell load of data?\n",
    "* What if we want to get notified every time our step function errors out? Can we use the Step Functions visual editor in conjunction with a service like SNS to accomplish this? Try it out!\n",
    "\n",
    "\n"
   ]
  }
 ],
 "metadata": {
  "availableInstances": [
   {
    "_defaultOrder": 0,
    "_isFastLaunch": true,
    "category": "General purpose",
    "gpuNum": 0,
    "hideHardwareSpecs": false,
    "memoryGiB": 4,
    "name": "ml.t3.medium",
    "vcpuNum": 2
   },
   {
    "_defaultOrder": 1,
    "_isFastLaunch": false,
    "category": "General purpose",
    "gpuNum": 0,
    "hideHardwareSpecs": false,
    "memoryGiB": 8,
    "name": "ml.t3.large",
    "vcpuNum": 2
   },
   {
    "_defaultOrder": 2,
    "_isFastLaunch": false,
    "category": "General purpose",
    "gpuNum": 0,
    "hideHardwareSpecs": false,
    "memoryGiB": 16,
    "name": "ml.t3.xlarge",
    "vcpuNum": 4
   },
   {
    "_defaultOrder": 3,
    "_isFastLaunch": false,
    "category": "General purpose",
    "gpuNum": 0,
    "hideHardwareSpecs": false,
    "memoryGiB": 32,
    "name": "ml.t3.2xlarge",
    "vcpuNum": 8
   },
   {
    "_defaultOrder": 4,
    "_isFastLaunch": true,
    "category": "General purpose",
    "gpuNum": 0,
    "hideHardwareSpecs": false,
    "memoryGiB": 8,
    "name": "ml.m5.large",
    "vcpuNum": 2
   },
   {
    "_defaultOrder": 5,
    "_isFastLaunch": false,
    "category": "General purpose",
    "gpuNum": 0,
    "hideHardwareSpecs": false,
    "memoryGiB": 16,
    "name": "ml.m5.xlarge",
    "vcpuNum": 4
   },
   {
    "_defaultOrder": 6,
    "_isFastLaunch": false,
    "category": "General purpose",
    "gpuNum": 0,
    "hideHardwareSpecs": false,
    "memoryGiB": 32,
    "name": "ml.m5.2xlarge",
    "vcpuNum": 8
   },
   {
    "_defaultOrder": 7,
    "_isFastLaunch": false,
    "category": "General purpose",
    "gpuNum": 0,
    "hideHardwareSpecs": false,
    "memoryGiB": 64,
    "name": "ml.m5.4xlarge",
    "vcpuNum": 16
   },
   {
    "_defaultOrder": 8,
    "_isFastLaunch": false,
    "category": "General purpose",
    "gpuNum": 0,
    "hideHardwareSpecs": false,
    "memoryGiB": 128,
    "name": "ml.m5.8xlarge",
    "vcpuNum": 32
   },
   {
    "_defaultOrder": 9,
    "_isFastLaunch": false,
    "category": "General purpose",
    "gpuNum": 0,
    "hideHardwareSpecs": false,
    "memoryGiB": 192,
    "name": "ml.m5.12xlarge",
    "vcpuNum": 48
   },
   {
    "_defaultOrder": 10,
    "_isFastLaunch": false,
    "category": "General purpose",
    "gpuNum": 0,
    "hideHardwareSpecs": false,
    "memoryGiB": 256,
    "name": "ml.m5.16xlarge",
    "vcpuNum": 64
   },
   {
    "_defaultOrder": 11,
    "_isFastLaunch": false,
    "category": "General purpose",
    "gpuNum": 0,
    "hideHardwareSpecs": false,
    "memoryGiB": 384,
    "name": "ml.m5.24xlarge",
    "vcpuNum": 96
   },
   {
    "_defaultOrder": 12,
    "_isFastLaunch": false,
    "category": "General purpose",
    "gpuNum": 0,
    "hideHardwareSpecs": false,
    "memoryGiB": 8,
    "name": "ml.m5d.large",
    "vcpuNum": 2
   },
   {
    "_defaultOrder": 13,
    "_isFastLaunch": false,
    "category": "General purpose",
    "gpuNum": 0,
    "hideHardwareSpecs": false,
    "memoryGiB": 16,
    "name": "ml.m5d.xlarge",
    "vcpuNum": 4
   },
   {
    "_defaultOrder": 14,
    "_isFastLaunch": false,
    "category": "General purpose",
    "gpuNum": 0,
    "hideHardwareSpecs": false,
    "memoryGiB": 32,
    "name": "ml.m5d.2xlarge",
    "vcpuNum": 8
   },
   {
    "_defaultOrder": 15,
    "_isFastLaunch": false,
    "category": "General purpose",
    "gpuNum": 0,
    "hideHardwareSpecs": false,
    "memoryGiB": 64,
    "name": "ml.m5d.4xlarge",
    "vcpuNum": 16
   },
   {
    "_defaultOrder": 16,
    "_isFastLaunch": false,
    "category": "General purpose",
    "gpuNum": 0,
    "hideHardwareSpecs": false,
    "memoryGiB": 128,
    "name": "ml.m5d.8xlarge",
    "vcpuNum": 32
   },
   {
    "_defaultOrder": 17,
    "_isFastLaunch": false,
    "category": "General purpose",
    "gpuNum": 0,
    "hideHardwareSpecs": false,
    "memoryGiB": 192,
    "name": "ml.m5d.12xlarge",
    "vcpuNum": 48
   },
   {
    "_defaultOrder": 18,
    "_isFastLaunch": false,
    "category": "General purpose",
    "gpuNum": 0,
    "hideHardwareSpecs": false,
    "memoryGiB": 256,
    "name": "ml.m5d.16xlarge",
    "vcpuNum": 64
   },
   {
    "_defaultOrder": 19,
    "_isFastLaunch": false,
    "category": "General purpose",
    "gpuNum": 0,
    "hideHardwareSpecs": false,
    "memoryGiB": 384,
    "name": "ml.m5d.24xlarge",
    "vcpuNum": 96
   },
   {
    "_defaultOrder": 20,
    "_isFastLaunch": false,
    "category": "General purpose",
    "gpuNum": 0,
    "hideHardwareSpecs": true,
    "memoryGiB": 0,
    "name": "ml.geospatial.interactive",
    "supportedImageNames": [
     "sagemaker-geospatial-v1-0"
    ],
    "vcpuNum": 0
   },
   {
    "_defaultOrder": 21,
    "_isFastLaunch": true,
    "category": "Compute optimized",
    "gpuNum": 0,
    "hideHardwareSpecs": false,
    "memoryGiB": 4,
    "name": "ml.c5.large",
    "vcpuNum": 2
   },
   {
    "_defaultOrder": 22,
    "_isFastLaunch": false,
    "category": "Compute optimized",
    "gpuNum": 0,
    "hideHardwareSpecs": false,
    "memoryGiB": 8,
    "name": "ml.c5.xlarge",
    "vcpuNum": 4
   },
   {
    "_defaultOrder": 23,
    "_isFastLaunch": false,
    "category": "Compute optimized",
    "gpuNum": 0,
    "hideHardwareSpecs": false,
    "memoryGiB": 16,
    "name": "ml.c5.2xlarge",
    "vcpuNum": 8
   },
   {
    "_defaultOrder": 24,
    "_isFastLaunch": false,
    "category": "Compute optimized",
    "gpuNum": 0,
    "hideHardwareSpecs": false,
    "memoryGiB": 32,
    "name": "ml.c5.4xlarge",
    "vcpuNum": 16
   },
   {
    "_defaultOrder": 25,
    "_isFastLaunch": false,
    "category": "Compute optimized",
    "gpuNum": 0,
    "hideHardwareSpecs": false,
    "memoryGiB": 72,
    "name": "ml.c5.9xlarge",
    "vcpuNum": 36
   },
   {
    "_defaultOrder": 26,
    "_isFastLaunch": false,
    "category": "Compute optimized",
    "gpuNum": 0,
    "hideHardwareSpecs": false,
    "memoryGiB": 96,
    "name": "ml.c5.12xlarge",
    "vcpuNum": 48
   },
   {
    "_defaultOrder": 27,
    "_isFastLaunch": false,
    "category": "Compute optimized",
    "gpuNum": 0,
    "hideHardwareSpecs": false,
    "memoryGiB": 144,
    "name": "ml.c5.18xlarge",
    "vcpuNum": 72
   },
   {
    "_defaultOrder": 28,
    "_isFastLaunch": false,
    "category": "Compute optimized",
    "gpuNum": 0,
    "hideHardwareSpecs": false,
    "memoryGiB": 192,
    "name": "ml.c5.24xlarge",
    "vcpuNum": 96
   },
   {
    "_defaultOrder": 29,
    "_isFastLaunch": true,
    "category": "Accelerated computing",
    "gpuNum": 1,
    "hideHardwareSpecs": false,
    "memoryGiB": 16,
    "name": "ml.g4dn.xlarge",
    "vcpuNum": 4
   },
   {
    "_defaultOrder": 30,
    "_isFastLaunch": false,
    "category": "Accelerated computing",
    "gpuNum": 1,
    "hideHardwareSpecs": false,
    "memoryGiB": 32,
    "name": "ml.g4dn.2xlarge",
    "vcpuNum": 8
   },
   {
    "_defaultOrder": 31,
    "_isFastLaunch": false,
    "category": "Accelerated computing",
    "gpuNum": 1,
    "hideHardwareSpecs": false,
    "memoryGiB": 64,
    "name": "ml.g4dn.4xlarge",
    "vcpuNum": 16
   },
   {
    "_defaultOrder": 32,
    "_isFastLaunch": false,
    "category": "Accelerated computing",
    "gpuNum": 1,
    "hideHardwareSpecs": false,
    "memoryGiB": 128,
    "name": "ml.g4dn.8xlarge",
    "vcpuNum": 32
   },
   {
    "_defaultOrder": 33,
    "_isFastLaunch": false,
    "category": "Accelerated computing",
    "gpuNum": 4,
    "hideHardwareSpecs": false,
    "memoryGiB": 192,
    "name": "ml.g4dn.12xlarge",
    "vcpuNum": 48
   },
   {
    "_defaultOrder": 34,
    "_isFastLaunch": false,
    "category": "Accelerated computing",
    "gpuNum": 1,
    "hideHardwareSpecs": false,
    "memoryGiB": 256,
    "name": "ml.g4dn.16xlarge",
    "vcpuNum": 64
   },
   {
    "_defaultOrder": 35,
    "_isFastLaunch": false,
    "category": "Accelerated computing",
    "gpuNum": 1,
    "hideHardwareSpecs": false,
    "memoryGiB": 61,
    "name": "ml.p3.2xlarge",
    "vcpuNum": 8
   },
   {
    "_defaultOrder": 36,
    "_isFastLaunch": false,
    "category": "Accelerated computing",
    "gpuNum": 4,
    "hideHardwareSpecs": false,
    "memoryGiB": 244,
    "name": "ml.p3.8xlarge",
    "vcpuNum": 32
   },
   {
    "_defaultOrder": 37,
    "_isFastLaunch": false,
    "category": "Accelerated computing",
    "gpuNum": 8,
    "hideHardwareSpecs": false,
    "memoryGiB": 488,
    "name": "ml.p3.16xlarge",
    "vcpuNum": 64
   },
   {
    "_defaultOrder": 38,
    "_isFastLaunch": false,
    "category": "Accelerated computing",
    "gpuNum": 8,
    "hideHardwareSpecs": false,
    "memoryGiB": 768,
    "name": "ml.p3dn.24xlarge",
    "vcpuNum": 96
   },
   {
    "_defaultOrder": 39,
    "_isFastLaunch": false,
    "category": "Memory Optimized",
    "gpuNum": 0,
    "hideHardwareSpecs": false,
    "memoryGiB": 16,
    "name": "ml.r5.large",
    "vcpuNum": 2
   },
   {
    "_defaultOrder": 40,
    "_isFastLaunch": false,
    "category": "Memory Optimized",
    "gpuNum": 0,
    "hideHardwareSpecs": false,
    "memoryGiB": 32,
    "name": "ml.r5.xlarge",
    "vcpuNum": 4
   },
   {
    "_defaultOrder": 41,
    "_isFastLaunch": false,
    "category": "Memory Optimized",
    "gpuNum": 0,
    "hideHardwareSpecs": false,
    "memoryGiB": 64,
    "name": "ml.r5.2xlarge",
    "vcpuNum": 8
   },
   {
    "_defaultOrder": 42,
    "_isFastLaunch": false,
    "category": "Memory Optimized",
    "gpuNum": 0,
    "hideHardwareSpecs": false,
    "memoryGiB": 128,
    "name": "ml.r5.4xlarge",
    "vcpuNum": 16
   },
   {
    "_defaultOrder": 43,
    "_isFastLaunch": false,
    "category": "Memory Optimized",
    "gpuNum": 0,
    "hideHardwareSpecs": false,
    "memoryGiB": 256,
    "name": "ml.r5.8xlarge",
    "vcpuNum": 32
   },
   {
    "_defaultOrder": 44,
    "_isFastLaunch": false,
    "category": "Memory Optimized",
    "gpuNum": 0,
    "hideHardwareSpecs": false,
    "memoryGiB": 384,
    "name": "ml.r5.12xlarge",
    "vcpuNum": 48
   },
   {
    "_defaultOrder": 45,
    "_isFastLaunch": false,
    "category": "Memory Optimized",
    "gpuNum": 0,
    "hideHardwareSpecs": false,
    "memoryGiB": 512,
    "name": "ml.r5.16xlarge",
    "vcpuNum": 64
   },
   {
    "_defaultOrder": 46,
    "_isFastLaunch": false,
    "category": "Memory Optimized",
    "gpuNum": 0,
    "hideHardwareSpecs": false,
    "memoryGiB": 768,
    "name": "ml.r5.24xlarge",
    "vcpuNum": 96
   },
   {
    "_defaultOrder": 47,
    "_isFastLaunch": false,
    "category": "Accelerated computing",
    "gpuNum": 1,
    "hideHardwareSpecs": false,
    "memoryGiB": 16,
    "name": "ml.g5.xlarge",
    "vcpuNum": 4
   },
   {
    "_defaultOrder": 48,
    "_isFastLaunch": false,
    "category": "Accelerated computing",
    "gpuNum": 1,
    "hideHardwareSpecs": false,
    "memoryGiB": 32,
    "name": "ml.g5.2xlarge",
    "vcpuNum": 8
   },
   {
    "_defaultOrder": 49,
    "_isFastLaunch": false,
    "category": "Accelerated computing",
    "gpuNum": 1,
    "hideHardwareSpecs": false,
    "memoryGiB": 64,
    "name": "ml.g5.4xlarge",
    "vcpuNum": 16
   },
   {
    "_defaultOrder": 50,
    "_isFastLaunch": false,
    "category": "Accelerated computing",
    "gpuNum": 1,
    "hideHardwareSpecs": false,
    "memoryGiB": 128,
    "name": "ml.g5.8xlarge",
    "vcpuNum": 32
   },
   {
    "_defaultOrder": 51,
    "_isFastLaunch": false,
    "category": "Accelerated computing",
    "gpuNum": 1,
    "hideHardwareSpecs": false,
    "memoryGiB": 256,
    "name": "ml.g5.16xlarge",
    "vcpuNum": 64
   },
   {
    "_defaultOrder": 52,
    "_isFastLaunch": false,
    "category": "Accelerated computing",
    "gpuNum": 4,
    "hideHardwareSpecs": false,
    "memoryGiB": 192,
    "name": "ml.g5.12xlarge",
    "vcpuNum": 48
   },
   {
    "_defaultOrder": 53,
    "_isFastLaunch": false,
    "category": "Accelerated computing",
    "gpuNum": 4,
    "hideHardwareSpecs": false,
    "memoryGiB": 384,
    "name": "ml.g5.24xlarge",
    "vcpuNum": 96
   },
   {
    "_defaultOrder": 54,
    "_isFastLaunch": false,
    "category": "Accelerated computing",
    "gpuNum": 8,
    "hideHardwareSpecs": false,
    "memoryGiB": 768,
    "name": "ml.g5.48xlarge",
    "vcpuNum": 192
   },
   {
    "_defaultOrder": 55,
    "_isFastLaunch": false,
    "category": "Accelerated computing",
    "gpuNum": 8,
    "hideHardwareSpecs": false,
    "memoryGiB": 1152,
    "name": "ml.p4d.24xlarge",
    "vcpuNum": 96
   },
   {
    "_defaultOrder": 56,
    "_isFastLaunch": false,
    "category": "Accelerated computing",
    "gpuNum": 8,
    "hideHardwareSpecs": false,
    "memoryGiB": 1152,
    "name": "ml.p4de.24xlarge",
    "vcpuNum": 96
   },
   {
    "_defaultOrder": 57,
    "_isFastLaunch": false,
    "category": "Accelerated computing",
    "gpuNum": 0,
    "hideHardwareSpecs": false,
    "memoryGiB": 32,
    "name": "ml.trn1.2xlarge",
    "vcpuNum": 8
   },
   {
    "_defaultOrder": 58,
    "_isFastLaunch": false,
    "category": "Accelerated computing",
    "gpuNum": 0,
    "hideHardwareSpecs": false,
    "memoryGiB": 512,
    "name": "ml.trn1.32xlarge",
    "vcpuNum": 128
   },
   {
    "_defaultOrder": 59,
    "_isFastLaunch": false,
    "category": "Accelerated computing",
    "gpuNum": 0,
    "hideHardwareSpecs": false,
    "memoryGiB": 512,
    "name": "ml.trn1n.32xlarge",
    "vcpuNum": 128
   }
  ],
  "instance_type": "ml.t3.medium",
  "kernelspec": {
   "display_name": "Python 3 (Data Science 3.0)",
   "language": "python",
   "name": "python3__SAGEMAKER_INTERNAL__arn:aws:sagemaker:us-east-1:081325390199:image/sagemaker-data-science-310-v1"
  },
  "language_info": {
   "codemirror_mode": {
    "name": "ipython",
    "version": 3
   },
   "file_extension": ".py",
   "mimetype": "text/x-python",
   "name": "python",
   "nbconvert_exporter": "python",
   "pygments_lexer": "ipython3",
   "version": "3.10.6"
  }
 },
 "nbformat": 4,
 "nbformat_minor": 4
}
