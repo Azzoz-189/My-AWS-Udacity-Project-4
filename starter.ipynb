{
 "cells": [
  {
   "cell_type": "markdown",
   "metadata": {},
   "source": [
    "# Deploy and monitor a machine learning workflow for Image Classification"
   ]
  },
  {
   "cell_type": "markdown",
   "metadata": {},
   "source": [
    "## Setting up this notebook\n",
    "\n",
    "Notes about the instance size and kernel setup: this notebook has been tested on\n",
    "\n",
    "1. The `Python 3 (Data Science)` kernel\n",
    "2. The `ml.t3.medium` Sagemaker notebook instance\n",
    "\n",
    "## Data Staging\n",
    "\n",
    "We'll use a sample dataset called CIFAR to simulate the challenges Scones Unlimited are facing in Image Classification. In order to start working with CIFAR we'll need to:\n",
    "\n",
    "1. Extract the data from a hosting service\n",
    "2. Transform it into a usable shape and format\n",
    "3. Load it into a production system\n",
    "\n",
    "In other words, we're going to do some simple ETL!\n",
    "\n",
    "### 1. Extract the data from the hosting service\n",
    "\n",
    "In the cell below, define a function `extract_cifar_data` that extracts python version of the CIFAR-100 dataset. The CIFAR dataaset is open source and generously hosted by the University of Toronto at: https://www.cs.toronto.edu/~kriz/cifar-100-python.tar.gz "
   ]
  },
  {
   "cell_type": "code",
   "execution_count": 2,
   "metadata": {},
   "outputs": [],
   "source": [
    "import requests\n",
    "\n",
    "def extract_cifar_data(url, filename=\"cifar.tar.gz\"):\n",
    "    \"\"\"A function for extracting the CIFAR-100 dataset and storing it as a gzipped file\n",
    "    \n",
    "    Arguments:\n",
    "    url      -- the URL where the dataset is hosted\n",
    "    filename -- the full path where the dataset will be written\n",
    "    \n",
    "    \"\"\"\n",
    "    \n",
    "    # Todo: request the data from the data url\n",
    "    # Hint: use `requests.get` method\n",
    "    r = requests.get(url)\n",
    "    with open(filename, \"wb\") as file_context:\n",
    "        file_context.write(r.content)\n",
    "    return"
   ]
  },
  {
   "cell_type": "markdown",
   "metadata": {},
   "source": [
    "Let's test it out! Run the following cell and check whether a new file `cifar.tar.gz` is created in the file explorer."
   ]
  },
  {
   "cell_type": "code",
   "execution_count": 3,
   "metadata": {},
   "outputs": [],
   "source": [
    "extract_cifar_data(\"https://www.cs.toronto.edu/~kriz/cifar-100-python.tar.gz\")     "
   ]
  },
  {
   "cell_type": "markdown",
   "metadata": {},
   "source": [
    "### 2. Transform the data into a usable shape and format\n",
    "\n",
    "Clearly, distributing the data as a gzipped archive makes sense for the hosting service! It saves on bandwidth, storage, and it's a widely-used archive format. In fact, it's so widely used that the Python community ships a utility for working with them, `tarfile`, as part of its Standard Library. Execute the following cell to decompress your extracted dataset:"
   ]
  },
  {
   "cell_type": "code",
   "execution_count": 4,
   "metadata": {},
   "outputs": [],
   "source": [
    "import tarfile\n",
    "\n",
    "with tarfile.open(\"cifar.tar.gz\", \"r:gz\") as tar:\n",
    "    tar.extractall()"
   ]
  },
  {
   "cell_type": "markdown",
   "metadata": {},
   "source": [
    "A new folder `cifar-100-python` should be created, containing `meta`, `test`, and `train` files. These files are `pickles` and the [CIFAR homepage](https://www.cs.toronto.edu/~kriz/cifar.html) provides a simple script that can be used to load them. We've adapted the script below for you to run:"
   ]
  },
  {
   "cell_type": "code",
   "execution_count": 2,
   "metadata": {},
   "outputs": [],
   "source": [
    "import pickle\n",
    "\n",
    "with open(\"./cifar-100-python/meta\", \"rb\") as f:\n",
    "    dataset_meta = pickle.load(f, encoding='bytes')\n",
    "\n",
    "with open(\"./cifar-100-python/test\", \"rb\") as f:\n",
    "    dataset_test = pickle.load(f, encoding='bytes')\n",
    "\n",
    "with open(\"./cifar-100-python/train\", \"rb\") as f:\n",
    "    dataset_train = pickle.load(f, encoding='bytes')"
   ]
  },
  {
   "cell_type": "code",
   "execution_count": 3,
   "metadata": {},
   "outputs": [
    {
     "data": {
      "text/plain": [
       "dict_keys([b'filenames', b'batch_label', b'fine_labels', b'coarse_labels', b'data'])"
      ]
     },
     "execution_count": 3,
     "metadata": {},
     "output_type": "execute_result"
    }
   ],
   "source": [
    "# Feel free to explore the datasets\n",
    "\n",
    "dataset_train.keys()"
   ]
  },
  {
   "cell_type": "markdown",
   "metadata": {},
   "source": [
    "As documented on the homepage, `b'data'` contains rows of 3073 unsigned integers, representing three channels (red, green, and blue) for one 32x32 pixel image per row."
   ]
  },
  {
   "cell_type": "code",
   "execution_count": 15,
   "metadata": {},
   "outputs": [
    {
     "data": {
      "text/plain": [
       "3072"
      ]
     },
     "execution_count": 15,
     "metadata": {},
     "output_type": "execute_result"
    }
   ],
   "source": [
    "32*32*3"
   ]
  },
  {
   "cell_type": "markdown",
   "metadata": {},
   "source": [
    "For a simple gut-check, let's transform one of our images. Each 1024 items in a row is a channel (red, green, then blue). Each 32 items in the channel are a row in the 32x32 image. Using python, we can stack these channels into a 32x32x3 array, and save it as a PNG file:"
   ]
  },
  {
   "cell_type": "code",
   "execution_count": 4,
   "metadata": {},
   "outputs": [],
   "source": [
    "import numpy as np\n",
    "\n",
    "# Each 1024 in a row is a channel (red, green, then blue)\n",
    "row = dataset_train[b'data'][0]\n",
    "red, green, blue = row[0:1024], row[1024:2048], row[2048:]\n",
    "\n",
    "# Each 32 items in the channel are a row in the 32x32 image\n",
    "red = red.reshape(32,32)\n",
    "green = green.reshape(32,32)\n",
    "blue = blue.reshape(32,32)\n",
    "\n",
    "# Combine the channels into a 32x32x3 image!\n",
    "combined = np.dstack((red,green,blue))"
   ]
  },
  {
   "cell_type": "markdown",
   "metadata": {},
   "source": [
    "For a more concise version, consider the following:"
   ]
  },
  {
   "cell_type": "code",
   "execution_count": 5,
   "metadata": {},
   "outputs": [],
   "source": [
    "# All in one:\n",
    "test_image = np.dstack((\n",
    "    row[0:1024].reshape(32,32),\n",
    "    row[1024:2048].reshape(32,32),\n",
    "    row[2048:].reshape(32,32)\n",
    "))"
   ]
  },
  {
   "cell_type": "code",
   "execution_count": 6,
   "metadata": {},
   "outputs": [
    {
     "data": {
      "image/png": "[encoded data removed]",
      "text/plain": [
       "<Figure size 640x480 with 1 Axes>"
      ]
     },
     "metadata": {},
     "output_type": "display_data"
    }
   ],
   "source": [
    "import matplotlib.pyplot as plt\n",
    "plt.imshow(test_image);"
   ]
  },
  {
   "cell_type": "markdown",
   "metadata": {},
   "source": [
    "Looks like a cow! Let's check the label. `dataset_meta` contains label names in order, and `dataset_train` has a list of labels for each row."
   ]
  },
  {
   "cell_type": "code",
   "execution_count": 7,
   "metadata": {},
   "outputs": [
    {
     "data": {
      "text/plain": [
       "19"
      ]
     },
     "execution_count": 7,
     "metadata": {},
     "output_type": "execute_result"
    }
   ],
   "source": [
    "dataset_train[b'fine_labels'][0]"
   ]
  },
  {
   "cell_type": "markdown",
   "metadata": {},
   "source": [
    "Our image has a label of `19`, so let's see what the 19th item is in the list of label names."
   ]
  },
  {
   "cell_type": "code",
   "execution_count": 8,
   "metadata": {},
   "outputs": [
    {
     "name": "stdout",
     "output_type": "stream",
     "text": [
      "b'cattle'\n"
     ]
    }
   ],
   "source": [
    "print(dataset_meta[b'fine_label_names'][19])"
   ]
  },
  {
   "cell_type": "markdown",
   "metadata": {},
   "source": [
    "Ok! 'cattle' sounds about right. By the way, using the previous two lines we can do:"
   ]
  },
  {
   "cell_type": "code",
   "execution_count": 9,
   "metadata": {},
   "outputs": [
    {
     "name": "stdout",
     "output_type": "stream",
     "text": [
      "b'cattle'\n"
     ]
    }
   ],
   "source": [
    "n = 0\n",
    "print(dataset_meta[b'fine_label_names'][dataset_train[b'fine_labels'][n]])"
   ]
  },
  {
   "cell_type": "markdown",
   "metadata": {},
   "source": [
    "Now we know how to check labels, is there a way that we can also check file names? `dataset_train` also contains a `b'filenames'` key. Let's see what we have here:"
   ]
  },
  {
   "cell_type": "code",
   "execution_count": 10,
   "metadata": {},
   "outputs": [
    {
     "name": "stdout",
     "output_type": "stream",
     "text": [
      "b'bos_taurus_s_000507.png'\n"
     ]
    }
   ],
   "source": [
    "print(dataset_train[b'filenames'][0])"
   ]
  },
  {
   "cell_type": "markdown",
   "metadata": {},
   "source": [
    "\"Taurus\" is the name of a subspecies of cattle, so this looks like a pretty reasonable filename. To save an image we can also do:"
   ]
  },
  {
   "cell_type": "code",
   "execution_count": 11,
   "metadata": {},
   "outputs": [],
   "source": [
    "plt.imsave(\"file.png\", test_image)"
   ]
  },
  {
   "cell_type": "markdown",
   "metadata": {},
   "source": [
    "Your new PNG file should now appear in the file explorer -- go ahead and pop it open to see!\n",
    "\n",
    "Now that you know how to reshape the images, save them as files, and capture their filenames and labels, let's just capture all the bicycles and motorcycles and save them. Scones Unlimited can use a model that tells these apart to route delivery drivers automatically.\n",
    "\n",
    "In the following cell, identify the label numbers for Bicycles and Motorcycles:"
   ]
  },
  {
   "cell_type": "code",
   "execution_count": 3,
   "metadata": {},
   "outputs": [
    {
     "data": {
      "text/plain": [
       "[16,\n",
       " 30,\n",
       " 130,\n",
       " 152,\n",
       " 195,\n",
       " 219,\n",
       " 251,\n",
       " 252,\n",
       " 298,\n",
       " 370,\n",
       " 390,\n",
       " 392,\n",
       " 408,\n",
       " 560,\n",
       " 575,\n",
       " 576,\n",
       " 663,\n",
       " 682,\n",
       " 785,\n",
       " 839,\n",
       " 921,\n",
       " 922,\n",
       " 964,\n",
       " 984,\n",
       " 996,\n",
       " 1023,\n",
       " 1114,\n",
       " 1132,\n",
       " 1158,\n",
       " 1170,\n",
       " 1255,\n",
       " 1290,\n",
       " 1334,\n",
       " 1357,\n",
       " 1362,\n",
       " 1457,\n",
       " 1555,\n",
       " 1564,\n",
       " 1644,\n",
       " 1747,\n",
       " 1818,\n",
       " 1841,\n",
       " 1885,\n",
       " 1942,\n",
       " 1964,\n",
       " 1965,\n",
       " 2010,\n",
       " 2079,\n",
       " 2105,\n",
       " 2163,\n",
       " 2296,\n",
       " 2319,\n",
       " 2499,\n",
       " 2525,\n",
       " 2598,\n",
       " 2599,\n",
       " 2790,\n",
       " 2838,\n",
       " 2852,\n",
       " 2952,\n",
       " 2973,\n",
       " 3053,\n",
       " 3162,\n",
       " 3228,\n",
       " 3286,\n",
       " 3464,\n",
       " 3566,\n",
       " 3574,\n",
       " 3584,\n",
       " 3597,\n",
       " 3616,\n",
       " 3653,\n",
       " 3676,\n",
       " 3817,\n",
       " 3923,\n",
       " 3954,\n",
       " 4027,\n",
       " 4036,\n",
       " 4097,\n",
       " 4197,\n",
       " 4207,\n",
       " 4212,\n",
       " 4221,\n",
       " 4291,\n",
       " 4320,\n",
       " 4367,\n",
       " 4416,\n",
       " 4437,\n",
       " 4448,\n",
       " 4478,\n",
       " 4509,\n",
       " 4600,\n",
       " 4654,\n",
       " 4690,\n",
       " 4693,\n",
       " 4779,\n",
       " 4803,\n",
       " 4838,\n",
       " 4880,\n",
       " 4900,\n",
       " 4911,\n",
       " 4921,\n",
       " 4957,\n",
       " 4997,\n",
       " 5001,\n",
       " 5033,\n",
       " 5152,\n",
       " 5213,\n",
       " 5312,\n",
       " 5352,\n",
       " 5375,\n",
       " 5386,\n",
       " 5403,\n",
       " 5551,\n",
       " 5566,\n",
       " 5588,\n",
       " 5640,\n",
       " 5757,\n",
       " 5759,\n",
       " 5830,\n",
       " 5866,\n",
       " 5882,\n",
       " 5886,\n",
       " 5975,\n",
       " 6070,\n",
       " 6084,\n",
       " 6092,\n",
       " 6123,\n",
       " 6222,\n",
       " 6252,\n",
       " 6293,\n",
       " 6330,\n",
       " 6333,\n",
       " 6386,\n",
       " 6519,\n",
       " 6540,\n",
       " 6687,\n",
       " 6701,\n",
       " 6710,\n",
       " 6718,\n",
       " 6733,\n",
       " 6741,\n",
       " 6832,\n",
       " 6853,\n",
       " 6870,\n",
       " 6895,\n",
       " 6903,\n",
       " 7026,\n",
       " 7070,\n",
       " 7101,\n",
       " 7105,\n",
       " 7119,\n",
       " 7120,\n",
       " 7137,\n",
       " 7161,\n",
       " 7185,\n",
       " 7229,\n",
       " 7253,\n",
       " 7255,\n",
       " 7282,\n",
       " 7286,\n",
       " 7362,\n",
       " 7505,\n",
       " 7517,\n",
       " 7650,\n",
       " 7699,\n",
       " 7715,\n",
       " 7719,\n",
       " 7732,\n",
       " 7896,\n",
       " 7943,\n",
       " 7946,\n",
       " 7976,\n",
       " 8138,\n",
       " 8153,\n",
       " 8191,\n",
       " 8209,\n",
       " 8222,\n",
       " 8247,\n",
       " 8322,\n",
       " 8355,\n",
       " 8408,\n",
       " 8509,\n",
       " 8533,\n",
       " 8545,\n",
       " 8579,\n",
       " 8585,\n",
       " 8595,\n",
       " 8657,\n",
       " 8674,\n",
       " 8715,\n",
       " 8740,\n",
       " 8744,\n",
       " 8780,\n",
       " 8797,\n",
       " 8868,\n",
       " 8885,\n",
       " 8933,\n",
       " 9006,\n",
       " 9035,\n",
       " 9066,\n",
       " 9074,\n",
       " 9089,\n",
       " 9094,\n",
       " 9101,\n",
       " 9132,\n",
       " 9137,\n",
       " 9199,\n",
       " 9230,\n",
       " 9317,\n",
       " 9328,\n",
       " 9356,\n",
       " 9439,\n",
       " 9455,\n",
       " 9518,\n",
       " 9534,\n",
       " 9572,\n",
       " 9601,\n",
       " 9614,\n",
       " 9615,\n",
       " 9650,\n",
       " 9657,\n",
       " 9743,\n",
       " 9797,\n",
       " 9827,\n",
       " 9972,\n",
       " 10000,\n",
       " 10050,\n",
       " 10083,\n",
       " 10091,\n",
       " 10098,\n",
       " 10129,\n",
       " 10377,\n",
       " 10468,\n",
       " 10477,\n",
       " 10504,\n",
       " 10523,\n",
       " 10557,\n",
       " 10571,\n",
       " 10608,\n",
       " 10620,\n",
       " 10632,\n",
       " 10665,\n",
       " 10741,\n",
       " 10762,\n",
       " 10794,\n",
       " 10798,\n",
       " 10951,\n",
       " 11080,\n",
       " 11106,\n",
       " 11174,\n",
       " 11229,\n",
       " 11262,\n",
       " 11307,\n",
       " 11311,\n",
       " 11381,\n",
       " 11383,\n",
       " 11388,\n",
       " 11451,\n",
       " 11617,\n",
       " 11625,\n",
       " 11653,\n",
       " 11708,\n",
       " 11717,\n",
       " 11751,\n",
       " 11789,\n",
       " 11819,\n",
       " 11955,\n",
       " 11975,\n",
       " 12023,\n",
       " 12058,\n",
       " 12130,\n",
       " 12188,\n",
       " 12231,\n",
       " 12265,\n",
       " 12296,\n",
       " 12633,\n",
       " 12767,\n",
       " 12822,\n",
       " 12845,\n",
       " 12964,\n",
       " 13009,\n",
       " 13089,\n",
       " 13279,\n",
       " 13295,\n",
       " 13298,\n",
       " 13322,\n",
       " 13327,\n",
       " 13482,\n",
       " 13520,\n",
       " 13532,\n",
       " 13576,\n",
       " 13582,\n",
       " 13642,\n",
       " 13684,\n",
       " 13692,\n",
       " 13716,\n",
       " 13740,\n",
       " 13762,\n",
       " 13772,\n",
       " 13786,\n",
       " 13809,\n",
       " 13860,\n",
       " 13879,\n",
       " 13997,\n",
       " 14027,\n",
       " 14067,\n",
       " 14197,\n",
       " 14254,\n",
       " 14306,\n",
       " 14312,\n",
       " 14369,\n",
       " 14418,\n",
       " 14437,\n",
       " 14485,\n",
       " 14504,\n",
       " 14551,\n",
       " 14679,\n",
       " 14715,\n",
       " 14783,\n",
       " 14786,\n",
       " 15007,\n",
       " 15036,\n",
       " 15083,\n",
       " 15108,\n",
       " 15130,\n",
       " 15177,\n",
       " 15193,\n",
       " 15267,\n",
       " 15312,\n",
       " 15335,\n",
       " 15352,\n",
       " 15361,\n",
       " 15385,\n",
       " 15444,\n",
       " 15447,\n",
       " 15535,\n",
       " 15564,\n",
       " 15569,\n",
       " 15600,\n",
       " 15641,\n",
       " 15733,\n",
       " 15756,\n",
       " 15830,\n",
       " 15851,\n",
       " 15867,\n",
       " 15888,\n",
       " 16015,\n",
       " 16093,\n",
       " 16124,\n",
       " 16150,\n",
       " 16185,\n",
       " 16271,\n",
       " 16285,\n",
       " 16380,\n",
       " 16402,\n",
       " 16416,\n",
       " 16417,\n",
       " 16448,\n",
       " 16479,\n",
       " 16497,\n",
       " 16565,\n",
       " 16568,\n",
       " 16574,\n",
       " 16606,\n",
       " 16609,\n",
       " 16660,\n",
       " 16701,\n",
       " 16800,\n",
       " 16839,\n",
       " 17049,\n",
       " 17073,\n",
       " 17125,\n",
       " 17160,\n",
       " 17165,\n",
       " 17220,\n",
       " 17250,\n",
       " 17257,\n",
       " 17310,\n",
       " 17373,\n",
       " 17379,\n",
       " 17471,\n",
       " 17481,\n",
       " 17517,\n",
       " 17540,\n",
       " 17648,\n",
       " 17730,\n",
       " 17971,\n",
       " 17988,\n",
       " 18020,\n",
       " 18164,\n",
       " 18232,\n",
       " 18322,\n",
       " 18327,\n",
       " 18462,\n",
       " 18518,\n",
       " 18556,\n",
       " 18664,\n",
       " 18671,\n",
       " 18787,\n",
       " 18794,\n",
       " 18796,\n",
       " 18831,\n",
       " 18892,\n",
       " 18951,\n",
       " 18995,\n",
       " 19015,\n",
       " 19021,\n",
       " 19152,\n",
       " 19154,\n",
       " 19336,\n",
       " 19343,\n",
       " 19351,\n",
       " 19511,\n",
       " 19518,\n",
       " 19532,\n",
       " 19628,\n",
       " 19675,\n",
       " 19701,\n",
       " 19743,\n",
       " 19849,\n",
       " 19925,\n",
       " 19933,\n",
       " 19941,\n",
       " 19958,\n",
       " 19972,\n",
       " 20177,\n",
       " 20221,\n",
       " 20237,\n",
       " 20267,\n",
       " 20397,\n",
       " 20498,\n",
       " 20548,\n",
       " 20580,\n",
       " 20601,\n",
       " 20647,\n",
       " 20684,\n",
       " 20712,\n",
       " 20733,\n",
       " 20806,\n",
       " 20842,\n",
       " 20870,\n",
       " 20982,\n",
       " 20985,\n",
       " 21067,\n",
       " 21077,\n",
       " 21309,\n",
       " 21584,\n",
       " 21687,\n",
       " 21730,\n",
       " 21945,\n",
       " 21956,\n",
       " 21959,\n",
       " 22003,\n",
       " 22004,\n",
       " 22005,\n",
       " 22026,\n",
       " 22028,\n",
       " 22116,\n",
       " 22173,\n",
       " 22237,\n",
       " 22275,\n",
       " 22303,\n",
       " 22304,\n",
       " 22355,\n",
       " 22403,\n",
       " 22480,\n",
       " 22516,\n",
       " 22535,\n",
       " 22564,\n",
       " 22565,\n",
       " 22581,\n",
       " 22661,\n",
       " 22673,\n",
       " 22699,\n",
       " 22748,\n",
       " 22760,\n",
       " 22793,\n",
       " 22807,\n",
       " 22811,\n",
       " 22816,\n",
       " 22852,\n",
       " 22862,\n",
       " 22947,\n",
       " 22948,\n",
       " 22967,\n",
       " 22983,\n",
       " 23228,\n",
       " 23274,\n",
       " 23335,\n",
       " 23351,\n",
       " 23537,\n",
       " 23587,\n",
       " 23603,\n",
       " 23616,\n",
       " 23669,\n",
       " 23715,\n",
       " 23744,\n",
       " 23763,\n",
       " 23888,\n",
       " 23908,\n",
       " 23986,\n",
       " 24103,\n",
       " 24124,\n",
       " 24130,\n",
       " 24170,\n",
       " 24182,\n",
       " 24246,\n",
       " 24284,\n",
       " 24343,\n",
       " 24411,\n",
       " 24461,\n",
       " 24467,\n",
       " 24501,\n",
       " 24505,\n",
       " 24570,\n",
       " 24655,\n",
       " 24723,\n",
       " 24804,\n",
       " 24813,\n",
       " 25033,\n",
       " 25035,\n",
       " 25230,\n",
       " 25319,\n",
       " 25320,\n",
       " 25326,\n",
       " 25346,\n",
       " 25349,\n",
       " 25350,\n",
       " 25371,\n",
       " 25476,\n",
       " 25509,\n",
       " 25568,\n",
       " 25584,\n",
       " 25640,\n",
       " 25645,\n",
       " 25734,\n",
       " 25863,\n",
       " 25866,\n",
       " 25871,\n",
       " 26026,\n",
       " 26050,\n",
       " 26060,\n",
       " 26108,\n",
       " 26114,\n",
       " 26173,\n",
       " 26185,\n",
       " 26216,\n",
       " 26228,\n",
       " 26326,\n",
       " 26371,\n",
       " 26468,\n",
       " 26486,\n",
       " 26487,\n",
       " 26491,\n",
       " 26529,\n",
       " 26549,\n",
       " 26635,\n",
       " 26648,\n",
       " 26890,\n",
       " 26944,\n",
       " 26948,\n",
       " 26971,\n",
       " 27008,\n",
       " 27125,\n",
       " 27134,\n",
       " 27154,\n",
       " 27198,\n",
       " 27219,\n",
       " 27233,\n",
       " 27274,\n",
       " 27301,\n",
       " 27306,\n",
       " 27326,\n",
       " 27345,\n",
       " 27375,\n",
       " 27425,\n",
       " 27526,\n",
       " 27614,\n",
       " 27656,\n",
       " 27691,\n",
       " 27747,\n",
       " 27777,\n",
       " 27788,\n",
       " 27808,\n",
       " 27920,\n",
       " 27961,\n",
       " 27963,\n",
       " 28014,\n",
       " 28051,\n",
       " 28062,\n",
       " 28067,\n",
       " 28073,\n",
       " 28147,\n",
       " 28259,\n",
       " 28295,\n",
       " 28311,\n",
       " 28368,\n",
       " 28396,\n",
       " 28421,\n",
       " 28424,\n",
       " 28500,\n",
       " 28530,\n",
       " 28559,\n",
       " 28698,\n",
       " 28879,\n",
       " 28898,\n",
       " 29044,\n",
       " 29119,\n",
       " 29180,\n",
       " 29185,\n",
       " 29236,\n",
       " 29237,\n",
       " 29245,\n",
       " 29351,\n",
       " 29430,\n",
       " 29550,\n",
       " 29553,\n",
       " 29586,\n",
       " 29825,\n",
       " 29857,\n",
       " 29923,\n",
       " 29966,\n",
       " 29988,\n",
       " 30008,\n",
       " 30247,\n",
       " 30293,\n",
       " 30301,\n",
       " 30395,\n",
       " 30497,\n",
       " 30526,\n",
       " 30584,\n",
       " 30611,\n",
       " 30959,\n",
       " 30971,\n",
       " 31026,\n",
       " 31105,\n",
       " 31164,\n",
       " 31181,\n",
       " 31209,\n",
       " 31230,\n",
       " 31243,\n",
       " 31260,\n",
       " 31319,\n",
       " 31343,\n",
       " 31370,\n",
       " 31378,\n",
       " 31381,\n",
       " 31476,\n",
       " 31518,\n",
       " 31528,\n",
       " 31601,\n",
       " 31654,\n",
       " 31706,\n",
       " 31779,\n",
       " 31882,\n",
       " 31889,\n",
       " 31900,\n",
       " 31954,\n",
       " 32023,\n",
       " 32078,\n",
       " 32143,\n",
       " 32183,\n",
       " 32320,\n",
       " 32321,\n",
       " 32392,\n",
       " 32551,\n",
       " 32573,\n",
       " 32652,\n",
       " 32674,\n",
       " 32677,\n",
       " 32713,\n",
       " 32746,\n",
       " 32788,\n",
       " 32842,\n",
       " 32849,\n",
       " 32868,\n",
       " 32974,\n",
       " 32999,\n",
       " 33025,\n",
       " 33075,\n",
       " 33078,\n",
       " 33128,\n",
       " 33226,\n",
       " 33274,\n",
       " 33385,\n",
       " 33388,\n",
       " 33413,\n",
       " 33457,\n",
       " 33501,\n",
       " 33544,\n",
       " 33548,\n",
       " 33569,\n",
       " 33570,\n",
       " 33609,\n",
       " 33668,\n",
       " 33856,\n",
       " 33858,\n",
       " 33870,\n",
       " 33948,\n",
       " 34039,\n",
       " 34076,\n",
       " 34145,\n",
       " 34150,\n",
       " 34172,\n",
       " 34221,\n",
       " 34346,\n",
       " 34354,\n",
       " 34391,\n",
       " 34397,\n",
       " 34413,\n",
       " 34434,\n",
       " 34468,\n",
       " 34500,\n",
       " 34563,\n",
       " 34614,\n",
       " 34616,\n",
       " 34627,\n",
       " 34644,\n",
       " 34685,\n",
       " 34717,\n",
       " 34719,\n",
       " 34794,\n",
       " 34826,\n",
       " 34861,\n",
       " 34882,\n",
       " 34903,\n",
       " 34916,\n",
       " 34945,\n",
       " 35094,\n",
       " 35095,\n",
       " 35206,\n",
       " 35210,\n",
       " 35211,\n",
       " 35212,\n",
       " 35238,\n",
       " 35252,\n",
       " 35368,\n",
       " 35481,\n",
       " 35552,\n",
       " 35589,\n",
       " 35617,\n",
       " 35695,\n",
       " 35716,\n",
       " 35747,\n",
       " 35760,\n",
       " 35813,\n",
       " 35817,\n",
       " 35876,\n",
       " 35988,\n",
       " 36091,\n",
       " 36150,\n",
       " 36188,\n",
       " 36200,\n",
       " 36253,\n",
       " 36269,\n",
       " 36286,\n",
       " 36302,\n",
       " 36333,\n",
       " 36476,\n",
       " 36493,\n",
       " 36512,\n",
       " 36530,\n",
       " 36614,\n",
       " 36650,\n",
       " 36744,\n",
       " 36907,\n",
       " 36957,\n",
       " 36996,\n",
       " 37008,\n",
       " 37024,\n",
       " 37081,\n",
       " 37096,\n",
       " 37180,\n",
       " 37256,\n",
       " 37435,\n",
       " 37439,\n",
       " 37469,\n",
       " 37517,\n",
       " 37539,\n",
       " 37560,\n",
       " 37568,\n",
       " 37594,\n",
       " 37733,\n",
       " 37790,\n",
       " 37814,\n",
       " 37853,\n",
       " 37872,\n",
       " 37912,\n",
       " 37918,\n",
       " 37958,\n",
       " 38017,\n",
       " 38021,\n",
       " 38126,\n",
       " 38229,\n",
       " 38230,\n",
       " 38322,\n",
       " 38367,\n",
       " 38382,\n",
       " 38391,\n",
       " 38573,\n",
       " 38752,\n",
       " 38915,\n",
       " 38936,\n",
       " 38973,\n",
       " 39117,\n",
       " 39131,\n",
       " 39157,\n",
       " 39276,\n",
       " 39282,\n",
       " 39287,\n",
       " 39380,\n",
       " 39397,\n",
       " 39445,\n",
       " 39632,\n",
       " 39754,\n",
       " 39781,\n",
       " 39848,\n",
       " 39915,\n",
       " 39967,\n",
       " 39972,\n",
       " 39990,\n",
       " 40041,\n",
       " 40050,\n",
       " 40081,\n",
       " 40156,\n",
       " 40171,\n",
       " 40189,\n",
       " 40248,\n",
       " 40455,\n",
       " 40496,\n",
       " 40537,\n",
       " 40561,\n",
       " 40686,\n",
       " 40797,\n",
       " 40892,\n",
       " 40951,\n",
       " 41043,\n",
       " 41044,\n",
       " 41086,\n",
       " 41144,\n",
       " 41180,\n",
       " 41294,\n",
       " 41306,\n",
       " 41343,\n",
       " 41439,\n",
       " 41548,\n",
       " 41612,\n",
       " 41694,\n",
       " 41735,\n",
       " 41800,\n",
       " 41848,\n",
       " 41982,\n",
       " 42056,\n",
       " 42107,\n",
       " 42154,\n",
       " 42193,\n",
       " 42315,\n",
       " 42499,\n",
       " 42539,\n",
       " 42543,\n",
       " 42570,\n",
       " 42613,\n",
       " 42732,\n",
       " 42768,\n",
       " 42856,\n",
       " 42861,\n",
       " 42892,\n",
       " 42995,\n",
       " 43033,\n",
       " 43052,\n",
       " 43316,\n",
       " 43338,\n",
       " 43343,\n",
       " 43412,\n",
       " 43422,\n",
       " 43434,\n",
       " 43464,\n",
       " 43468,\n",
       " 43481,\n",
       " 43550,\n",
       " 43559,\n",
       " 43573,\n",
       " 43593,\n",
       " 43594,\n",
       " 43688,\n",
       " 43762,\n",
       " 43847,\n",
       " 43895,\n",
       " 43981,\n",
       " 44000,\n",
       " 44015,\n",
       " 44142,\n",
       " 44291,\n",
       " 44300,\n",
       " 44351,\n",
       " 44423,\n",
       " 44464,\n",
       " 44468,\n",
       " 44506,\n",
       " 44543,\n",
       " 44551,\n",
       " 44553,\n",
       " 44635,\n",
       " 44666,\n",
       " 44678,\n",
       " 44702,\n",
       " 44709,\n",
       " 44862,\n",
       " 44863,\n",
       " 44927,\n",
       " 44967,\n",
       " 45046,\n",
       " 45191,\n",
       " 45233,\n",
       " 45336,\n",
       " 45393,\n",
       " 45442,\n",
       " 45449,\n",
       " 45461,\n",
       " 45483,\n",
       " 45489,\n",
       " 45529,\n",
       " 45605,\n",
       " 45638,\n",
       " 45673,\n",
       " 45676,\n",
       " 45692,\n",
       " 45763,\n",
       " 45769,\n",
       " 45807,\n",
       " 45847,\n",
       " 45859,\n",
       " 45950,\n",
       " 46022,\n",
       " 46106,\n",
       " 46157,\n",
       " 46161,\n",
       " 46186,\n",
       " 46203,\n",
       " 46288,\n",
       " 46316,\n",
       " 46363,\n",
       " 46389,\n",
       " 46515,\n",
       " 46570,\n",
       " 46667,\n",
       " 46675,\n",
       " 46724,\n",
       " 46785,\n",
       " 46899,\n",
       " 46922,\n",
       " 46955,\n",
       " 46996,\n",
       " 47175,\n",
       " 47180,\n",
       " 47302,\n",
       " 47344,\n",
       " 47374,\n",
       " 47466,\n",
       " 47469,\n",
       " 47510,\n",
       " 47519,\n",
       " 47567,\n",
       " 47721,\n",
       " 47772,\n",
       " 47792,\n",
       " 47888,\n",
       " 48028,\n",
       " 48044,\n",
       " 48045,\n",
       " 48089,\n",
       " 48112,\n",
       " 48198,\n",
       " 48220,\n",
       " 48271,\n",
       " 48295,\n",
       " 48375,\n",
       " 48546,\n",
       " 48553,\n",
       " 48575,\n",
       " 48760,\n",
       " 48837,\n",
       " 48887,\n",
       " 48941,\n",
       " 48958,\n",
       " 48980,\n",
       " 49151,\n",
       " 49172,\n",
       " 49176,\n",
       " 49192,\n",
       " 49249,\n",
       " 49452,\n",
       " 49485,\n",
       " 49492,\n",
       " 49578,\n",
       " 49588,\n",
       " 49882,\n",
       " 49962,\n",
       " 49985]"
      ]
     },
     "execution_count": 3,
     "metadata": {},
     "output_type": "execute_result"
    }
   ],
   "source": [
    "import pandas as pd\n",
    "\n",
    "# Todo: Filter the dataset_train and dataset_meta objects to find the label numbers for Bicycle and Motorcycles\n",
    "lab_num = [ x for x in range(len(dataset_train[b'fine_labels'])) if (dataset_meta[b'fine_label_names'][dataset_train[b'fine_labels'][x]]==b'bicycle') \\\n",
    "                                                                                                                       or (dataset_meta[b'fine_label_names'][dataset_train[b'fine_labels'][x]]==b'motorcycle')]\n",
    "lab_num"
   ]
  },
  {
   "cell_type": "code",
   "execution_count": 5,
   "metadata": {
    "tags": []
   },
   "outputs": [
    {
     "data": {
      "text/plain": [
       "[b'filenames', b'batch_label', b'fine_labels', b'coarse_labels', b'data']"
      ]
     },
     "execution_count": 5,
     "metadata": {},
     "output_type": "execute_result"
    }
   ],
   "source": [
    "columns = list(dataset_train.keys())\n",
    "columns\n"
   ]
  },
  {
   "cell_type": "code",
   "execution_count": 6,
   "metadata": {
    "tags": []
   },
   "outputs": [
    {
     "data": {
      "text/plain": [
       "[b'filenames', b'fine_labels', b'coarse_labels', b'data']"
      ]
     },
     "execution_count": 6,
     "metadata": {},
     "output_type": "execute_result"
    }
   ],
   "source": [
    "#skipping the different column data amount\n",
    "columns = [b'filenames', b'fine_labels', b'coarse_labels', b'data']\n",
    "columns"
   ]
  },
  {
   "cell_type": "code",
   "execution_count": null,
   "metadata": {
    "tags": []
   },
   "outputs": [],
   "source": [
    "dataset_train_filtered = {key:[dataset_train[key][x] for x in lab_num] for key in columns }\n",
    "dataset_train_filtered"
   ]
  },
  {
   "cell_type": "markdown",
   "metadata": {},
   "source": [
    "Good job! We only need objects with label 8 and 48 -- this drastically simplifies our handling of the data! Below we construct a dataframe for you, and you can safely drop the rows that don't contain observations about bicycles and motorcycles. Fill in the missing lines below to drop all other rows:"
   ]
  },
  {
   "cell_type": "code",
   "execution_count": 4,
   "metadata": {},
   "outputs": [],
   "source": [
    "#Construct the dataframe\n",
    "df_train = pd.DataFrame({\n",
    "    \"filenames\": dataset_train[b'filenames'],\n",
    "    \"labels\": dataset_train[b'fine_labels'],\n",
    "    \"row\": range(len(dataset_train[b'filenames']))\n",
    "})\n",
    "\n",
    "# Drop all rows from df_train where label is not 8 or 48\n",
    "df_train = df_train[(df_train['labels'] == 8) | ( df_train['labels']==48)] #TODO: Fill in\n",
    "\n",
    "# Decode df_train.filenames so they are regular strings\n",
    "df_train[\"filenames\"] = df_train[\"filenames\"].apply(\n",
    "    lambda x: x.decode(\"utf-8\")\n",
    ")\n",
    "\n",
    "\n",
    "df_test = pd.DataFrame({\n",
    "    \"filenames\": dataset_test[b'filenames'],\n",
    "    \"labels\": dataset_test[b'fine_labels'],\n",
    "    \"row\": range(len(dataset_test[b'filenames']))\n",
    "})\n",
    "\n",
    "# Drop all rows from df_test where label is not 8 or 48\n",
    "df_test = df_test[(df_test['labels'] == 8) | ( df_test['labels'] == 48) ]#TODO: Fill in\n",
    "\n",
    "# Decode df_test.filenames so they are regular strings\n",
    "df_test[\"filenames\"] = df_test[\"filenames\"].apply(\n",
    "    lambda x: x.decode(\"utf-8\")\n",
    ")"
   ]
  },
  {
   "cell_type": "code",
   "execution_count": 17,
   "metadata": {
    "tags": []
   },
   "outputs": [
    {
     "data": {
      "text/plain": [
       "range(0, 50000)"
      ]
     },
     "execution_count": 17,
     "metadata": {},
     "output_type": "execute_result"
    }
   ],
   "source": [
    "l = range(len(dataset_train[b'filenames']))\n",
    "l"
   ]
  },
  {
   "cell_type": "code",
   "execution_count": 35,
   "metadata": {
    "tags": []
   },
   "outputs": [
    {
     "data": {
      "text/plain": [
       "(50000, 3072)"
      ]
     },
     "execution_count": 35,
     "metadata": {},
     "output_type": "execute_result"
    }
   ],
   "source": [
    "dataset_train[b'data'].shape"
   ]
  },
  {
   "cell_type": "code",
   "execution_count": 23,
   "metadata": {
    "tags": []
   },
   "outputs": [
    {
     "data": {
      "text/plain": [
       "(1000, 3)"
      ]
     },
     "execution_count": 23,
     "metadata": {},
     "output_type": "execute_result"
    }
   ],
   "source": [
    "df_train.shape"
   ]
  },
  {
   "cell_type": "markdown",
   "metadata": {},
   "source": [
    "Now that the data is filtered for just our classes, we can save all our images."
   ]
  },
  {
   "cell_type": "code",
   "execution_count": 7,
   "metadata": {},
   "outputs": [],
   "source": [
    "!mkdir ./train\n",
    "!mkdir ./test"
   ]
  },
  {
   "cell_type": "markdown",
   "metadata": {},
   "source": [
    "In the previous sections we introduced you to several key snippets of code:\n",
    "\n",
    "1. Grabbing the image data:\n",
    "\n",
    "```python\n",
    "dataset_train[b'data'][0]\n",
    "```\n",
    "\n",
    "2. A simple idiom for stacking the image data into the right shape\n",
    "\n",
    "```python\n",
    "import numpy as np\n",
    "np.dstack((\n",
    "    row[0:1024].reshape(32,32),\n",
    "    row[1024:2048].reshape(32,32),\n",
    "    row[2048:].reshape(32,32)\n",
    "))\n",
    "```\n",
    "\n",
    "3. A simple `matplotlib` utility for saving images\n",
    "\n",
    "```python\n",
    "plt.imsave(path+row['filenames'], target)\n",
    "```\n",
    "\n",
    "Compose these together into a function that saves all the images into the `./test` and `./train` directories. Use the comments in the body of the `save_images` function below to guide your construction of the function:\n"
   ]
  },
  {
   "cell_type": "code",
   "execution_count": 8,
   "metadata": {},
   "outputs": [],
   "source": [
    "import numpy as np\n",
    "import matplotlib.pyplot as plt\n",
    "import os\n",
    "def save_images(dataset_pth, image_data, image_name  ):\n",
    "    #Grab the image data in row-major form\n",
    "    img = image_data\n",
    "    \n",
    "    # Consolidated stacking/reshaping from earlier\n",
    "    target = np.dstack((\n",
    "    img[0:1024].reshape(32,32),\n",
    "    img[1024:2048].reshape(32,32),\n",
    "    img[2048:].reshape(32,32)\n",
    "))\n",
    "    \n",
    "    # Save the image\n",
    "    \n",
    "    \n",
    "    plt.imsave(dataset_pth+image_name, target)\n",
    "    # Return any signal data you want for debugging\n",
    "    return len(os.listdir(dataset_pth))\n",
    "\n",
    "## TODO: save ALL images using the save_images function\n",
    "\n",
    "for ix, xrow in df_train.iterrows():\n",
    "    row = xrow['row']\n",
    "    data = dataset_train[b'data'][row]\n",
    "    name = xrow['filenames']\n",
    "    save_images('./train/', data, name)\n",
    "    \n",
    "for ix, xrow in df_test.iterrows():\n",
    "    row = xrow['row']\n",
    "    data = dataset_test[b'data'][row]\n",
    "    name = xrow['filenames']\n",
    "    save_images('./test/', data, name)"
   ]
  },
  {
   "cell_type": "markdown",
   "metadata": {},
   "source": [
    "### 3. Load the data\n",
    "\n",
    "Now we can load the data into S3.\n",
    "\n",
    "Using the sagemaker SDK grab the current region, execution role, and bucket."
   ]
  },
  {
   "cell_type": "code",
   "execution_count": 2,
   "metadata": {},
   "outputs": [
    {
     "name": "stdout",
     "output_type": "stream",
     "text": [
      "sagemaker.config INFO - Not applying SDK defaults from location: /etc/xdg/sagemaker/config.yaml\n",
      "sagemaker.config INFO - Not applying SDK defaults from location: /root/.config/sagemaker/config.yaml\n",
      "Default Bucket: sagemaker-us-east-1-925477085739\n",
      "AWS Region: us-east-1\n",
      "RoleArn: arn:aws:iam::925477085739:role/service-role/AmazonSageMaker-ExecutionRole-20240805T173232\n"
     ]
    }
   ],
   "source": [
    "import sagemaker\n",
    "\n",
    "\n",
    "bucket= sagemaker.Session().default_bucket() \n",
    "print(\"Default Bucket: {}\".format(bucket))\n",
    "\n",
    "region = sagemaker.Session().boto_region_name \n",
    "print(\"AWS Region: {}\".format(region))\n",
    "\n",
    "role = sagemaker.get_execution_role()\n",
    "print(\"RoleArn: {}\".format(role))"
   ]
  },
  {
   "cell_type": "markdown",
   "metadata": {},
   "source": [
    "With this data we can easily sync your data up into S3!"
   ]
  },
  {
   "cell_type": "code",
   "execution_count": 14,
   "metadata": {},
   "outputs": [],
   "source": [
    "import os\n",
    "\n",
    "os.environ[\"DEFAULT_S3_BUCKET\"] = bucket\n",
    "!aws s3 sync ./train s3://${DEFAULT_S3_BUCKET}/train/\n",
    "!aws s3 sync ./test s3://${DEFAULT_S3_BUCKET}/test/"
   ]
  },
  {
   "cell_type": "markdown",
   "metadata": {},
   "source": [
    "And that's it! You can check the bucket and verify that the items were uploaded.\n",
    "\n",
    "## Model Training\n",
    "\n",
    "For Image Classification, Sagemaker [also expects metadata](https://docs.aws.amazon.com/sagemaker/latest/dg/image-classification.html) e.g. in the form of TSV files with labels and filepaths. We can generate these using our Pandas DataFrames from earlier:"
   ]
  },
  {
   "cell_type": "code",
   "execution_count": 15,
   "metadata": {},
   "outputs": [],
   "source": [
    "def to_metadata_file(df, prefix):\n",
    "    df[\"s3_path\"] = df[\"filenames\"]\n",
    "    df[\"labels\"] = df[\"labels\"].apply(lambda x: 0 if x==8 else 1)\n",
    "    return df[[\"row\", \"labels\", \"s3_path\"]].to_csv(\n",
    "        f\"{prefix}.lst\", sep=\"\\t\", index=False, header=False\n",
    "    )\n",
    "    \n",
    "to_metadata_file(df_train.copy(), \"train\")\n",
    "to_metadata_file(df_test.copy(), \"test\")"
   ]
  },
  {
   "cell_type": "markdown",
   "metadata": {},
   "source": [
    "We can also upload our manifest files:"
   ]
  },
  {
   "cell_type": "code",
   "execution_count": 16,
   "metadata": {},
   "outputs": [],
   "source": [
    "import boto3\n",
    "\n",
    "# Upload files\n",
    "boto3.Session().resource('s3').Bucket(\n",
    "    bucket).Object('train.lst').upload_file('./train.lst')\n",
    "boto3.Session().resource('s3').Bucket(\n",
    "    bucket).Object('test.lst').upload_file('./test.lst')"
   ]
  },
  {
   "cell_type": "markdown",
   "metadata": {},
   "source": [
    "Using the `bucket` and `region` info we can get the latest prebuilt container to run our training job, and define an output location on our s3 bucket for the model. Use the `image_uris` function from the SageMaker SDK to retrieve the latest `image-classification` image below:"
   ]
  },
  {
   "cell_type": "code",
   "execution_count": 4,
   "metadata": {},
   "outputs": [
    {
     "name": "stderr",
     "output_type": "stream",
     "text": [
      "Defaulting to the only supported framework/algorithm version: 1. Ignoring framework/algorithm version: latest.\n"
     ]
    }
   ],
   "source": [
    "# Use the image_uris function to retrieve the latest 'image-classification' image \n",
    "algo_image = sagemaker.image_uris.retrieve(framework='image-classification', version='latest', region=region)## TODO: fill in\n",
    "s3_output_location = f\"s3://{bucket}/models/image_model\""
   ]
  },
  {
   "cell_type": "markdown",
   "metadata": {},
   "source": [
    "We're ready to create an estimator! Create an estimator `img_classifier_model` that uses one instance of `ml.p3.2xlarge`. Ensure that y ou use the output location we defined above - we'll be referring to that later!"
   ]
  },
  {
   "cell_type": "code",
   "execution_count": 13,
   "metadata": {},
   "outputs": [],
   "source": [
    "img_classifier_model=sagemaker.estimator.Estimator(\n",
    "    ## TODO: define your estimator options    \n",
    "    image_uri=algo_image,\n",
    "    instance_type='ml.p3.2xlarge',\n",
    "    instance_count=1,\n",
    "    role=role,\n",
    "    volume_size=5,\n",
    "    output_path= s3_output_location,\n",
    "    sagemaker_session=sagemaker.Session()\n",
    "    )"
   ]
  },
  {
   "cell_type": "markdown",
   "metadata": {},
   "source": [
    "We can also set a few key hyperparameters and define the inputs for our model:"
   ]
  },
  {
   "cell_type": "code",
   "execution_count": 20,
   "metadata": {},
   "outputs": [],
   "source": [
    "img_classifier_model.set_hyperparameters(\n",
    "    image_shape=\"3,32,32\", # TODO: Fill in\n",
    "    num_classes=2, # TODO: Fill in\n",
    "    num_training_samples=1000 # TODO: fill in\n",
    ")"
   ]
  },
  {
   "cell_type": "markdown",
   "metadata": {},
   "source": [
    "The `image-classification` image uses four input channels with very specific input parameters. For convenience, we've provided them below:"
   ]
  },
  {
   "cell_type": "code",
   "execution_count": 17,
   "metadata": {},
   "outputs": [],
   "source": [
    "from sagemaker.debugger import Rule, rule_configs\n",
    "from sagemaker.session import TrainingInput\n",
    "model_inputs = {\n",
    "        \"train\": sagemaker.inputs.TrainingInput(\n",
    "            s3_data=f\"s3://{bucket}/train/\",\n",
    "            content_type=\"application/x-image\"\n",
    "        ),\n",
    "        \"validation\": sagemaker.inputs.TrainingInput(\n",
    "            s3_data=f\"s3://{bucket}/test/\",\n",
    "            content_type=\"application/x-image\"\n",
    "        ),\n",
    "        \"train_lst\": sagemaker.inputs.TrainingInput(\n",
    "            s3_data=f\"s3://{bucket}/train.lst\",\n",
    "            content_type=\"application/x-image\"\n",
    "        ),\n",
    "        \"validation_lst\": sagemaker.inputs.TrainingInput(\n",
    "            s3_data=f\"s3://{bucket}/test.lst\",\n",
    "            content_type=\"application/x-image\"\n",
    "        )\n",
    "}"
   ]
  },
  {
   "cell_type": "markdown",
   "metadata": {},
   "source": [
    "Great, now we can train the model using the model_inputs. In the cell below, call the `fit` method on our model,:"
   ]
  },
  {
   "cell_type": "code",
   "execution_count": null,
   "metadata": {},
   "outputs": [
    {
     "name": "stderr",
     "output_type": "stream",
     "text": [
      "INFO:sagemaker:Creating training-job with name: image-classification-2024-09-11-17-46-06-281\n"
     ]
    },
    {
     "name": "stdout",
     "output_type": "stream",
     "text": [
      "2024-09-11 17:46:06 Starting - Starting the training job...\n",
      "2024-09-11 17:46:07 Pending - Training job waiting for capacity......................................................................\u001b[34m[18:06:24] /opt/brazil-pkg-cache/packages/AIAlgorithmsMXNet/AIAlgorithmsMXNet-1.4.x_ecl_Cuda_11.1.x.441.0/AL2_x86_64/generic-flavor/src/src/operator/nn/./cudnn/./cudnn_algoreg-inl.h:97: Running performance tests to find the best convolution algorithm, this can take a while... (setting env variable MXNET_CUDNN_AUTOTUNE_DEFAULT to 0 to disable)\u001b[0m\n",
      "\u001b[34m[09/11/2024 18:06:29 INFO 140172134098752] Epoch[0] Batch [20]#011Speed: 122.136 samples/sec#011accuracy=0.568452\u001b[0m\n",
      "\u001b[34m[09/11/2024 18:06:30 INFO 140172134098752] Epoch[0] Train-accuracy=0.599798\u001b[0m\n",
      "\u001b[34m[09/11/2024 18:06:30 INFO 140172134098752] Epoch[0] Time cost=6.872\u001b[0m\n",
      "\u001b[34m[09/11/2024 18:06:31 INFO 140172134098752] Epoch[0] Validation-accuracy=0.526042\u001b[0m\n",
      "\u001b[34m[09/11/2024 18:06:31 INFO 140172134098752] Storing the best model with validation accuracy: 0.526042\u001b[0m\n",
      "\u001b[34m[09/11/2024 18:06:32 INFO 140172134098752] Saved checkpoint to \"/opt/ml/model/image-classification-0001.params\"\u001b[0m\n",
      "\u001b[34m[09/11/2024 18:06:35 INFO 140172134098752] Epoch[1] Batch [20]#011Speed: 185.482 samples/sec#011accuracy=0.617560\u001b[0m\n",
      "\u001b[34m[09/11/2024 18:06:37 INFO 140172134098752] Epoch[1] Train-accuracy=0.640121\u001b[0m\n",
      "\u001b[34m[09/11/2024 18:06:37 INFO 140172134098752] Epoch[1] Time cost=5.101\u001b[0m\n",
      "\u001b[34m[09/11/2024 18:06:37 INFO 140172134098752] Epoch[1] Validation-accuracy=0.515625\u001b[0m\n",
      "\u001b[34m[09/11/2024 18:06:41 INFO 140172134098752] Epoch[2] Batch [20]#011Speed: 188.792 samples/sec#011accuracy=0.720238\u001b[0m\n",
      "\u001b[34m[09/11/2024 18:06:43 INFO 140172134098752] Epoch[2] Train-accuracy=0.720766\u001b[0m\n",
      "\u001b[34m[09/11/2024 18:06:43 INFO 140172134098752] Epoch[2] Time cost=5.038\u001b[0m\n",
      "\u001b[34m[09/11/2024 18:06:43 INFO 140172134098752] Epoch[2] Validation-accuracy=0.604167\u001b[0m\n",
      "\u001b[34m[09/11/2024 18:06:44 INFO 140172134098752] Storing the best model with validation accuracy: 0.604167\u001b[0m\n",
      "\u001b[34m[09/11/2024 18:06:44 INFO 140172134098752] Saved checkpoint to \"/opt/ml/model/image-classification-0003.params\"\u001b[0m\n",
      "\u001b[34m[09/11/2024 18:06:47 INFO 140172134098752] Epoch[3] Batch [20]#011Speed: 190.214 samples/sec#011accuracy=0.742560\u001b[0m\n",
      "\u001b[34m[09/11/2024 18:06:49 INFO 140172134098752] Epoch[3] Train-accuracy=0.764113\u001b[0m\n",
      "\u001b[34m[09/11/2024 18:06:49 INFO 140172134098752] Epoch[3] Time cost=5.006\u001b[0m\n",
      "\u001b[34m[09/11/2024 18:06:49 INFO 140172134098752] Epoch[3] Validation-accuracy=0.799107\u001b[0m\n",
      "\u001b[34m[09/11/2024 18:06:50 INFO 140172134098752] Storing the best model with validation accuracy: 0.799107\u001b[0m\n",
      "\u001b[34m[09/11/2024 18:06:50 INFO 140172134098752] Saved checkpoint to \"/opt/ml/model/image-classification-0004.params\"\u001b[0m\n",
      "\u001b[34m[09/11/2024 18:06:54 INFO 140172134098752] Epoch[4] Batch [20]#011Speed: 190.115 samples/sec#011accuracy=0.775298\u001b[0m\n",
      "\u001b[34m[09/11/2024 18:06:55 INFO 140172134098752] Epoch[4] Train-accuracy=0.768145\u001b[0m\n",
      "\u001b[34m[09/11/2024 18:06:55 INFO 140172134098752] Epoch[4] Time cost=5.009\u001b[0m\n",
      "\u001b[34m[09/11/2024 18:06:56 INFO 140172134098752] Epoch[4] Validation-accuracy=0.828125\u001b[0m\n",
      "\u001b[34m[09/11/2024 18:06:56 INFO 140172134098752] Storing the best model with validation accuracy: 0.828125\u001b[0m\n",
      "\u001b[34m[09/11/2024 18:06:56 INFO 140172134098752] Saved checkpoint to \"/opt/ml/model/image-classification-0005.params\"\u001b[0m\n",
      "\u001b[34m[09/11/2024 18:07:00 INFO 140172134098752] Epoch[5] Batch [20]#011Speed: 191.053 samples/sec#011accuracy=0.794643\u001b[0m\n",
      "\u001b[34m[09/11/2024 18:07:01 INFO 140172134098752] Epoch[5] Train-accuracy=0.788306\u001b[0m\n",
      "\u001b[34m[09/11/2024 18:07:01 INFO 140172134098752] Epoch[5] Time cost=4.999\u001b[0m\n",
      "\u001b[34m[09/11/2024 18:07:02 INFO 140172134098752] Epoch[5] Validation-accuracy=0.744792\u001b[0m\n",
      "\u001b[34m[09/11/2024 18:07:06 INFO 140172134098752] Epoch[6] Batch [20]#011Speed: 189.116 samples/sec#011accuracy=0.816964\u001b[0m\n",
      "\u001b[34m[09/11/2024 18:07:07 INFO 140172134098752] Epoch[6] Train-accuracy=0.798387\u001b[0m\n",
      "\u001b[34m[09/11/2024 18:07:07 INFO 140172134098752] Epoch[6] Time cost=5.043\u001b[0m\n",
      "\u001b[34m[09/11/2024 18:07:08 INFO 140172134098752] Epoch[6] Validation-accuracy=0.828125\u001b[0m\n",
      "\u001b[34m[09/11/2024 18:07:12 INFO 140172134098752] Epoch[7] Batch [20]#011Speed: 189.065 samples/sec#011accuracy=0.816964\u001b[0m\n",
      "\u001b[34m[09/11/2024 18:07:13 INFO 140172134098752] Epoch[7] Train-accuracy=0.806452\u001b[0m\n",
      "\u001b[34m[09/11/2024 18:07:13 INFO 140172134098752] Epoch[7] Time cost=5.032\u001b[0m\n",
      "\u001b[34m[09/11/2024 18:07:14 INFO 140172134098752] Epoch[7] Validation-accuracy=0.772321\u001b[0m\n",
      "\u001b[34m[09/11/2024 18:07:18 INFO 140172134098752] Epoch[8] Batch [20]#011Speed: 190.928 samples/sec#011accuracy=0.824405\u001b[0m\n",
      "\u001b[34m[09/11/2024 18:07:19 INFO 140172134098752] Epoch[8] Train-accuracy=0.830645\u001b[0m\n",
      "\u001b[34m[09/11/2024 18:07:19 INFO 140172134098752] Epoch[8] Time cost=4.995\u001b[0m\n",
      "\u001b[34m[09/11/2024 18:07:20 INFO 140172134098752] Epoch[8] Validation-accuracy=0.791667\u001b[0m\n",
      "\u001b[34m[09/11/2024 18:07:24 INFO 140172134098752] Epoch[9] Batch [20]#011Speed: 190.680 samples/sec#011accuracy=0.825893\u001b[0m\n",
      "\u001b[34m[09/11/2024 18:07:25 INFO 140172134098752] Epoch[9] Train-accuracy=0.825605\u001b[0m\n",
      "\u001b[34m[09/11/2024 18:07:25 INFO 140172134098752] Epoch[9] Time cost=5.012\u001b[0m\n",
      "\u001b[34m[09/11/2024 18:07:26 INFO 140172134098752] Epoch[9] Validation-accuracy=0.843750\u001b[0m\n",
      "\u001b[34m[09/11/2024 18:07:26 INFO 140172134098752] Storing the best model with validation accuracy: 0.843750\u001b[0m\n",
      "\u001b[34m[09/11/2024 18:07:27 INFO 140172134098752] Saved checkpoint to \"/opt/ml/model/image-classification-0010.params\"\u001b[0m\n",
      "\u001b[34m[09/11/2024 18:07:30 INFO 140172134098752] Epoch[10] Batch [20]#011Speed: 190.783 samples/sec#011accuracy=0.818452\u001b[0m\n",
      "\u001b[34m[09/11/2024 18:07:32 INFO 140172134098752] Epoch[10] Train-accuracy=0.821573\u001b[0m\n",
      "\u001b[34m[09/11/2024 18:07:32 INFO 140172134098752] Epoch[10] Time cost=4.998\u001b[0m\n",
      "\u001b[34m[09/11/2024 18:07:32 INFO 140172134098752] Epoch[10] Validation-accuracy=0.802083\u001b[0m\n",
      "\u001b[34m[09/11/2024 18:07:36 INFO 140172134098752] Epoch[11] Batch [20]#011Speed: 191.911 samples/sec#011accuracy=0.839286\u001b[0m\n",
      "\u001b[34m[09/11/2024 18:07:37 INFO 140172134098752] Epoch[11] Train-accuracy=0.832661\u001b[0m\n",
      "\u001b[34m[09/11/2024 18:07:37 INFO 140172134098752] Epoch[11] Time cost=4.987\u001b[0m\n",
      "\u001b[34m[09/11/2024 18:07:38 INFO 140172134098752] Epoch[11] Validation-accuracy=0.821429\u001b[0m\n",
      "\u001b[34m[09/11/2024 18:07:42 INFO 140172134098752] Epoch[12] Batch [20]#011Speed: 190.223 samples/sec#011accuracy=0.860119\u001b[0m\n",
      "\u001b[34m[09/11/2024 18:07:43 INFO 140172134098752] Epoch[12] Train-accuracy=0.860887\u001b[0m\n",
      "\u001b[34m[09/11/2024 18:07:43 INFO 140172134098752] Epoch[12] Time cost=5.005\u001b[0m\n",
      "\u001b[34m[09/11/2024 18:07:44 INFO 140172134098752] Epoch[12] Validation-accuracy=0.822917\u001b[0m\n",
      "\u001b[34m[09/11/2024 18:07:48 INFO 140172134098752] Epoch[13] Batch [20]#011Speed: 191.759 samples/sec#011accuracy=0.849702\u001b[0m\n",
      "\u001b[34m[09/11/2024 18:07:49 INFO 140172134098752] Epoch[13] Train-accuracy=0.853831\u001b[0m\n",
      "\u001b[34m[09/11/2024 18:07:49 INFO 140172134098752] Epoch[13] Time cost=4.976\u001b[0m\n",
      "\u001b[34m[09/11/2024 18:07:50 INFO 140172134098752] Epoch[13] Validation-accuracy=0.869792\u001b[0m\n",
      "\u001b[34m[09/11/2024 18:07:50 INFO 140172134098752] Storing the best model with validation accuracy: 0.869792\u001b[0m\n",
      "\u001b[34m[09/11/2024 18:07:51 INFO 140172134098752] Saved checkpoint to \"/opt/ml/model/image-classification-0014.params\"\u001b[0m\n",
      "\u001b[34m[09/11/2024 18:07:54 INFO 140172134098752] Epoch[14] Batch [20]#011Speed: 190.220 samples/sec#011accuracy=0.876488\u001b[0m\n",
      "\u001b[34m[09/11/2024 18:07:56 INFO 140172134098752] Epoch[14] Train-accuracy=0.869960\u001b[0m\n",
      "\u001b[34m[09/11/2024 18:07:56 INFO 140172134098752] Epoch[14] Time cost=5.005\u001b[0m\n",
      "\u001b[34m[09/11/2024 18:07:56 INFO 140172134098752] Epoch[14] Validation-accuracy=0.812500\u001b[0m\n",
      "\u001b[34m[09/11/2024 18:08:00 INFO 140172134098752] Epoch[15] Batch [20]#011Speed: 187.721 samples/sec#011accuracy=0.895833\u001b[0m\n",
      "\u001b[34m[09/11/2024 18:08:02 INFO 140172134098752] Epoch[15] Train-accuracy=0.885081\u001b[0m\n",
      "\u001b[34m[09/11/2024 18:08:02 INFO 140172134098752] Epoch[15] Time cost=5.107\u001b[0m\n",
      "\u001b[34m[09/11/2024 18:08:02 INFO 140172134098752] Epoch[15] Validation-accuracy=0.812500\u001b[0m\n",
      "\u001b[34m[09/11/2024 18:08:06 INFO 140172134098752] Epoch[16] Batch [20]#011Speed: 187.264 samples/sec#011accuracy=0.900298\u001b[0m\n",
      "\u001b[34m[09/11/2024 18:08:08 INFO 140172134098752] Epoch[16] Train-accuracy=0.886089\u001b[0m\n",
      "\u001b[34m[09/11/2024 18:08:08 INFO 140172134098752] Epoch[16] Time cost=5.073\u001b[0m\n",
      "\u001b[34m[09/11/2024 18:08:08 INFO 140172134098752] Epoch[16] Validation-accuracy=0.848958\u001b[0m\n",
      "\u001b[34m[09/11/2024 18:08:12 INFO 140172134098752] Epoch[17] Batch [20]#011Speed: 189.570 samples/sec#011accuracy=0.912202\u001b[0m\n",
      "\u001b[34m[09/11/2024 18:08:14 INFO 140172134098752] Epoch[17] Train-accuracy=0.912298\u001b[0m\n",
      "\u001b[34m[09/11/2024 18:08:14 INFO 140172134098752] Epoch[17] Time cost=5.028\u001b[0m\n",
      "\u001b[34m[09/11/2024 18:08:14 INFO 140172134098752] Epoch[17] Validation-accuracy=0.854167\u001b[0m\n",
      "\u001b[34m[09/11/2024 18:08:18 INFO 140172134098752] Epoch[18] Batch [20]#011Speed: 189.780 samples/sec#011accuracy=0.882440\u001b[0m\n",
      "\u001b[34m[09/11/2024 18:08:20 INFO 140172134098752] Epoch[18] Train-accuracy=0.886089\u001b[0m\n",
      "\u001b[34m[09/11/2024 18:08:20 INFO 140172134098752] Epoch[18] Time cost=5.018\u001b[0m\n",
      "\u001b[34m[09/11/2024 18:08:20 INFO 140172134098752] Epoch[18] Validation-accuracy=0.822917\u001b[0m\n",
      "\u001b[34m[09/11/2024 18:08:24 INFO 140172134098752] Epoch[19] Batch [20]#011Speed: 190.638 samples/sec#011accuracy=0.925595\u001b[0m\n",
      "\u001b[34m[09/11/2024 18:08:26 INFO 140172134098752] Epoch[19] Train-accuracy=0.926411\u001b[0m\n",
      "\u001b[34m[09/11/2024 18:08:26 INFO 140172134098752] Epoch[19] Time cost=5.019\u001b[0m\n",
      "\u001b[34m[09/11/2024 18:08:26 INFO 140172134098752] Epoch[19] Validation-accuracy=0.821429\u001b[0m\n",
      "\u001b[34m[09/11/2024 18:08:31 INFO 140172134098752] Epoch[20] Batch [20]#011Speed: 159.314 samples/sec#011accuracy=0.921131\u001b[0m\n",
      "\u001b[34m[09/11/2024 18:08:33 INFO 140172134098752] Epoch[20] Train-accuracy=0.917339\u001b[0m\n",
      "\u001b[34m[09/11/2024 18:08:33 INFO 140172134098752] Epoch[20] Time cost=5.664\u001b[0m\n",
      "\u001b[34m[09/11/2024 18:08:34 INFO 140172134098752] Epoch[20] Validation-accuracy=0.833333\u001b[0m\n",
      "\u001b[34m[09/11/2024 18:08:37 INFO 140172134098752] Epoch[21] Batch [20]#011Speed: 190.317 samples/sec#011accuracy=0.943452\u001b[0m\n",
      "\u001b[34m[09/11/2024 18:08:39 INFO 140172134098752] Epoch[21] Train-accuracy=0.937500\u001b[0m\n",
      "\u001b[34m[09/11/2024 18:08:39 INFO 140172134098752] Epoch[21] Time cost=5.001\u001b[0m\n",
      "\u001b[34m[09/11/2024 18:08:39 INFO 140172134098752] Epoch[21] Validation-accuracy=0.718750\u001b[0m\n",
      "\u001b[34m[09/11/2024 18:08:43 INFO 140172134098752] Epoch[22] Batch [20]#011Speed: 186.670 samples/sec#011accuracy=0.876488\u001b[0m\n",
      "\u001b[34m[09/11/2024 18:08:45 INFO 140172134098752] Epoch[22] Train-accuracy=0.873992\u001b[0m\n",
      "\u001b[34m[09/11/2024 18:08:45 INFO 140172134098752] Epoch[22] Time cost=5.113\u001b[0m\n",
      "\u001b[34m[09/11/2024 18:08:46 INFO 140172134098752] Epoch[22] Validation-accuracy=0.828125\u001b[0m\n",
      "\u001b[34m[09/11/2024 18:08:50 INFO 140172134098752] Epoch[23] Batch [20]#011Speed: 186.605 samples/sec#011accuracy=0.958333\u001b[0m\n",
      "\u001b[34m[09/11/2024 18:08:51 INFO 140172134098752] Epoch[23] Train-accuracy=0.950605\u001b[0m\n",
      "\u001b[34m[09/11/2024 18:08:51 INFO 140172134098752] Epoch[23] Time cost=5.088\u001b[0m\n",
      "\u001b[34m[09/11/2024 18:08:52 INFO 140172134098752] Epoch[23] Validation-accuracy=0.803571\u001b[0m\n",
      "\u001b[34m[09/11/2024 18:08:56 INFO 140172134098752] Epoch[24] Batch [20]#011Speed: 189.060 samples/sec#011accuracy=0.947917\u001b[0m\n",
      "\u001b[34m[09/11/2024 18:08:57 INFO 140172134098752] Epoch[24] Train-accuracy=0.945565\u001b[0m\n",
      "\u001b[34m[09/11/2024 18:08:57 INFO 140172134098752] Epoch[24] Time cost=5.043\u001b[0m\n",
      "\u001b[34m[09/11/2024 18:08:58 INFO 140172134098752] Epoch[24] Validation-accuracy=0.838542\u001b[0m\n",
      "\u001b[34m[09/11/2024 18:09:02 INFO 140172134098752] Epoch[25] Batch [20]#011Speed: 189.746 samples/sec#011accuracy=0.952381\u001b[0m\n",
      "\u001b[34m[09/11/2024 18:09:03 INFO 140172134098752] Epoch[25] Train-accuracy=0.953629\u001b[0m\n",
      "\u001b[34m[09/11/2024 18:09:03 INFO 140172134098752] Epoch[25] Time cost=5.080\u001b[0m\n",
      "\u001b[34m[09/11/2024 18:09:04 INFO 140172134098752] Epoch[25] Validation-accuracy=0.781250\u001b[0m\n",
      "\u001b[34m[09/11/2024 18:09:08 INFO 140172134098752] Epoch[26] Batch [20]#011Speed: 192.066 samples/sec#011accuracy=0.915179\u001b[0m\n",
      "\u001b[34m[09/11/2024 18:09:09 INFO 140172134098752] Epoch[26] Train-accuracy=0.927419\u001b[0m\n",
      "\u001b[34m[09/11/2024 18:09:09 INFO 140172134098752] Epoch[26] Time cost=4.974\u001b[0m\n",
      "\u001b[34m[09/11/2024 18:09:10 INFO 140172134098752] Epoch[26] Validation-accuracy=0.869792\u001b[0m\n",
      "\u001b[34m[09/11/2024 18:09:13 INFO 140172134098752] Epoch[27] Batch [20]#011Speed: 190.085 samples/sec#011accuracy=0.965774\u001b[0m\n",
      "\u001b[34m[09/11/2024 18:09:15 INFO 140172134098752] Epoch[27] Train-accuracy=0.953629\u001b[0m\n",
      "\u001b[34m[09/11/2024 18:09:15 INFO 140172134098752] Epoch[27] Time cost=5.018\u001b[0m\n",
      "\u001b[34m[09/11/2024 18:09:16 INFO 140172134098752] Epoch[27] Validation-accuracy=0.861607\u001b[0m\n",
      "\n",
      "2024-09-11 18:09:32 Uploading - Uploading generated training model\u001b[34m[09/11/2024 18:09:20 INFO 140172134098752] Epoch[28] Batch [20]#011Speed: 189.009 samples/sec#011accuracy=0.979167\u001b[0m\n",
      "\u001b[34m[09/11/2024 18:09:21 INFO 140172134098752] Epoch[28] Train-accuracy=0.973790\u001b[0m\n",
      "\u001b[34m[09/11/2024 18:09:21 INFO 140172134098752] Epoch[28] Time cost=5.041\u001b[0m\n",
      "\u001b[34m[09/11/2024 18:09:22 INFO 140172134098752] Epoch[28] Validation-accuracy=0.864583\u001b[0m\n",
      "\u001b[34m[09/11/2024 18:09:25 INFO 140172134098752] Epoch[29] Batch [20]#011Speed: 190.218 samples/sec#011accuracy=0.964286\u001b[0m\n",
      "\u001b[34m[09/11/2024 18:09:27 INFO 140172134098752] Epoch[29] Train-accuracy=0.965726\u001b[0m\n",
      "\u001b[34m[09/11/2024 18:09:27 INFO 140172134098752] Epoch[29] Time cost=5.012\u001b[0m\n",
      "\u001b[34m[09/11/2024 18:09:28 INFO 140172134098752] Epoch[29] Validation-accuracy=0.833333\u001b[0m\n",
      "\n",
      "2024-09-11 18:09:51 Completed - Training job completed\n",
      "Training seconds: 497\n",
      "Billable seconds: 497\n"
     ]
    }
   ],
   "source": [
    "## TODO: train your model\n",
    "img_classifier_model.fit({'train': model_inputs['train'], 'train_lst':model_inputs['train_lst'], 'validation':model_inputs['validation'], 'validation_lst':model_inputs['validation_lst']})"
   ]
  },
  {
   "cell_type": "markdown",
   "metadata": {},
   "source": [
    "If all goes well, you'll end up with a model topping out above `.8` validation accuracy. With only 1000 training samples in the CIFAR dataset, that's pretty good. We could definitely pursue data augmentation & gathering more samples to help us improve further, but for now let's proceed to deploy our model.\n",
    "\n",
    "### Getting ready to deploy\n",
    "\n",
    "To begin with, let's configure Model Monitor to track our deployment. We'll define a `DataCaptureConfig` below:"
   ]
  },
  {
   "cell_type": "code",
   "execution_count": 22,
   "metadata": {},
   "outputs": [],
   "source": [
    "from sagemaker.model_monitor import DataCaptureConfig\n",
    "\n",
    "data_capture_config = DataCaptureConfig(\n",
    "    ## TODO: Set config options\n",
    "    enable_capture=True,\n",
    "    sampling_percentage=100,\n",
    "    destination_s3_uri=f\"s3://{bucket}/data_capture\"\n",
    ")"
   ]
  },
  {
   "cell_type": "markdown",
   "metadata": {},
   "source": [
    "Note the `destination_s3_uri` parameter: At the end of the project, we can explore the `data_capture` directory in S3 to find crucial data about the inputs and outputs Model Monitor has observed on our model endpoint over time.\n",
    "\n",
    "With that done, deploy your model on a single `ml.m5.xlarge` instance with the data capture config attached:"
   ]
  },
  {
   "cell_type": "code",
   "execution_count": 23,
   "metadata": {},
   "outputs": [
    {
     "name": "stderr",
     "output_type": "stream",
     "text": [
      "INFO:sagemaker:Creating model with name: image-classification-2024-09-11-18-14-17-093\n",
      "INFO:sagemaker:Creating endpoint-config with name image-classification-2024-09-11-18-14-17-093\n",
      "INFO:sagemaker:Creating endpoint with name image-classification-2024-09-11-18-14-17-093\n"
     ]
    },
    {
     "name": "stdout",
     "output_type": "stream",
     "text": [
      "------------!image-classification-2024-09-11-18-14-17-093\n"
     ]
    }
   ],
   "source": [
    "deployment = img_classifier_model.deploy(\n",
    "    ## TODO: fill in deployment options\n",
    "    initial_instance_count=1, \n",
    "    instance_type='ml.m5.xlarge',\n",
    "    data_capture_config=data_capture_config\n",
    "    )\n",
    "\n",
    "endpoint = deployment.endpoint_name\n",
    "print(endpoint)"
   ]
  },
  {
   "cell_type": "markdown",
   "metadata": {},
   "source": [
    "Note the endpoint name for later as well.\n",
    "\n",
    "Next, instantiate a Predictor:"
   ]
  },
  {
   "cell_type": "code",
   "execution_count": 3,
   "metadata": {
    "tags": []
   },
   "outputs": [],
   "source": [
    "endpoint=\"image-classification-2024-09-11-18-14-17-093\""
   ]
  },
  {
   "cell_type": "code",
   "execution_count": 4,
   "metadata": {},
   "outputs": [],
   "source": [
    "from sagemaker.predictor import Predictor\n",
    "\n",
    "predictor = Predictor(endpoint_name=endpoint )## TODO: fill in"
   ]
  },
  {
   "cell_type": "markdown",
   "metadata": {},
   "source": [
    "In the code snippet below we are going to prepare one of your saved images for prediction. Use the predictor to process the `payload`."
   ]
  },
  {
   "cell_type": "code",
   "execution_count": 55,
   "metadata": {},
   "outputs": [],
   "source": [
    "from sagemaker.serializers import IdentitySerializer\n",
    "import base64\n",
    "\n",
    "predictor.serializer = IdentitySerializer(\"image/png\")\n",
    "with open(\"./test/bicycle_s_001789.png\", \"rb\") as f:\n",
    "    payload = f.read()\n",
    "\n",
    "    \n",
    "inference = predictor.predict(payload)## TODO: Process the payload with your predictor"
   ]
  },
  {
   "cell_type": "markdown",
   "metadata": {},
   "source": [
    "Your `inference` object is an array of two values, the predicted probability value for each of your classes (bicycle and motorcycle respectively.) So, for example, a value of `b'[0.91, 0.09]'` indicates the probability of being a bike is 91% and being a motorcycle is 9%."
   ]
  },
  {
   "cell_type": "code",
   "execution_count": 12,
   "metadata": {},
   "outputs": [
    {
     "name": "stdout",
     "output_type": "stream",
     "text": [
      "b'[0.9471197128295898, 0.05288032814860344]'\n"
     ]
    }
   ],
   "source": [
    "print(inference)"
   ]
  },
  {
   "cell_type": "markdown",
   "metadata": {},
   "source": [
    "### Draft Lambdas and Step Function Workflow\n",
    "\n",
    "Your operations team uses Step Functions to orchestrate serverless workflows. One of the nice things about Step Functions is that [workflows can call other workflows](https://docs.aws.amazon.com/step-functions/latest/dg/connect-stepfunctions.html), so the team can easily plug your workflow into the broader production architecture for Scones Unlimited.\n",
    "\n",
    "In this next stage you're going to write and deploy three Lambda functions, and then use the Step Functions visual editor to chain them together! Our functions are going to work with a simple data object:\n",
    "\n",
    "```python\n",
    "{\n",
    "    \"inferences\": [], # Output of predictor.predict\n",
    "    \"s3_key\": \"\", # Source data S3 key\n",
    "    \"s3_bucket\": \"\", # Source data S3 bucket\n",
    "    \"image_data\": \"\"  # base64 encoded string containing the image data\n",
    "}\n",
    "```\n",
    "\n",
    "A good test object that you can use for Lambda tests and Step Function executions, throughout the next section, might look like this:\n",
    "\n",
    "```python\n",
    "{\n",
    "  \"image_data\": \"\",\n",
    "  \"s3_bucket\": MY_BUCKET_NAME, # Fill in with your bucket\n",
    "  \"s3_key\": \"test/bicycle_s_000513.png\"\n",
    "}\n",
    "```\n",
    "\n",
    "Using these fields, your functions can read and write the necessary data to execute your workflow. Let's start with the first function. Your first Lambda function will copy an object from S3, base64 encode it, and then return it to the step function as `image_data` in an event.\n",
    "\n",
    "Go to the Lambda dashboard and create a new Lambda function with a descriptive name like \"serializeImageData\" and select thr 'Python 3.8' runtime. Add the same permissions as the SageMaker role you created earlier. (Reminder: you do this in the Configuration tab under \"Permissions\"). Once you're ready, use the starter code below to craft your Lambda handler:\n",
    "\n",
    "```python\n",
    "import json\n",
    "import boto3\n",
    "import base64\n",
    "\n",
    "s3 = boto3.client('s3')\n",
    "\n",
    "def lambda_handler(event, context):\n",
    "    \"\"\"A function to serialize target data from S3\"\"\"\n",
    "    \n",
    "    # Get the s3 address from the Step Function event input\n",
    "    key = ## TODO: fill in\n",
    "    bucket = ## TODO: fill in\n",
    "    \n",
    "    # Download the data from s3 to /tmp/image.png\n",
    "    ## TODO: fill in\n",
    "    \n",
    "    # We read the data from a file\n",
    "    with open(\"/tmp/image.png\", \"rb\") as f:\n",
    "        image_data = base64.b64encode(f.read())\n",
    "\n",
    "    # Pass the data back to the Step Function\n",
    "    print(\"Event:\", event.keys())\n",
    "    return {\n",
    "        'statusCode': 200,\n",
    "        'body': {\n",
    "            \"image_data\": image_data,\n",
    "            \"s3_bucket\": bucket,\n",
    "            \"s3_key\": key,\n",
    "            \"inferences\": []\n",
    "        }\n",
    "    }\n",
    "```\n",
    "\n",
    "The next function is responsible for the classification part - we're going to take the image output from the previous function, decode it, and then pass inferences back to the the Step Function.\n",
    "\n",
    "Because this Lambda will have runtime dependencies (i.e. the SageMaker SDK) you'll need to package them in your function. *Key reading:* https://docs.aws.amazon.com/lambda/latest/dg/python-package-create.html#python-package-create-with-dependency\n",
    "\n",
    "Create a new Lambda function with the same rights and a descriptive name, then fill in the starter code below for your classifier Lambda.\n",
    "\n",
    "```python\n",
    "import json\n",
    "import sagemaker\n",
    "import base64\n",
    "from sagemaker.serializers import IdentitySerializer\n",
    "\n",
    "# Fill this in with the name of your deployed model\n",
    "ENDPOINT = ## TODO: fill in\n",
    "\n",
    "def lambda_handler(event, context):\n",
    "\n",
    "    # Decode the image data\n",
    "    image = base64.b64decode(## TODO: fill in)\n",
    "\n",
    "    # Instantiate a Predictor\n",
    "    predictor = ## TODO: fill in\n",
    "\n",
    "    # For this model the IdentitySerializer needs to be \"image/png\"\n",
    "    predictor.serializer = IdentitySerializer(\"image/png\")\n",
    "    \n",
    "    # Make a prediction:\n",
    "    inferences = ## TODO: fill in\n",
    "    \n",
    "    # We return the data back to the Step Function    \n",
    "    event[\"inferences\"] = inferences.decode('utf-8')\n",
    "    return {\n",
    "        'statusCode': 200,\n",
    "        'body': json.dumps(event)\n",
    "    }\n",
    "```\n",
    "\n",
    "Finally, we need to filter low-confidence inferences. Define a threshold between 1.00 and 0.000 for your model: what is reasonble for you? If the model predicts at `.70` for it's highest confidence label, do we want to pass that inference along to downstream systems? Make one last Lambda function and tee up the same permissions:\n",
    "\n",
    "```python\n",
    "import json\n",
    "\n",
    "\n",
    "THRESHOLD = .93\n",
    "\n",
    "\n",
    "def lambda_handler(event, context):\n",
    "    \n",
    "    # Grab the inferences from the event\n",
    "    inferences = ## TODO: fill in\n",
    "    \n",
    "    # Check if any values in our inferences are above THRESHOLD\n",
    "    meets_threshold = ## TODO: fill in\n",
    "    \n",
    "    # If our threshold is met, pass our data back out of the\n",
    "    # Step Function, else, end the Step Function with an error\n",
    "    if meets_threshold:\n",
    "        pass\n",
    "    else:\n",
    "        raise(\"THRESHOLD_CONFIDENCE_NOT_MET\")\n",
    "\n",
    "    return {\n",
    "        'statusCode': 200,\n",
    "        'body': json.dumps(event)\n",
    "    }\n",
    "```\n",
    "Once you have tested the lambda functions, save the code for each lambda function in a python script called 'lambda.py'.\n",
    "\n",
    "With your lambdas in place, you can use the Step Functions visual editor to construct a workflow that chains them together. In the Step Functions console you'll have the option to author a Standard step function *Visually*.\n",
    "\n",
    "When the visual editor opens, you'll have many options to add transitions in your workflow. We're going to keep it simple and have just one: to invoke Lambda functions. Add three of them chained together. For each one, you'll be able to select the Lambda functions you just created in the proper order, filter inputs and outputs, and give them descriptive names.\n",
    "\n",
    "Make sure that you:\n",
    "\n",
    "1. Are properly filtering the inputs and outputs of your invokations (e.g. `$.body`)\n",
    "2. Take care to remove the error handling from the last function - it's supposed to \"fail loudly\" for your operations colleagues!\n",
    "\n",
    "Take a screenshot of your working step function in action and export the step function as JSON for your submission package."
   ]
  },
  {
   "cell_type": "markdown",
   "metadata": {},
   "source": [
    "\n",
    "Great! Now you can use the files in `./test` as test files for our workflow. Depending on our threshold, our workflow should reliably pass predictions about images from `./test` on to downstream systems, while erroring out for inferences below our confidence threshold!\n",
    "\n",
    "### Testing and Evaluation\n",
    "\n",
    "Do several step function invokations using data from the `./test` folder. This process should give you confidence that the workflow both *succeeds* AND *fails* as expected. In addition, SageMaker Model Monitor will generate recordings of your data and inferences which we can visualize.\n",
    "\n",
    "Here's a function that can help you generate test inputs for your invokations:"
   ]
  },
  {
   "cell_type": "code",
   "execution_count": 4,
   "metadata": {},
   "outputs": [
    {
     "data": {
      "text/plain": [
       "'{\"image_data\": \"\", \"s3_bucket\": \"sagemaker-us-east-1-925477085739\", \"s3_key\": \"test/safety_bicycle_s_001286.png\"}'"
      ]
     },
     "execution_count": 4,
     "metadata": {},
     "output_type": "execute_result"
    }
   ],
   "source": [
    "import random\n",
    "import boto3\n",
    "import json\n",
    "\n",
    "\n",
    "def generate_test_case():\n",
    "    # Setup s3 in boto3\n",
    "    s3 = boto3.resource('s3')\n",
    "    \n",
    "    # Randomly pick from sfn or test folders in our bucket\n",
    "    objects = s3.Bucket(bucket).objects.filter(Prefix=\"test\")\n",
    "    \n",
    "    # Grab any random object key from that folder!\n",
    "    obj = random.choice([x.key for x in objects])\n",
    "    \n",
    "    return json.dumps({\n",
    "        \"image_data\": \"\",\n",
    "        \"s3_bucket\": bucket,\n",
    "        \"s3_key\": obj\n",
    "    })\n",
    "l=generate_test_case()\n",
    "l"
   ]
  },
  {
   "cell_type": "markdown",
   "metadata": {},
   "source": [
    "In the Step Function dashboard for your new function, you can create new executions and copy in the generated test cases. Do several executions so that you can generate data you can evaluate and visualize.\n",
    "\n",
    "Once you've done several executions, let's visualize the record of our inferences. Pull in the JSONLines data from your inferences like so:"
   ]
  },
  {
   "cell_type": "code",
   "execution_count": 30,
   "metadata": {},
   "outputs": [
    {
     "data": {
      "text/plain": [
       "['captured_data/11/18/27-50-403-01b316e2-5971-49b0-87f4-20b8fa6fd560.jsonl',\n",
       " 'captured_data/16/07/30-00-706-51534563-16fd-4b14-aef2-5a169137fc8d.jsonl',\n",
       " 'captured_data/16/09/08-43-587-3d59c2e7-a7cc-41c5-b249-e524daf57215.jsonl',\n",
       " 'captured_data/16/09/13-10-058-85065b79-fb01-4e84-a18a-c06d66774b0e.jsonl',\n",
       " 'captured_data/16/09/14-24-389-89f2020f-a69f-4589-a086-cb5ad1e28366.jsonl',\n",
       " 'captured_data/16/15/15-45-296-6ba84236-e119-42ba-b828-447aec485dfb.jsonl',\n",
       " 'captured_data/16/15/55-55-812-76620b38-c183-4ab6-b29c-b7a623567696.jsonl',\n",
       " 'captured_data/16/17/25-03-138-e6637074-fdab-409d-87b6-69fea64f873f.jsonl',\n",
       " 'captured_data/16/17/44-24-653-cf0bfaf4-1c79-4a98-babc-29be63947e95.jsonl',\n",
       " 'captured_data/16/17/57-54-614-a2f065f6-a166-4d01-b0ad-9e041485fe03.jsonl',\n",
       " 'captured_data/16/18/02-00-083-cef2502b-b5ae-4275-b506-53fc958d19f9.jsonl',\n",
       " 'captured_data/16/18/03-26-178-cffc864f-f131-475e-9ee3-f0df1f41bc1e.jsonl',\n",
       " 'captured_data/16/18/07-25-469-b6583c23-9122-470f-b211-45655056ff76.jsonl',\n",
       " 'captured_data/16/18/13-34-333-a746ebdb-cef0-4da8-8888-f3aa2b2e8a91.jsonl']"
      ]
     },
     "execution_count": 30,
     "metadata": {},
     "output_type": "execute_result"
    }
   ],
   "source": [
    "from sagemaker.s3 import S3Downloader\n",
    "\n",
    "# In S3 your data will be saved to a datetime-aware path\n",
    "# Find a path related to a datetime you're interested in\n",
    "data_path = \"s3://sagemaker-us-east-1-925477085739/data_capture/image-classification-2024-09-11-18-14-17-093/AllTraffic/2024/09\"## TODO: fill in the path to your captured data\n",
    "\n",
    "S3Downloader.download(data_path, \"captured_data\")\n",
    "\n",
    "# Feel free to repeat this multiple times and pull in more data"
   ]
  },
  {
   "cell_type": "markdown",
   "metadata": {},
   "source": [
    "The data are in JSONLines format, where multiple valid JSON objects are stacked on top of eachother in a single `jsonl` file. We'll import an open-source library, `jsonlines` that was purpose built for parsing this format."
   ]
  },
  {
   "cell_type": "code",
   "execution_count": 2,
   "metadata": {},
   "outputs": [
    {
     "name": "stdout",
     "output_type": "stream",
     "text": [
      "Requirement already satisfied: jsonlines in /opt/conda/lib/python3.10/site-packages (4.0.0)\n",
      "Requirement already satisfied: attrs>=19.2.0 in /opt/conda/lib/python3.10/site-packages (from jsonlines) (23.2.0)\n",
      "\u001b[33mWARNING: Running pip as the 'root' user can result in broken permissions and conflicting behaviour with the system package manager. It is recommended to use a virtual environment instead: https://pip.pypa.io/warnings/venv\u001b[0m\u001b[33m\n",
      "\u001b[0m"
     ]
    }
   ],
   "source": [
    "!pip install jsonlines\n",
    "import jsonlines"
   ]
  },
  {
   "cell_type": "markdown",
   "metadata": {},
   "source": [
    "Now we can extract the data from each of the source files:"
   ]
  },
  {
   "cell_type": "code",
   "execution_count": 3,
   "metadata": {
    "tags": []
   },
   "outputs": [],
   "source": [
    "import os\n",
    "\n",
    "\n",
    "# Dump all the data into an array\n",
    "json_data = []\n",
    "\n",
    "# List the file names we downloaded\n",
    "for root, dirs, files in os.walk(\"./captured_data\"):\n",
    "    for file in files:\n",
    "        with jsonlines.open(os.path.join(root, file)) as f:\n",
    "            json_data.append(f.read())"
   ]
  },
  {
   "cell_type": "markdown",
   "metadata": {},
   "source": [
    "The data should now be a list of dictionaries, with significant nesting. We'll give you an example of some code that grabs data out of the objects and visualizes it:"
   ]
  },
  {
   "cell_type": "code",
   "execution_count": 4,
   "metadata": {},
   "outputs": [
    {
     "data": {
      "text/plain": [
       "([0.9134873151779175, 0.08651270717382431], '2024-09-16T18:07:25Z')"
      ]
     },
     "execution_count": 4,
     "metadata": {},
     "output_type": "execute_result"
    }
   ],
   "source": [
    "# Define how we'll get our data\n",
    "import json\n",
    "def simple_getter(obj):\n",
    "    inferences = obj[\"captureData\"][\"endpointOutput\"][\"data\"]\n",
    "    timestamp = obj[\"eventMetadata\"][\"inferenceTime\"]\n",
    "    return json.loads(inferences), timestamp\n",
    "\n",
    "simple_getter(json_data[0])\n"
   ]
  },
  {
   "cell_type": "markdown",
   "metadata": {},
   "source": [
    "Finally, here's an example of a visualization you can build with this data. In this last part, you will take some time and build your own - the captured data has the input images, the resulting inferences, and the timestamps."
   ]
  },
  {
   "cell_type": "code",
   "execution_count": 5,
   "metadata": {},
   "outputs": [
    {
     "data": {
      "image/png": "[encoded data removed]",
      "text/plain": [
       "<Figure size 640x480 with 1 Axes>"
      ]
     },
     "metadata": {},
     "output_type": "display_data"
    }
   ],
   "source": [
    "# Populate the data for the x and y axis\n",
    "import matplotlib.pyplot as plt\n",
    "x = []\n",
    "y = []\n",
    "for obj in json_data:\n",
    "    inference, timestamp = simple_getter(obj)\n",
    "    \n",
    "    y.append(max(inference))\n",
    "    x.append(timestamp)\n",
    "\n",
    "# Todo: here is an visualization example, take some time to build another visual that helps monitor the result\n",
    "# Plot the data\n",
    "plt.scatter(x, y, c=['r' if k<.94 else 'b' for k in y ])\n",
    "plt.axhline(y=0.94, color='g', linestyle='--')\n",
    "plt.ylim(bottom=.88)\n",
    "\n",
    "# Add labels\n",
    "plt.ylabel(\"Confidence\")\n",
    "plt.suptitle(\"Observed Recent Inferences\", size=14)\n",
    "plt.title(\"Pictured with confidence threshold for production use\", size=10)\n",
    "\n",
    "# Give it some pizzaz!\n",
    "plt.style.use(\"Solarize_Light2\")\n",
    "plt.gcf().autofmt_xdate()"
   ]
  },
  {
   "cell_type": "markdown",
   "metadata": {
    "tags": []
   },
   "source": [
    "### Todo: build your own visualization\n"
   ]
  },
  {
   "cell_type": "code",
   "execution_count": 22,
   "metadata": {
    "tags": []
   },
   "outputs": [
    {
     "data": {
      "image/png": "[encoded data removed]",
      "text/plain": [
       "<Figure size 640x480 with 1 Axes>"
      ]
     },
     "metadata": {},
     "output_type": "display_data"
    }
   ],
   "source": [
    "import matplotlib.pyplot as plt\n",
    "from datetime import datetime, timezone\n",
    "\n",
    "# Function to handle potential errors during data extraction\n",
    "def safe_getter(obj):\n",
    "    try:\n",
    "        inference, timestamp = simple_getter(obj)\n",
    "\n",
    "        return inference,timestamp\n",
    "    except (KeyError, ValueError):\n",
    "        # Handle cases where inference or timestamp is missing or invalid\n",
    "        return None, None\n",
    "\n",
    "# Populate the data for the x and y axis\n",
    "x = []\n",
    "y = []\n",
    "for obj in json_data:\n",
    "    inference, timestamp = safe_getter(obj)  # Use safe_getter for robust data extraction\n",
    "\n",
    "    if inference is not None and timestamp is not None:\n",
    "        y.append(max(inference))\n",
    "        x.append(timestamp)\n",
    "\n",
    "\n",
    "#Line plot with color based on confidence threshold\n",
    "plt.scatter(x, y, marker='o', linestyle='-', c=['r' if k < 0.93 else 'g' for k in y])\n",
    "plt.axhline(y=0.93, color='g', linestyle='--')\n",
    "plt.ylim(bottom=.88)\n",
    "\n",
    "#Shaded area above the confidence threshold\n",
    "confidence_threshold = 0.93\n",
    "mask = [y_val >= confidence_threshold for y_val in y]\n",
    "\n",
    "plt.fill_between(x, y, confidence_threshold, where=mask, facecolor='green', alpha=0.2)\n",
    "\n",
    "#Highlight timestamps with low confidence (optional)\n",
    "low_confidence_threshold = 0.85\n",
    "low_confidence_indices = [i for i, value in enumerate(y) if value < low_confidence_threshold]\n",
    "for idx in low_confidence_indices:\n",
    "    plt.scatter(x[idx], y[idx], s=80, marker='o', edgecolors='red', linewidths=2, alpha=0.7)\n",
    "\n",
    "# Add labels and title\n",
    "plt.ylabel(\"Confidence\")\n",
    "plt.suptitle(\"Observed Recent Inferences\", size=14)\n",
    "plt.title(\"Pictured with confidence threshold for production use\", size=10)\n",
    "\n",
    "# Customize for readability\n",
    "plt.grid(True, linestyle='--', linewidth=0.5, alpha=0.6)\n",
    "plt.gcf().autofmt_xdate(rotation=45)  \n",
    "plt.tight_layout()  \n"
   ]
  },
  {
   "cell_type": "markdown",
   "metadata": {},
   "source": [
    "### Congratulations!\n",
    "\n",
    "You've reached the end of the project. In this project you created an event-drivent ML workflow that can be incorporated into the Scones Unlimited production architecture. You used the SageMaker Estimator API to deploy your SageMaker Model and Endpoint, and you used AWS Lambda and Step Functions to orchestrate your ML workflow. Using SageMaker Model Monitor, you instrumented and observed your Endpoint, and at the end of the project you built a visualization to help stakeholders understand the performance of the Endpoint over time. If you're up for it, you can even go further with these stretch goals:\n",
    "\n",
    "* Extend your workflow to incorporate more classes: the CIFAR dataset includes other vehicles that Scones Unlimited can identify with this model.\n",
    "* Modify your event driven workflow: can you rewrite your Lambda functions so that the workflow can process multiple image inputs in parallel? Can the Step Function \"fan out\" to accomodate this new workflow?\n",
    "* Consider the test data generator we provided for you. Can we use it to create a \"dummy data\" generator, to simulate a continuous stream of input data? Or a big paralell load of data?\n",
    "* What if we want to get notified every time our step function errors out? Can we use the Step Functions visual editor in conjunction with a service like SNS to accomplish this? Try it out!\n",
    "\n",
    "\n"
   ]
  }
 ],
 "metadata": {
  "availableInstances": [
   {
    "_defaultOrder": 0,
    "_isFastLaunch": true,
    "category": "General purpose",
    "gpuNum": 0,
    "hideHardwareSpecs": false,
    "memoryGiB": 4,
    "name": "ml.t3.medium",
    "vcpuNum": 2
   },
   {
    "_defaultOrder": 1,
    "_isFastLaunch": false,
    "category": "General purpose",
    "gpuNum": 0,
    "hideHardwareSpecs": false,
    "memoryGiB": 8,
    "name": "ml.t3.large",
    "vcpuNum": 2
   },
   {
    "_defaultOrder": 2,
    "_isFastLaunch": false,
    "category": "General purpose",
    "gpuNum": 0,
    "hideHardwareSpecs": false,
    "memoryGiB": 16,
    "name": "ml.t3.xlarge",
    "vcpuNum": 4
   },
   {
    "_defaultOrder": 3,
    "_isFastLaunch": false,
    "category": "General purpose",
    "gpuNum": 0,
    "hideHardwareSpecs": false,
    "memoryGiB": 32,
    "name": "ml.t3.2xlarge",
    "vcpuNum": 8
   },
   {
    "_defaultOrder": 4,
    "_isFastLaunch": true,
    "category": "General purpose",
    "gpuNum": 0,
    "hideHardwareSpecs": false,
    "memoryGiB": 8,
    "name": "ml.m5.large",
    "vcpuNum": 2
   },
   {
    "_defaultOrder": 5,
    "_isFastLaunch": false,
    "category": "General purpose",
    "gpuNum": 0,
    "hideHardwareSpecs": false,
    "memoryGiB": 16,
    "name": "ml.m5.xlarge",
    "vcpuNum": 4
   },
   {
    "_defaultOrder": 6,
    "_isFastLaunch": false,
    "category": "General purpose",
    "gpuNum": 0,
    "hideHardwareSpecs": false,
    "memoryGiB": 32,
    "name": "ml.m5.2xlarge",
    "vcpuNum": 8
   },
   {
    "_defaultOrder": 7,
    "_isFastLaunch": false,
    "category": "General purpose",
    "gpuNum": 0,
    "hideHardwareSpecs": false,
    "memoryGiB": 64,
    "name": "ml.m5.4xlarge",
    "vcpuNum": 16
   },
   {
    "_defaultOrder": 8,
    "_isFastLaunch": false,
    "category": "General purpose",
    "gpuNum": 0,
    "hideHardwareSpecs": false,
    "memoryGiB": 128,
    "name": "ml.m5.8xlarge",
    "vcpuNum": 32
   },
   {
    "_defaultOrder": 9,
    "_isFastLaunch": false,
    "category": "General purpose",
    "gpuNum": 0,
    "hideHardwareSpecs": false,
    "memoryGiB": 192,
    "name": "ml.m5.12xlarge",
    "vcpuNum": 48
   },
   {
    "_defaultOrder": 10,
    "_isFastLaunch": false,
    "category": "General purpose",
    "gpuNum": 0,
    "hideHardwareSpecs": false,
    "memoryGiB": 256,
    "name": "ml.m5.16xlarge",
    "vcpuNum": 64
   },
   {
    "_defaultOrder": 11,
    "_isFastLaunch": false,
    "category": "General purpose",
    "gpuNum": 0,
    "hideHardwareSpecs": false,
    "memoryGiB": 384,
    "name": "ml.m5.24xlarge",
    "vcpuNum": 96
   },
   {
    "_defaultOrder": 12,
    "_isFastLaunch": false,
    "category": "General purpose",
    "gpuNum": 0,
    "hideHardwareSpecs": false,
    "memoryGiB": 8,
    "name": "ml.m5d.large",
    "vcpuNum": 2
   },
   {
    "_defaultOrder": 13,
    "_isFastLaunch": false,
    "category": "General purpose",
    "gpuNum": 0,
    "hideHardwareSpecs": false,
    "memoryGiB": 16,
    "name": "ml.m5d.xlarge",
    "vcpuNum": 4
   },
   {
    "_defaultOrder": 14,
    "_isFastLaunch": false,
    "category": "General purpose",
    "gpuNum": 0,
    "hideHardwareSpecs": false,
    "memoryGiB": 32,
    "name": "ml.m5d.2xlarge",
    "vcpuNum": 8
   },
   {
    "_defaultOrder": 15,
    "_isFastLaunch": false,
    "category": "General purpose",
    "gpuNum": 0,
    "hideHardwareSpecs": false,
    "memoryGiB": 64,
    "name": "ml.m5d.4xlarge",
    "vcpuNum": 16
   },
   {
    "_defaultOrder": 16,
    "_isFastLaunch": false,
    "category": "General purpose",
    "gpuNum": 0,
    "hideHardwareSpecs": false,
    "memoryGiB": 128,
    "name": "ml.m5d.8xlarge",
    "vcpuNum": 32
   },
   {
    "_defaultOrder": 17,
    "_isFastLaunch": false,
    "category": "General purpose",
    "gpuNum": 0,
    "hideHardwareSpecs": false,
    "memoryGiB": 192,
    "name": "ml.m5d.12xlarge",
    "vcpuNum": 48
   },
   {
    "_defaultOrder": 18,
    "_isFastLaunch": false,
    "category": "General purpose",
    "gpuNum": 0,
    "hideHardwareSpecs": false,
    "memoryGiB": 256,
    "name": "ml.m5d.16xlarge",
    "vcpuNum": 64
   },
   {
    "_defaultOrder": 19,
    "_isFastLaunch": false,
    "category": "General purpose",
    "gpuNum": 0,
    "hideHardwareSpecs": false,
    "memoryGiB": 384,
    "name": "ml.m5d.24xlarge",
    "vcpuNum": 96
   },
   {
    "_defaultOrder": 20,
    "_isFastLaunch": false,
    "category": "General purpose",
    "gpuNum": 0,
    "hideHardwareSpecs": true,
    "memoryGiB": 0,
    "name": "ml.geospatial.interactive",
    "supportedImageNames": [
     "sagemaker-geospatial-v1-0"
    ],
    "vcpuNum": 0
   },
   {
    "_defaultOrder": 21,
    "_isFastLaunch": true,
    "category": "Compute optimized",
    "gpuNum": 0,
    "hideHardwareSpecs": false,
    "memoryGiB": 4,
    "name": "ml.c5.large",
    "vcpuNum": 2
   },
   {
    "_defaultOrder": 22,
    "_isFastLaunch": false,
    "category": "Compute optimized",
    "gpuNum": 0,
    "hideHardwareSpecs": false,
    "memoryGiB": 8,
    "name": "ml.c5.xlarge",
    "vcpuNum": 4
   },
   {
    "_defaultOrder": 23,
    "_isFastLaunch": false,
    "category": "Compute optimized",
    "gpuNum": 0,
    "hideHardwareSpecs": false,
    "memoryGiB": 16,
    "name": "ml.c5.2xlarge",
    "vcpuNum": 8
   },
   {
    "_defaultOrder": 24,
    "_isFastLaunch": false,
    "category": "Compute optimized",
    "gpuNum": 0,
    "hideHardwareSpecs": false,
    "memoryGiB": 32,
    "name": "ml.c5.4xlarge",
    "vcpuNum": 16
   },
   {
    "_defaultOrder": 25,
    "_isFastLaunch": false,
    "category": "Compute optimized",
    "gpuNum": 0,
    "hideHardwareSpecs": false,
    "memoryGiB": 72,
    "name": "ml.c5.9xlarge",
    "vcpuNum": 36
   },
   {
    "_defaultOrder": 26,
    "_isFastLaunch": false,
    "category": "Compute optimized",
    "gpuNum": 0,
    "hideHardwareSpecs": false,
    "memoryGiB": 96,
    "name": "ml.c5.12xlarge",
    "vcpuNum": 48
   },
   {
    "_defaultOrder": 27,
    "_isFastLaunch": false,
    "category": "Compute optimized",
    "gpuNum": 0,
    "hideHardwareSpecs": false,
    "memoryGiB": 144,
    "name": "ml.c5.18xlarge",
    "vcpuNum": 72
   },
   {
    "_defaultOrder": 28,
    "_isFastLaunch": false,
    "category": "Compute optimized",
    "gpuNum": 0,
    "hideHardwareSpecs": false,
    "memoryGiB": 192,
    "name": "ml.c5.24xlarge",
    "vcpuNum": 96
   },
   {
    "_defaultOrder": 29,
    "_isFastLaunch": true,
    "category": "Accelerated computing",
    "gpuNum": 1,
    "hideHardwareSpecs": false,
    "memoryGiB": 16,
    "name": "ml.g4dn.xlarge",
    "vcpuNum": 4
   },
   {
    "_defaultOrder": 30,
    "_isFastLaunch": false,
    "category": "Accelerated computing",
    "gpuNum": 1,
    "hideHardwareSpecs": false,
    "memoryGiB": 32,
    "name": "ml.g4dn.2xlarge",
    "vcpuNum": 8
   },
   {
    "_defaultOrder": 31,
    "_isFastLaunch": false,
    "category": "Accelerated computing",
    "gpuNum": 1,
    "hideHardwareSpecs": false,
    "memoryGiB": 64,
    "name": "ml.g4dn.4xlarge",
    "vcpuNum": 16
   },
   {
    "_defaultOrder": 32,
    "_isFastLaunch": false,
    "category": "Accelerated computing",
    "gpuNum": 1,
    "hideHardwareSpecs": false,
    "memoryGiB": 128,
    "name": "ml.g4dn.8xlarge",
    "vcpuNum": 32
   },
   {
    "_defaultOrder": 33,
    "_isFastLaunch": false,
    "category": "Accelerated computing",
    "gpuNum": 4,
    "hideHardwareSpecs": false,
    "memoryGiB": 192,
    "name": "ml.g4dn.12xlarge",
    "vcpuNum": 48
   },
   {
    "_defaultOrder": 34,
    "_isFastLaunch": false,
    "category": "Accelerated computing",
    "gpuNum": 1,
    "hideHardwareSpecs": false,
    "memoryGiB": 256,
    "name": "ml.g4dn.16xlarge",
    "vcpuNum": 64
   },
   {
    "_defaultOrder": 35,
    "_isFastLaunch": false,
    "category": "Accelerated computing",
    "gpuNum": 1,
    "hideHardwareSpecs": false,
    "memoryGiB": 61,
    "name": "ml.p3.2xlarge",
    "vcpuNum": 8
   },
   {
    "_defaultOrder": 36,
    "_isFastLaunch": false,
    "category": "Accelerated computing",
    "gpuNum": 4,
    "hideHardwareSpecs": false,
    "memoryGiB": 244,
    "name": "ml.p3.8xlarge",
    "vcpuNum": 32
   },
   {
    "_defaultOrder": 37,
    "_isFastLaunch": false,
    "category": "Accelerated computing",
    "gpuNum": 8,
    "hideHardwareSpecs": false,
    "memoryGiB": 488,
    "name": "ml.p3.16xlarge",
    "vcpuNum": 64
   },
   {
    "_defaultOrder": 38,
    "_isFastLaunch": false,
    "category": "Accelerated computing",
    "gpuNum": 8,
    "hideHardwareSpecs": false,
    "memoryGiB": 768,
    "name": "ml.p3dn.24xlarge",
    "vcpuNum": 96
   },
   {
    "_defaultOrder": 39,
    "_isFastLaunch": false,
    "category": "Memory Optimized",
    "gpuNum": 0,
    "hideHardwareSpecs": false,
    "memoryGiB": 16,
    "name": "ml.r5.large",
    "vcpuNum": 2
   },
   {
    "_defaultOrder": 40,
    "_isFastLaunch": false,
    "category": "Memory Optimized",
    "gpuNum": 0,
    "hideHardwareSpecs": false,
    "memoryGiB": 32,
    "name": "ml.r5.xlarge",
    "vcpuNum": 4
   },
   {
    "_defaultOrder": 41,
    "_isFastLaunch": false,
    "category": "Memory Optimized",
    "gpuNum": 0,
    "hideHardwareSpecs": false,
    "memoryGiB": 64,
    "name": "ml.r5.2xlarge",
    "vcpuNum": 8
   },
   {
    "_defaultOrder": 42,
    "_isFastLaunch": false,
    "category": "Memory Optimized",
    "gpuNum": 0,
    "hideHardwareSpecs": false,
    "memoryGiB": 128,
    "name": "ml.r5.4xlarge",
    "vcpuNum": 16
   },
   {
    "_defaultOrder": 43,
    "_isFastLaunch": false,
    "category": "Memory Optimized",
    "gpuNum": 0,
    "hideHardwareSpecs": false,
    "memoryGiB": 256,
    "name": "ml.r5.8xlarge",
    "vcpuNum": 32
   },
   {
    "_defaultOrder": 44,
    "_isFastLaunch": false,
    "category": "Memory Optimized",
    "gpuNum": 0,
    "hideHardwareSpecs": false,
    "memoryGiB": 384,
    "name": "ml.r5.12xlarge",
    "vcpuNum": 48
   },
   {
    "_defaultOrder": 45,
    "_isFastLaunch": false,
    "category": "Memory Optimized",
    "gpuNum": 0,
    "hideHardwareSpecs": false,
    "memoryGiB": 512,
    "name": "ml.r5.16xlarge",
    "vcpuNum": 64
   },
   {
    "_defaultOrder": 46,
    "_isFastLaunch": false,
    "category": "Memory Optimized",
    "gpuNum": 0,
    "hideHardwareSpecs": false,
    "memoryGiB": 768,
    "name": "ml.r5.24xlarge",
    "vcpuNum": 96
   },
   {
    "_defaultOrder": 47,
    "_isFastLaunch": false,
    "category": "Accelerated computing",
    "gpuNum": 1,
    "hideHardwareSpecs": false,
    "memoryGiB": 16,
    "name": "ml.g5.xlarge",
    "vcpuNum": 4
   },
   {
    "_defaultOrder": 48,
    "_isFastLaunch": false,
    "category": "Accelerated computing",
    "gpuNum": 1,
    "hideHardwareSpecs": false,
    "memoryGiB": 32,
    "name": "ml.g5.2xlarge",
    "vcpuNum": 8
   },
   {
    "_defaultOrder": 49,
    "_isFastLaunch": false,
    "category": "Accelerated computing",
    "gpuNum": 1,
    "hideHardwareSpecs": false,
    "memoryGiB": 64,
    "name": "ml.g5.4xlarge",
    "vcpuNum": 16
   },
   {
    "_defaultOrder": 50,
    "_isFastLaunch": false,
    "category": "Accelerated computing",
    "gpuNum": 1,
    "hideHardwareSpecs": false,
    "memoryGiB": 128,
    "name": "ml.g5.8xlarge",
    "vcpuNum": 32
   },
   {
    "_defaultOrder": 51,
    "_isFastLaunch": false,
    "category": "Accelerated computing",
    "gpuNum": 1,
    "hideHardwareSpecs": false,
    "memoryGiB": 256,
    "name": "ml.g5.16xlarge",
    "vcpuNum": 64
   },
   {
    "_defaultOrder": 52,
    "_isFastLaunch": false,
    "category": "Accelerated computing",
    "gpuNum": 4,
    "hideHardwareSpecs": false,
    "memoryGiB": 192,
    "name": "ml.g5.12xlarge",
    "vcpuNum": 48
   },
   {
    "_defaultOrder": 53,
    "_isFastLaunch": false,
    "category": "Accelerated computing",
    "gpuNum": 4,
    "hideHardwareSpecs": false,
    "memoryGiB": 384,
    "name": "ml.g5.24xlarge",
    "vcpuNum": 96
   },
   {
    "_defaultOrder": 54,
    "_isFastLaunch": false,
    "category": "Accelerated computing",
    "gpuNum": 8,
    "hideHardwareSpecs": false,
    "memoryGiB": 768,
    "name": "ml.g5.48xlarge",
    "vcpuNum": 192
   },
   {
    "_defaultOrder": 55,
    "_isFastLaunch": false,
    "category": "Accelerated computing",
    "gpuNum": 8,
    "hideHardwareSpecs": false,
    "memoryGiB": 1152,
    "name": "ml.p4d.24xlarge",
    "vcpuNum": 96
   },
   {
    "_defaultOrder": 56,
    "_isFastLaunch": false,
    "category": "Accelerated computing",
    "gpuNum": 8,
    "hideHardwareSpecs": false,
    "memoryGiB": 1152,
    "name": "ml.p4de.24xlarge",
    "vcpuNum": 96
   },
   {
    "_defaultOrder": 57,
    "_isFastLaunch": false,
    "category": "Accelerated computing",
    "gpuNum": 0,
    "hideHardwareSpecs": false,
    "memoryGiB": 32,
    "name": "ml.trn1.2xlarge",
    "vcpuNum": 8
   },
   {
    "_defaultOrder": 58,
    "_isFastLaunch": false,
    "category": "Accelerated computing",
    "gpuNum": 0,
    "hideHardwareSpecs": false,
    "memoryGiB": 512,
    "name": "ml.trn1.32xlarge",
    "vcpuNum": 128
   },
   {
    "_defaultOrder": 59,
    "_isFastLaunch": false,
    "category": "Accelerated computing",
    "gpuNum": 0,
    "hideHardwareSpecs": false,
    "memoryGiB": 512,
    "name": "ml.trn1n.32xlarge",
    "vcpuNum": 128
   }
  ],
  "instance_type": "ml.t3.medium",
  "kernelspec": {
   "display_name": "Python 3 (Data Science 3.0)",
   "language": "python",
   "name": "python3__SAGEMAKER_INTERNAL__arn:aws:sagemaker:us-east-1:081325390199:image/sagemaker-data-science-310-v1"
  },
  "language_info": {
   "codemirror_mode": {
    "name": "ipython",
    "version": 3
   },
   "file_extension": ".py",
   "mimetype": "text/x-python",
   "name": "python",
   "nbconvert_exporter": "python",
   "pygments_lexer": "ipython3",
   "version": "3.10.6"
  }
 },
 "nbformat": 4,
 "nbformat_minor": 4
}
